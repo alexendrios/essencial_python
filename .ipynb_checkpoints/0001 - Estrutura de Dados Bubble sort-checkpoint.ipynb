{
 "cells": [
  {
   "cell_type": "markdown",
   "metadata": {},
   "source": [
    "<h1><font color='blue'>Estrutura de Dados</font></h1>\n"
   ]
  },
  {
   "cell_type": "markdown",
   "metadata": {},
   "source": [
    "* Estrutura de ordenação -> Tem como objetivo facilitar e recuperar os dados de uma lista\n",
    "\n",
    "Os dados de um programa podem ser armazenados na memória, porém para que passem a ser considerados informação e ter sentido, muitas vezes é necessário ordená-los. Existem várias formas de ordenar os dados, algumas são mais eficientes do que outras, porém as mais eficientes também podem ser as mais complexas de implementar."
   ]
  },
  {
   "cell_type": "markdown",
   "metadata": {},
   "source": [
    "<h3>Bubble sort</h3>"
   ]
  },
  {
   "cell_type": "markdown",
   "metadata": {},
   "source": [
    "Bubble Sort é um algoritmo de ordenação que pode ser aplicado em Arrays e Listas dinâmicas. \n",
    "O bubble sort é um dos algoritmos menos eficientes, contudo mais fáceis de implementar. O termo bubble advém da forma como o vetor é ordenado, como bolhas2 que vão buscando seu lugar emergindo na ordenação desejada do vetor."
   ]
  },
  {
   "cell_type": "code",
   "execution_count": 9,
   "metadata": {},
   "outputs": [
    {
     "name": "stdout",
     "output_type": "stream",
     "text": [
      "[2, 9, 8, 0, 1, 3, 5, 4, 6, 7]\n",
      "[0, 1, 2, 3, 4, 5, 6, 7, 8, 9]\n"
     ]
    }
   ],
   "source": [
    "#exemplo 1\n",
    "def BubbleSort(vetor, tamanho):\n",
    "    trocas = 0\n",
    "    for x in range(0, tamanho-1):\n",
    "        if vetor[x] > vetor[x+1]:\n",
    "            temp = vetor[x]\n",
    "            vetor[x] = vetor[x+1]\n",
    "            vetor[x+1] = temp\n",
    "            trocas = 1\n",
    "    if trocas != 0:\n",
    "        BubbleSort(vetor, tamanho-1)\n",
    "    return vetor\n",
    "\n",
    "vetor = [2, 9, 8, 0, 1, 3, 5, 4, 6, 7]\n",
    "print(vetor)\n",
    "vetor = BubbleSort(vetor, len(vetor))\n",
    "print(vetor)"
   ]
  },
  {
   "cell_type": "code",
   "execution_count": 6,
   "metadata": {},
   "outputs": [
    {
     "name": "stdout",
     "output_type": "stream",
     "text": [
      "[1, 2, 3, 4, 5, 6, 7, 8, 9, 10]\n"
     ]
    }
   ],
   "source": [
    "#sexemplo 2\n",
    "def bubbleSort(argumento):\n",
    "    if len(argumento) <= 1:\n",
    "        ordenamento = argumento\n",
    "    else:\n",
    "        for j in range(0,len(argumento)):\n",
    "            for i in range(0,len(argumento)-1):\n",
    "                if argumento[i] > argumento[i+1]:\n",
    "                    aux = argumento[i+1]\n",
    "                    argumento[i+1] = argumento[i]\n",
    "                    argumento[i] = aux\n",
    "        ordenamento = argumento\n",
    "\n",
    "    return ordenamento\n",
    "\n",
    "a = [10, 9, 5, 3, 8, 7, 2, 6, 4, 1]\n",
    "bubbleSort(a)\n",
    "print(a)"
   ]
  },
  {
   "cell_type": "code",
   "execution_count": 3,
   "metadata": {},
   "outputs": [
    {
     "name": "stdout",
     "output_type": "stream",
     "text": [
      "[1, 2, 3, 4, 5, 6, 7, 8, 9]\n"
     ]
    }
   ],
   "source": [
    "#exemplo 3\n",
    "\n",
    "def sort(array):\n",
    "    for final in range(len(array), 0, -1):\n",
    "        exchange = False\n",
    "        for current in range(0, final - 1):\n",
    "            if array[current] > array[current + 1]:\n",
    "                array[current], array[current + 1] = array[current + 1], array[current]\n",
    "                exchange = True\n",
    "        if not exchange:\n",
    "            break\n",
    "    \n",
    "array = sorted([8, 7, 5, 3, 1, 2, 9, 6, 4])\n",
    "sort(array)\n",
    "print(array)"
   ]
  },
  {
   "cell_type": "markdown",
   "metadata": {},
   "source": [
    "<h3>O vídeo abaixo ilustra o exemplo do <b><font color='blue'>Bubble sort</b></h3></font>"
   ]
  },
  {
   "cell_type": "code",
   "execution_count": 10,
   "metadata": {},
   "outputs": [],
   "source": [
    "from IPython.display import HTML"
   ]
  },
  {
   "cell_type": "code",
   "execution_count": 13,
   "metadata": {},
   "outputs": [
    {
     "data": {
      "text/html": [
       "<iframe width=\"848\" height=\"507\" src=\"https://www.youtube.com/embed/lyZQPjUT5B4\" frameborder=\"0\" allow=\"accelerometer; autoplay; encrypted-media; gyroscope; picture-in-picture\" allowfullscreen></iframe>"
      ],
      "text/plain": [
       "<IPython.core.display.HTML object>"
      ]
     },
     "execution_count": 13,
     "metadata": {},
     "output_type": "execute_result"
    }
   ],
   "source": [
    "HTML('<iframe width=\"848\" height=\"507\" src=\"https://www.youtube.com/embed/lyZQPjUT5B4\" frameborder=\"0\" allow=\"accelerometer; autoplay; encrypted-media; gyroscope; picture-in-picture\" allowfullscreen></iframe>')\n"
   ]
  },
  {
   "cell_type": "code",
   "execution_count": null,
   "metadata": {},
   "outputs": [],
   "source": []
  }
 ],
 "metadata": {
  "kernelspec": {
   "display_name": "Python 3",
   "language": "python",
   "name": "python3"
  },
  "language_info": {
   "codemirror_mode": {
    "name": "ipython",
    "version": 3
   },
   "file_extension": ".py",
   "mimetype": "text/x-python",
   "name": "python",
   "nbconvert_exporter": "python",
   "pygments_lexer": "ipython3",
   "version": "3.7.0"
  }
 },
 "nbformat": 4,
 "nbformat_minor": 2
}

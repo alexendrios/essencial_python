{
 "cells": [
  {
   "cell_type": "markdown",
   "metadata": {},
   "source": [
    "<h1><font color='blue'>Estrutura de Dados</font></h1>"
   ]
  },
  {
   "cell_type": "markdown",
   "metadata": {},
   "source": [
    "<h3>Merge sort</h3>"
   ]
  },
  {
   "cell_type": "markdown",
   "metadata": {},
   "source": [
    "A idéia básica do <b>Merge Sort</b> é criar uma sequência ordenada a partir de duas outras também ordenadas. Para isso, o algoritmo Merge Sort divide a sequência original em pares de dados, agrupa estes pares na ordem desejada; depois as agrupa as sequências de pares já ordenados, formando uma nova sequência ordenada de quatro elementos, e assim por diante, até ter toda a sequência ordenada.\n",
    "\n",
    "Algoritmo:\n",
    "\n",
    "Os três passos úteis dos algoritmos dividir-para-conquistar, que se aplicam ao Merge Sort são:\n",
    "\n",
    "<b>Dividir:</b> Dividir os dados em subsequências pequenas;\n",
    "Este passo é realizado recursivamente, iniciando com a divisão do vetor de n elementos em duas metades, cada uma das metades é novamente dividida em duas novas metades e assim por diante, até que não seja mais possível a divisão (ou seja, sobrem n vetores com um elemento cada).<br/>\n",
    "<b>Conquistar:</b> Classificar as duas metades recursivamente aplicando o merge sort;<br/>\n",
    "<b>Combinar:</b> Juntar as duas metades em um único conjunto já classificado.\n",
    "\n",
    "Para completar a ordenação do vetor original de n elementos, faz-se o merge ou a fusão dos sub-vetores já ordenados.\n",
    "\n",
    "<font color='red'>A desvantagem do Merge Sort é que requer o dobro de memória, ou seja, precisa de um vetor com as mesmas dimensões do vetor que está sendo classificado.</font>"
   ]
  },
  {
   "cell_type": "markdown",
   "metadata": {},
   "source": [
    "Assim, a eficiência do Mergesort depende em quão eficientemente podemos combinar as duas metades ordenadas em um único arranjo ordenado. Podemos simplesmente concatenar as metades e então usar algum algoritmo de ordenação para ordenar o arranjo como um todo, ou então podemos combinar (mesclar, fazer o merge) das duas metades ordenadas em uma única sequência ordenada de forma eficiente. Mas como mesclar dois subvetores ordenados de forma eficiente? A ideia é mais ou menos a seguinte:\n",
    "\n",
    "1 - Seja k o tamanho de cada um dos subvetores V1 e V2.<br/>\n",
    "2 - Crie um vetor auxiliar de tamanho 2k.<br/>\n",
    "3 - Percorra os subvetores, sempre copiando para o vetor auxiliar o menor elemento na posição corrente dos subvetores, só avançando a posição no subvetor que teve o elemento copiado."
   ]
  },
  {
   "cell_type": "code",
   "execution_count": 3,
   "metadata": {},
   "outputs": [
    {
     "name": "stdout",
     "output_type": "stream",
     "text": [
      "Arranjo não ordenado:  [70, 1, 8, 90, 0, 10, 4, 2, 11]\n",
      "Arranjo ordenado: [0, 1, 2, 4, 8, 10, 11, 70, 90]\n"
     ]
    }
   ],
   "source": [
    "def merge(A, aux, esquerda, meio, direita):\n",
    "    \"\"\"\n",
    "    Combina dois vetores ordenados em um único vetor (também ordenado).\n",
    "    \"\"\"\n",
    "    for k in range(esquerda, direita + 1):\n",
    "        aux[k] = A[k]\n",
    "    i = esquerda\n",
    "    j = meio + 1\n",
    "    for k in range(esquerda, direita + 1):\n",
    "        if i > meio:\n",
    "            A[k] = aux[j]\n",
    "            j += 1\n",
    "        elif j > direita:\n",
    "            A[k] = aux[i]\n",
    "            i += 1\n",
    "        elif aux[j] < aux[i]:\n",
    "            A[k] = aux[j]\n",
    "            j += 1\n",
    "        else:\n",
    "            A[k] = aux[i]\n",
    "            i += 1\n",
    "            \n",
    "def mergesort(A, aux, esquerda, direita):\n",
    "    if direita <= esquerda:\n",
    "        return\n",
    "    meio = (esquerda + direita) // 2\n",
    "\n",
    "    # Ordena a primeira metade do arranjo.\n",
    "    mergesort(A, aux, esquerda, meio)\n",
    "    \n",
    "    # Ordena a segunda metade do arranjo.\n",
    "    mergesort(A, aux, meio + 1, direita)\n",
    "\n",
    "    # Combina as duas metades ordenadas anteriormente.\n",
    "    merge(A, aux, esquerda, meio, direita)\n",
    "\n",
    "\n",
    "# Testa o algoritmo.\n",
    "A = [70, 1, 8, 90, 0, 10, 4, 2, 11]\n",
    "print(\"Arranjo não ordenado: \", A)\n",
    "aux = [0] * len(A)\n",
    "mergesort(A, aux, 0, len(A) - 1)\n",
    "print(\"Arranjo ordenado:\", A)"
   ]
  },
  {
   "cell_type": "markdown",
   "metadata": {},
   "source": [
    "<pre>No pior caso, o Mergesort possui complexidade <b>O(nlogn)</b> no número de elementos do vetor de entrada, ele é um algoritmo estável, mas não é in-place, pois usa um vetor auxiliar para combinar os sub-vetores ordenados.\n",
    "\n",
    "<b>Note que a complexidade do Mergesort é inferior à dos algoritmos de ordenação por seleção e inserção. Na verdade, como veremos mais à frente, O(nlogn) é a melhor complexidade que podemos obter para um algoritmo de ordenação genérico. O Bucketsort e o Radixsort possuem complexidade linear, mas não são algoritmos genéricos – eles só funcionam para entradas específicas.</b>\n",
    "\n",
    "Para entender por que o Mergesort possui complexidade O(nlogn), precisamos analisar a complexidade dos dois procedimentos que o compõem:\n",
    "\n",
    "<b>1 - mergesort:</b> simplesmente divide o vetor de entrada em duas metades e invoca o procedimento merge. A divisão do vetor de entrada em dois possui complexidade logarítmica, pois o vetor original é dividido em duas metades logn vezes. Por exemplo, se o vetor de entrada possui tamanho 64, ele será dividido em vetores de tamanhos 32, 16, 8, 4, 2, e 1, ou seja, ele será dividido 6=log64 vezes.\n",
    "<b>2 - merge:</b> o procedimento merge possui complexidade O(n). Entretanto, ele é executado logn vezes para um vetor de tamanho n. Assim, a complexidade final do Mergesort será O(nlogn).</pre>"
   ]
  },
  {
   "cell_type": "code",
   "execution_count": 80,
   "metadata": {},
   "outputs": [
    {
     "name": "stdout",
     "output_type": "stream",
     "text": [
      "[1, 2, 3, 4, 5, 6, 7, 8, 9, 10, 11, 12, 13, 14, 15, 16, 17, 18, 19, 20]\n"
     ]
    }
   ],
   "source": [
    "#implantando\n",
    "#exemplo comentado\n",
    "\n",
    "#cria uma lista de vetor só que ordenados\n",
    "dados = list(range(1, 21))\n",
    "print(dados)"
   ]
  },
  {
   "cell_type": "code",
   "execution_count": 81,
   "metadata": {},
   "outputs": [
    {
     "name": "stdout",
     "output_type": "stream",
     "text": [
      "[13, 15, 16, 1, 11, 8, 9, 7, 12, 19, 10, 20, 5, 3, 14, 17, 4, 18, 2, 6]\n"
     ]
    }
   ],
   "source": [
    "#embaralhando o vetor\n",
    "import random\n",
    "random.shuffle(dados)\n",
    "print(dados)"
   ]
  },
  {
   "cell_type": "code",
   "execution_count": 78,
   "metadata": {},
   "outputs": [],
   "source": [
    "#implementando a função mergesort\n",
    "\n",
    "#função recursiva\n",
    "def mergesort(vetor, posicao_inicial, posicao_final):\n",
    "    #posicao de parada, que momento não será chamado o passo recursivo\n",
    "    if posicao_inicial < posicao_final:\n",
    "        #pois esse é um algoritimo para dividir para conquistar, irá quebrar o vetor em subvetores\n",
    "        posicao_metade_vetor = (posicao_inicial + posicao_final) // 2 \n",
    "        #será dividido o vetor ao meio\n",
    "        \n",
    "        #questão da recursividade\n",
    "        mergesort(vetor, posicao_inicial, posicao_metade_vetor)\n",
    "        #quebra do vetor resultando a criação -> subvetor - localiza que é a metade da esquerda\n",
    "        mergesort(vetor,posicao_metade_vetor + 1, posicao_final)\n",
    "        #quebra do vetor resultando a criação -> subvetor - localiza que é a metade da direita\n",
    "        \n",
    "        #intercalando os subvetores menores\n",
    "        intercalar(vetor, posicao_inicial, posicao_metade_vetor, posicao_final)\n",
    "\n",
    "#intercalar é uma função de observação de dois vetores\n",
    "def intercalar(vetor, posicao_inicial, posicao_metade_vetor, posicao_final):\n",
    "    #duplicando o vetor, pois o mergesort exige a criação de uma cópia fiel do vetor\n",
    "    vetor_temporario = vetor.copy()\n",
    "    #criação de contadores \n",
    "    \n",
    "    #criacao do contador i para o subvetor 1\n",
    "    i = posicao_inicial\n",
    "    #criacao do contador j para o subvetor 2\n",
    "    j = posicao_metade_vetor + 1\n",
    "    #criacao do contador k para o vetor real\n",
    "    k = posicao_inicial\n",
    "    \n",
    "    #momento que a intercalação é efetuada\n",
    "    while k <= posicao_final:\n",
    "        #tratamento de exceções\n",
    "        if i > posicao_metade_vetor:\n",
    "            #exceção referente quando não tiver mais elemento no subvetor 1\n",
    "            vetor[k] = vetor_temporario[j]\n",
    "            j += 1\n",
    "        elif j > posicao_final:\n",
    "            #exceção referente quando não tiver mais elemento no subvetor 1\n",
    "            vetor[k] = vetor_temporario[i] \n",
    "            i += 1\n",
    "        #comparações\n",
    "        elif vetor_temporario[i] <= vetor_temporario[j]:\n",
    "            #o elemento do vetor 1 é igual ao elemento do vetor 2\n",
    "            # ==> retira o elemento do subvetor 1\n",
    "            vetor[k] = vetor_temporario[i]\n",
    "            i += 1\n",
    "        else:\n",
    "            #retira o elemento do subvetor 2\n",
    "            vetor[k] = vetor_temporario[j]\n",
    "            j += 1\n",
    "        k += 1"
   ]
  },
  {
   "cell_type": "code",
   "execution_count": 82,
   "metadata": {},
   "outputs": [
    {
     "name": "stdout",
     "output_type": "stream",
     "text": [
      "[1, 2, 3, 4, 5, 6, 7, 8, 9, 10, 11, 12, 13, 14, 15, 16, 17, 18, 19, 20]\n"
     ]
    }
   ],
   "source": [
    "mergesort(dados, 0, len(dados)-1)\n",
    "print(dados)"
   ]
  }
 ],
 "metadata": {
  "kernelspec": {
   "display_name": "Python 3",
   "language": "python",
   "name": "python3"
  },
  "language_info": {
   "codemirror_mode": {
    "name": "ipython",
    "version": 3
   },
   "file_extension": ".py",
   "mimetype": "text/x-python",
   "name": "python",
   "nbconvert_exporter": "python",
   "pygments_lexer": "ipython3",
   "version": "3.7.0"
  }
 },
 "nbformat": 4,
 "nbformat_minor": 2
}

{
 "cells": [
  {
   "cell_type": "markdown",
   "metadata": {},
   "source": [
    "<h1>Python - Collections</h1>"
   ]
  },
  {
   "cell_type": "markdown",
   "metadata": {},
   "source": [
    "<h3>Lists</h3>"
   ]
  },
  {
   "cell_type": "markdown",
   "metadata": {},
   "source": [
    "<p>Uma lista é a estrutura de dados mais básica do Python e armazena os dados em sequência, onde cada elemento possui sua posição na lista, denominada de índice. O primeiro elemento é sempre o índice zero e a cada elemento inserido na lista esse valor é incrementado.\n",
    "\n",
    "No Python, uma lista pode armazenar qualquer tipo de dado primitivo (string, inteiro, float, etc). Na imagem abaixo podemos ver como uma lista se comporta:</p>\n"
   ]
  },
  {
   "cell_type": "code",
   "execution_count": 17,
   "metadata": {},
   "outputs": [
    {
     "data": {
      "text/html": [
       "<img src='list.jpg',width=200,heigth=300>"
      ],
      "text/plain": [
       "<IPython.core.display.HTML object>"
      ]
     },
     "metadata": {},
     "output_type": "display_data"
    }
   ],
   "source": [
    "%%html\n",
    "<img src='list.jpg',width=200,heigth=300>"
   ]
  },
  {
   "cell_type": "markdown",
   "metadata": {},
   "source": [
    "<h3>Sintaxe</h3>"
   ]
  },
  {
   "cell_type": "code",
   "execution_count": 2,
   "metadata": {},
   "outputs": [],
   "source": [
    "#Para a criação de uma lista no Python, sua sintaxe é bem simples:\n",
    "nome_da_lista = [] #Criação de uma lista vazia\n",
    "nome_da_lista = [1, 2, 3] #Criação de uma lista de inteiros\n",
    "nome_da_lista = [1, \"Olá, mundo!\", 1.1] #Criação de uma lista com vários tipos diferentes de dados"
   ]
  },
  {
   "cell_type": "code",
   "execution_count": 26,
   "metadata": {},
   "outputs": [],
   "source": [
    "#Podemos também criar listas dentro de outras listas. Essas são chamadas de nested lists e sua sintaxe é a seguinte:\n",
    "nome_da_lista = [\"Olá, mundo\",  [1, 2, 3], [\"outra_lista\"]]"
   ]
  },
  {
   "cell_type": "markdown",
   "metadata": {},
   "source": [
    "<h5>Trabalhando com Listas</h5>"
   ]
  },
  {
   "cell_type": "code",
   "execution_count": 27,
   "metadata": {},
   "outputs": [
    {
     "name": "stdout",
     "output_type": "stream",
     "text": [
      "<class 'list'>\n"
     ]
    }
   ],
   "source": [
    "#declarando uma lista\n",
    "lista_simples = []\n",
    "\n",
    "print(type(lista_simples))"
   ]
  },
  {
   "cell_type": "code",
   "execution_count": 28,
   "metadata": {},
   "outputs": [
    {
     "name": "stdout",
     "output_type": "stream",
     "text": [
      "[1, 2, 'carro', 'moto', ['jogo de Futebol', 55.2], True]\n"
     ]
    }
   ],
   "source": [
    "lista_simples = [1, 2, 'carro', 'moto', ['jogo de Futebol', 55.2], True]\n",
    "print(lista_simples)"
   ]
  },
  {
   "cell_type": "markdown",
   "metadata": {},
   "source": [
    "<b><p>Observe que as Listas em python podem conter vários tipos de dados</p></b>"
   ]
  },
  {
   "cell_type": "code",
   "execution_count": 29,
   "metadata": {},
   "outputs": [
    {
     "name": "stdout",
     "output_type": "stream",
     "text": [
      "[1, 2, 'carro', 'moto', ['jogo de Futebol', 55.2], True, [True, 10, 2.5, 'Vida']]\n"
     ]
    }
   ],
   "source": [
    "#Método append\n",
    "lista_simples.append([True, 10, 2.5, 'Vida'])\n",
    "print(lista_simples)"
   ]
  },
  {
   "cell_type": "markdown",
   "metadata": {},
   "source": [
    "<b><p>Observe que as Listas em python podem conter vários tipos de dados, o método append insere um elemento ao final da lista</p></b>"
   ]
  },
  {
   "cell_type": "code",
   "execution_count": 31,
   "metadata": {
    "scrolled": true
   },
   "outputs": [
    {
     "name": "stdout",
     "output_type": "stream",
     "text": [
      "[1, 'novo elemento', 'novo elemento', 2, 'carro', 'moto', ['jogo de Futebol', 55.2], True, [True, 10, 2.5, 'Vida']]\n"
     ]
    }
   ],
   "source": [
    "#método insert\n",
    "lista_simples.insert(1, 'novo elemento')\n",
    "print(lista_simples)"
   ]
  },
  {
   "cell_type": "markdown",
   "metadata": {},
   "source": [
    "<b><p>O método insert, adiciona um elemento na lista passando dois parâmetros</p></b>\n",
    "<code>\n",
    "    lista.insert(posicao, elemnto)\n",
    "</code>"
   ]
  },
  {
   "cell_type": "code",
   "execution_count": 32,
   "metadata": {},
   "outputs": [
    {
     "name": "stdout",
     "output_type": "stream",
     "text": [
      "['novo elemento', 'novo elemento', 2, 'carro', 'moto', ['jogo de Futebol', 55.2], True, [True, 10, 2.5, 'Vida']]\n"
     ]
    }
   ],
   "source": [
    "#Método Remove\n",
    "lista_simples.remove(1)\n",
    "print(lista_simples)"
   ]
  },
  {
   "cell_type": "markdown",
   "metadata": {},
   "source": [
    "<b><p>O método remove, rwemove um elemento da lista passsando o lelemento que gostaria de remover</p></b>\n",
    "<code>\n",
    "    lista.remove(elemnto)\n",
    "</code>"
   ]
  },
  {
   "cell_type": "code",
   "execution_count": 33,
   "metadata": {},
   "outputs": [
    {
     "data": {
      "text/plain": [
       "0"
      ]
     },
     "execution_count": 33,
     "metadata": {},
     "output_type": "execute_result"
    }
   ],
   "source": [
    "#Método index\n",
    "lista_simples.index('novo elemento')"
   ]
  },
  {
   "cell_type": "markdown",
   "metadata": {},
   "source": [
    "<b><p>O método index, retorna a posição de um elemento</p></b>\n",
    "<code>\n",
    "    lista.index(elemnto)\n",
    "</code>"
   ]
  },
  {
   "cell_type": "code",
   "execution_count": 36,
   "metadata": {},
   "outputs": [
    {
     "name": "stdout",
     "output_type": "stream",
     "text": [
      "2\n"
     ]
    }
   ],
   "source": [
    "#Método count\n",
    "dados= [25, 35, 105, 25, 75, 26]\n",
    "print(dados.count(25))"
   ]
  },
  {
   "cell_type": "markdown",
   "metadata": {},
   "source": [
    "<b><p>O método count, irá retornar a quantidades de elementos em uma lista conforme passando o elementocomo parâmetro</p></b>\n",
    "<code>\n",
    "    lista.count(elemnto)\n",
    "</code>"
   ]
  },
  {
   "cell_type": "code",
   "execution_count": 37,
   "metadata": {
    "scrolled": true
   },
   "outputs": [
    {
     "name": "stdout",
     "output_type": "stream",
     "text": [
      "[0, 1, 5, 10, 22, 47, 105, 223]\n"
     ]
    }
   ],
   "source": [
    "#o método sort \n",
    "dados = [105, 47, 223, 0, 22, 10, 5, 1]\n",
    "dados.sort()\n",
    "print(dados)\n"
   ]
  },
  {
   "cell_type": "markdown",
   "metadata": {},
   "source": [
    "<b><p>O método sort, irá ordenar os elementos de uma lista</p></b>\n",
    "<code>\n",
    "    lista.sort()\n",
    "</code>"
   ]
  },
  {
   "cell_type": "code",
   "execution_count": 39,
   "metadata": {},
   "outputs": [
    {
     "name": "stdout",
     "output_type": "stream",
     "text": [
      "[223, 105, 47, 22, 10, 5, 1, 0]\n"
     ]
    }
   ],
   "source": [
    "#o método sort \n",
    "dados = [105, 47, 223, 0, 22, 10, 5, 1]\n",
    "dados.sort(reverse=True)\n",
    "print(dados)"
   ]
  },
  {
   "cell_type": "code",
   "execution_count": 41,
   "metadata": {
    "scrolled": true
   },
   "outputs": [
    {
     "name": "stdout",
     "output_type": "stream",
     "text": [
      "[223, 105, 47, 22, 10, 5, 1, 0]\n"
     ]
    }
   ],
   "source": [
    "#Método deep opy\n",
    "import copy\n",
    "lista = copy.deepcopy(dados)\n",
    "print(lista)"
   ]
  },
  {
   "cell_type": "markdown",
   "metadata": {},
   "source": [
    "<b><p>O método deep copy, irá oirá copiar os elementos de uma lista para outra, para isso faz necessário importar a biblioteca copy/p></b>\n",
    "<code>\n",
    "    import copy\n",
    "    lista1 = copy.deepcopy(lista)\n",
    "</code>"
   ]
  },
  {
   "cell_type": "code",
   "execution_count": 52,
   "metadata": {},
   "outputs": [
    {
     "name": "stdout",
     "output_type": "stream",
     "text": [
      "['a', [5, 7, 'vida'], 47, 22, 10, 5, 1, 0]\n"
     ]
    }
   ],
   "source": [
    "#modificando um elemnto - atravé da posção desse mesmo\n",
    "lista[0]= 'a'\n",
    "print(lista)"
   ]
  },
  {
   "cell_type": "code",
   "execution_count": 48,
   "metadata": {},
   "outputs": [
    {
     "name": "stdout",
     "output_type": "stream",
     "text": [
      "['a', [5, 7, 225], 47, 22, 10, 5, 1, 0]\n"
     ]
    }
   ],
   "source": [
    "lista[1] = [5, 7, 225]\n",
    "print(lista)"
   ]
  },
  {
   "cell_type": "code",
   "execution_count": 49,
   "metadata": {},
   "outputs": [
    {
     "name": "stdout",
     "output_type": "stream",
     "text": [
      "['a', [5, 7, 'vida'], 47, 22, 10, 5, 1, 0]\n"
     ]
    }
   ],
   "source": [
    "lista[1][2] = 'vida'\n",
    "print(lista)"
   ]
  },
  {
   "cell_type": "code",
   "execution_count": 54,
   "metadata": {},
   "outputs": [
    {
     "name": "stdout",
     "output_type": "stream",
     "text": [
      "['a', [5, 7, 'castelo'], 47, 22, 10, 5, 1, 0]\n",
      "['a', [5, 7, 'castelo'], 47, 22, 10, 5, 1, 0]\n"
     ]
    }
   ],
   "source": [
    "#shallow copy - > copia a referência da lista\n",
    "lista2 = copy.copy(lista)\n",
    "lista2[1][2] = 'castelo'\n",
    "print(lista2)\n",
    "print(lista)"
   ]
  },
  {
   "cell_type": "markdown",
   "metadata": {},
   "source": [
    "<h3>Comprehensions List\n",
    "\n",
    "</h3>"
   ]
  },
  {
   "cell_type": "code",
   "execution_count": 2,
   "metadata": {},
   "outputs": [
    {
     "name": "stdout",
     "output_type": "stream",
     "text": [
      "[1, 4, 9, 16, 25]\n"
     ]
    }
   ],
   "source": [
    "nova = [1 , 2 , 3, 4, 5]\n",
    "nova_lista = []\n",
    "for i in nova:\n",
    "    nova_lista.append(i * i)\n",
    "print(nova_lista)"
   ]
  },
  {
   "cell_type": "code",
   "execution_count": 3,
   "metadata": {},
   "outputs": [
    {
     "name": "stdout",
     "output_type": "stream",
     "text": [
      "[1, 4, 9, 16, 25]\n"
     ]
    }
   ],
   "source": [
    "nova_lista_elegante = [i * i for i in nova]\n",
    "print(nova_lista_elegante)"
   ]
  },
  {
   "cell_type": "code",
   "execution_count": 4,
   "metadata": {},
   "outputs": [
    {
     "name": "stdout",
     "output_type": "stream",
     "text": [
      "[1, 4, 9, 16, 25, 36, 49, 64, 81]\n"
     ]
    }
   ],
   "source": [
    "nova_lista_elegante = [i * i for i in range(1, 10)]\n",
    "print(nova_lista_elegante)"
   ]
  },
  {
   "cell_type": "markdown",
   "metadata": {},
   "source": [
    "<h3>Slices</h3>"
   ]
  },
  {
   "cell_type": "code",
   "execution_count": 11,
   "metadata": {},
   "outputs": [
    {
     "name": "stdout",
     "output_type": "stream",
     "text": [
      "[1, 2, 3, 4, 5, 6, 7, 8, 9, 10]\n"
     ]
    }
   ],
   "source": [
    "#retornando uma parte de uma lista\n",
    "lista = list(range(1, 11)) #criando uma lista de 1  a 10\n",
    "print(lista)"
   ]
  },
  {
   "cell_type": "code",
   "execution_count": 13,
   "metadata": {},
   "outputs": [
    {
     "name": "stdout",
     "output_type": "stream",
     "text": [
      "[1, 2, 3, 4, 5]\n"
     ]
    }
   ],
   "source": [
    "#fatiando\n",
    "fatiamento = lista[0:5]\n",
    "print(fatiamento)"
   ]
  },
  {
   "cell_type": "code",
   "execution_count": 14,
   "metadata": {},
   "outputs": [
    {
     "name": "stdout",
     "output_type": "stream",
     "text": [
      "[2, 3, 4, 5, 6, 7, 8, 9, 10]\n"
     ]
    }
   ],
   "source": [
    "#ignorando o primeiro elemento\n",
    "fatiamento = lista[1:]\n",
    "print(fatiamento)"
   ]
  },
  {
   "cell_type": "code",
   "execution_count": 15,
   "metadata": {},
   "outputs": [
    {
     "name": "stdout",
     "output_type": "stream",
     "text": [
      "[1, 2, 3, 4, 5, 6, 7, 8, 9]\n"
     ]
    }
   ],
   "source": [
    "#ignorando o ultimo elemento\n",
    "fatiamento = lista[:9]\n",
    "print(fatiamento)"
   ]
  },
  {
   "cell_type": "code",
   "execution_count": 17,
   "metadata": {},
   "outputs": [
    {
     "name": "stdout",
     "output_type": "stream",
     "text": [
      "[2, 3, 4]\n"
     ]
    }
   ],
   "source": [
    "#método slice\n",
    "intervalo = slice(1, 4)\n",
    "fatiamento = lista[intervalo]\n",
    "print(fatiamento)"
   ]
  },
  {
   "cell_type": "markdown",
   "metadata": {},
   "source": [
    "<h3>Arrays</h3>"
   ]
  },
  {
   "cell_type": "code",
   "execution_count": 16,
   "metadata": {},
   "outputs": [
    {
     "name": "stdout",
     "output_type": "stream",
     "text": [
      "array('b', [5, 4, 3])\n",
      "5\n",
      "4\n",
      "3\n"
     ]
    }
   ],
   "source": [
    "#importando a biblioteca array importando o pacote array\n",
    "from array import array\n",
    "array_1 = array('b', [5,4,3])\n",
    "print(array_1)\n",
    "\n",
    "#imprimindo o array\n",
    "for i in array_1:\n",
    "    print(i)"
   ]
  },
  {
   "cell_type": "markdown",
   "metadata": {},
   "source": [
    "<p>Para criar um array importa o pacote array da biblioteca array</p>\n",
    "<code>\n",
    "    array = array('codigo', [])\n",
    "</code>"
   ]
  },
  {
   "cell_type": "code",
   "execution_count": 17,
   "metadata": {},
   "outputs": [
    {
     "name": "stdout",
     "output_type": "stream",
     "text": [
      "5\n",
      "4\n",
      "3\n",
      "10\n"
     ]
    }
   ],
   "source": [
    "#inserindo elementos nesse array\n",
    "array_1.insert(3, 10)\n",
    "#imprimindo o array\n",
    "for i in array_1:\n",
    "    print(i)"
   ]
  },
  {
   "cell_type": "code",
   "execution_count": 18,
   "metadata": {
    "scrolled": true
   },
   "outputs": [
    {
     "name": "stdout",
     "output_type": "stream",
     "text": [
      "5\n",
      "4\n",
      "3\n",
      "10\n",
      "5\n"
     ]
    }
   ],
   "source": [
    "array_1.append(5)\n",
    "#imprimindo o array\n",
    "for i in array_1:\n",
    "    print(i)"
   ]
  },
  {
   "cell_type": "code",
   "execution_count": 19,
   "metadata": {},
   "outputs": [
    {
     "name": "stdout",
     "output_type": "stream",
     "text": [
      "5\n",
      "3\n",
      "10\n",
      "5\n"
     ]
    }
   ],
   "source": [
    "#removendo dados em um array\n",
    "array_1.remove(4)\n",
    "#imprimindo o array\n",
    "for i in array_1:\n",
    "    print(i)"
   ]
  },
  {
   "cell_type": "code",
   "execution_count": 20,
   "metadata": {},
   "outputs": [
    {
     "name": "stdout",
     "output_type": "stream",
     "text": [
      "2\n"
     ]
    }
   ],
   "source": [
    "elemento = array_1.index(10)\n",
    "print(elemento) #retorna a posição do elemento"
   ]
  },
  {
   "cell_type": "code",
   "execution_count": 24,
   "metadata": {},
   "outputs": [
    {
     "name": "stdout",
     "output_type": "stream",
     "text": [
      "5\n",
      "3\n",
      "20\n",
      "5\n"
     ]
    }
   ],
   "source": [
    "#atualizando\n",
    "array_1[2] = 20\n",
    "#imprimindo o array\n",
    "for i in array_1:\n",
    "    print(i)"
   ]
  },
  {
   "cell_type": "markdown",
   "metadata": {},
   "source": [
    "<b><p>Na posição do index 2 o valor era 10 o mesmo foi atualizado para 20</p></b>"
   ]
  },
  {
   "cell_type": "markdown",
   "metadata": {},
   "source": [
    "<h3>Iterators</h3>"
   ]
  },
  {
   "cell_type": "markdown",
   "metadata": {},
   "source": [
    "<p>No Python, Iterators são objetos que permite que uma coleção de elementos seja percorrida sem a necessidade de qualquer implementação, como o uso do for. Um Iterator possui, basicamente, dois métodos: </p>\n",
    "<code>\n",
    "1 - O método __iter__() que inicializa e retorna o objeto a ser iterado;\n",
    "\n",
    "2 - O método __next__() responsável por retornar o próximo elemento da sequência.\n",
    "</code>\n",
    "<p>Com isso, o uso dos Iterators possui diversas vantagens, como:\n",
    "\n",
    "    Pode trabalhar com sequência infinitas, por não determinar a quantidade de saltos do loop;\n",
    "    Salva os elementos percorridos em sua memória.\n",
    "    Pode trabalhar com diversos tipos de estruturas sem mudar sua implementação, como Tuplas, Listas, Dicionários, etc.\n",
    "</p>"
   ]
  },
  {
   "cell_type": "code",
   "execution_count": 44,
   "metadata": {},
   "outputs": [
    {
     "name": "stdout",
     "output_type": "stream",
     "text": [
      "[1, 2, 3, 4, 5, 6, 7, 8]\n",
      "1\n",
      "2\n",
      "3\n",
      "4\n",
      "5\n",
      "6\n",
      "7\n",
      "8\n"
     ]
    }
   ],
   "source": [
    "#demonstrando o interator\n",
    "lista = list(range(1,9))\n",
    "print(lista)\n",
    "meu_interator = iter(lista)\n",
    "#print(next(meu_interator))\n",
    "#print(next(meu_interator))\n",
    "\n",
    "#for i in lista:\n",
    "    #print(i)\n",
    "\n",
    "while True:\n",
    "    try:\n",
    "        elemento = next(meu_interator)\n",
    "        print(elemento)\n",
    "    except StopIteration:\n",
    "        break"
   ]
  },
  {
   "cell_type": "markdown",
   "metadata": {},
   "source": [
    "<h3>Generators</h3>"
   ]
  },
  {
   "cell_type": "markdown",
   "metadata": {},
   "source": [
    "<p>\n",
    "\n",
    "Assim como os Iterators, os Generators são uma forma de se percorrer elementos no Python sem a necessidade de uma implementação especial para isso, porém com algumas mudanças. Basicamente, um Generator é uma maneira simplificada de se criar Iterators.\n",
    "\n",
    "Com a utilização dos Generators, passamos a utilizar a palavra yield para percorrer e armazenar os elementos da coleção.\n",
    "\n",
    "Vale lembrar que um Generator apenas armazena os elementos percorridos dentro de sua estrutura, depois precisamos percorrer o generator utilizando uma estrutura de repetição.\n",
    "</p>"
   ]
  },
  {
   "cell_type": "code",
   "execution_count": 45,
   "metadata": {},
   "outputs": [
    {
     "name": "stdout",
     "output_type": "stream",
     "text": [
      "0\n",
      "1\n",
      "4\n",
      "9\n",
      "16\n",
      "25\n"
     ]
    }
   ],
   "source": [
    "def eleva_dois(max = 0):\n",
    "    n = 0\n",
    "    while n <= max:\n",
    "        yield n * n\n",
    "        n += 1\n",
    "\n",
    "for i in eleva_dois(5):\n",
    "    print(i)"
   ]
  },
  {
   "cell_type": "markdown",
   "metadata": {},
   "source": [
    "<h3>Tuples</h3>"
   ]
  },
  {
   "cell_type": "markdown",
   "metadata": {},
   "source": [
    "<p>\n",
    "\n",
    "Uma tupla é uma estrutura bastante similar a uma lista, com apenas uma diferença: os elementos inseridos em uma tupla não podem ser alterados, diferente de uma lista onde podem ser alterados livremente. Sendo assim, em um primeiro momento, podemos pensar em uma tupla como uma lista que não pode ser alterada, mas não é bem assim...\n",
    "\n",
    "É certo que as tuplas possuem diversas características das listas, porém os usos são distintos. Phillip J. Eby, contribuidor de vários projetos do Python, certa vez disse:\n",
    "\n",
    "\"É um equívoco pensar nas tuplas como listas constantes. As listas são destinadas a serem sequências homogêneas, enquanto que os Tuplas são estruturas de dados heterogêneas.\".\n",
    "\n",
    "Sendo assim, apesar de bastante similares, a tupla é utilizada para armazenar dados de tipos diferentes, enquanto que a lista é para dados do mesmo tipo.\n",
    "\n",
    "\n",
    "As tuplas possuem algumas vantagens com relação às listas, que são:\n",
    "\n",
    "    Como as tuplas são imutáveis, a iteração sobre elas é mais rápida e, consequentemente, possuem um ganho de desempenho com relação às listas;\n",
    "    Tuplas podem ser utilizadas como chave para um dicionário, já que seus elementos são imutáveis. Já com a lista, isso não é possível;\n",
    "    Se for necessário armazenar dados que não serão alterados, utilize uma tupla. Isso garantirá que esses sejam protegidos de alterações posteriores.\n",
    "</p>"
   ]
  },
  {
   "cell_type": "markdown",
   "metadata": {},
   "source": [
    "<h4>Sintaxe</h4>"
   ]
  },
  {
   "cell_type": "markdown",
   "metadata": {},
   "source": [
    "<p>A sintaxe para criação de uma tupla, assim como uma lista, também é bem simples. Ao invés de se utilizar colchetes (listas), são utilizados parênteses, como podemos ver abaixo:</p>"
   ]
  },
  {
   "cell_type": "code",
   "execution_count": 2,
   "metadata": {},
   "outputs": [],
   "source": [
    "nome_da_tupla = (1, 2, 3) #tupla de inteiros\n",
    "nome_da_tupla = (1, \"olá\", 1.5) #tupla heterogênea"
   ]
  },
  {
   "cell_type": "code",
   "execution_count": 3,
   "metadata": {},
   "outputs": [
    {
     "name": "stdout",
     "output_type": "stream",
     "text": [
      "(1, 2, 3, True, 'Guerra')\n",
      "(1, 2, 3, True, 'Guerra')\n"
     ]
    }
   ],
   "source": [
    "#Observe que os parênteses são opcionais em uma tupla no entanto são boas práticas\n",
    "dados1 = (1, 2, 3, True, 'Guerra')\n",
    "dados2 = 1, 2, 3, True, 'Guerra'\n",
    "\n",
    "print(dados1)\n",
    "print(dados2)"
   ]
  },
  {
   "cell_type": "code",
   "execution_count": 6,
   "metadata": {},
   "outputs": [
    {
     "data": {
      "text/plain": [
       "2"
      ]
     },
     "execution_count": 6,
     "metadata": {},
     "output_type": "execute_result"
    }
   ],
   "source": [
    "#metodos count\n",
    "dados1.count(1)"
   ]
  },
  {
   "cell_type": "markdown",
   "metadata": {},
   "source": [
    "<b><p>O resultado foi dois, porque o um existe na posição 0 e o True em python é considerado como 1</p></b>"
   ]
  },
  {
   "cell_type": "code",
   "execution_count": 8,
   "metadata": {},
   "outputs": [
    {
     "data": {
      "text/plain": [
       "1"
      ]
     },
     "execution_count": 8,
     "metadata": {},
     "output_type": "execute_result"
    }
   ],
   "source": [
    "dados3= (1, 2, 3, False, 'Guerra')\n",
    "dados3.count(0)"
   ]
  },
  {
   "cell_type": "markdown",
   "metadata": {},
   "source": [
    "<b><p>Seguindo o mesmo raciocínio o False é considerado mo 0 então irá retornar 1</p></b>"
   ]
  },
  {
   "cell_type": "code",
   "execution_count": 9,
   "metadata": {},
   "outputs": [
    {
     "data": {
      "text/plain": [
       "3"
      ]
     },
     "execution_count": 9,
     "metadata": {},
     "output_type": "execute_result"
    }
   ],
   "source": [
    "#index\n",
    "dados3.index(False)"
   ]
  },
  {
   "cell_type": "markdown",
   "metadata": {},
   "source": [
    "<b><p>Retorna em qual posição esse elemento está inserido</p></b>"
   ]
  },
  {
   "cell_type": "code",
   "execution_count": 10,
   "metadata": {},
   "outputs": [
    {
     "name": "stdout",
     "output_type": "stream",
     "text": [
      "True\n"
     ]
    }
   ],
   "source": [
    "#verificar a existência de um elemento\n",
    "elemnto_existe = 'Guerra' in dados3\n",
    "print(elemnto_existe)"
   ]
  },
  {
   "cell_type": "markdown",
   "metadata": {},
   "source": [
    "<font size=40 color='red'><b><p>Uma Tupla é Imutável</font></b></p>"
   ]
  },
  {
   "cell_type": "code",
   "execution_count": 13,
   "metadata": {},
   "outputs": [
    {
     "data": {
      "text/plain": [
       "(1, 2, 3, True, 'Guerra', 1, 2, 3, True, 'Guerra')"
      ]
     },
     "execution_count": 13,
     "metadata": {},
     "output_type": "execute_result"
    }
   ],
   "source": [
    "#concartenar uma tupla\n",
    "dados1.__add__(dados2)"
   ]
  },
  {
   "cell_type": "markdown",
   "metadata": {},
   "source": [
    "<h1>Ranges</h1>"
   ]
  },
  {
   "cell_type": "markdown",
   "metadata": {},
   "source": [
    "<p>Ranges são sequências de números imutáveis e muito utilizadas para determinar a quantidade de interações de um loop for. Um range retorna uma lista de elementos no intervalo especificado em sua construção, porém, possui uma grande vantagem quando comparada a uma lista ou uma tupla: apesar de retornar uma lista de elementos, o range utiliza o menor espaço possível para isso.\n",
    "\n",
    "Por exemplo, quando queremos criar uma lista com 10 elementos, é alocado na memória o espaço necessário para armazenar estes 10 elementos. Quando criamos uma lista com 10 elementos utilizando o range, é utilizado um espaço mínimo para armazenar estes dados, já que os elementos são calculados para cada interação e não armazenados no momento de sua criação</p>"
   ]
  },
  {
   "cell_type": "code",
   "execution_count": 17,
   "metadata": {},
   "outputs": [
    {
     "name": "stdout",
     "output_type": "stream",
     "text": [
      "[0, 2, 4, 6, 8]\n"
     ]
    }
   ],
   "source": [
    "#Passando como parâmetro o início, fim e saltos que a lista será criada:\n",
    "r = list(range(0, 10, 2))\n",
    "print(r)"
   ]
  },
  {
   "cell_type": "code",
   "execution_count": 18,
   "metadata": {},
   "outputs": [
    {
     "name": "stdout",
     "output_type": "stream",
     "text": [
      "[0, 1, 2, 3, 4, 5, 6, 7, 8, 9]\n"
     ]
    }
   ],
   "source": [
    "#Passando como parâmetro apenas a quantidade de elementos a serem gerados:\n",
    "r = list(range(10))\n",
    "print(r)"
   ]
  },
  {
   "cell_type": "code",
   "execution_count": 20,
   "metadata": {},
   "outputs": [
    {
     "name": "stdout",
     "output_type": "stream",
     "text": [
      "[0, 1, 2, 3, 4, 5, 6, 7, 8, 9]\n"
     ]
    }
   ],
   "source": [
    "#Passando como parâmetro apenas o início e fim da lista:\n",
    "r = list(range(0, 10))\n",
    "print(r)"
   ]
  },
  {
   "cell_type": "markdown",
   "metadata": {},
   "source": [
    "<font color='red'><b><p>As listas de elementos criadas a partir do range não podem ser alteradas, respeitando sua imutabilidade.</font></b></p>"
   ]
  },
  {
   "cell_type": "markdown",
   "metadata": {},
   "source": [
    "<h3>Sets</h3>"
   ]
  },
  {
   "cell_type": "markdown",
   "metadata": {},
   "source": [
    "<p>\n",
    "\n",
    "No Python, os sets são uma coleção de itens desordenada, parcialmente imutável e que não podem conter elementos duplicados. Por ser parcialmente imutável, os sets possuem permissão de adição e remoção de elementos.\n",
    "\n",
    "Além disso, os sets são utilizados, normalmente, com operações matemáticas de união, interseção e diferença simétrica, conforme veremos nos próximos tópicos.\n",
    "</p>"
   ]
  },
  {
   "cell_type": "markdown",
   "metadata": {},
   "source": [
    "<h3>Sintaxe</h3>"
   ]
  },
  {
   "cell_type": "markdown",
   "metadata": {},
   "source": [
    "<p>Para a criação de um set no Python há duas formas: A primeira é bem similar às listas e tuplas, porém utilizando chaves {} para determinar os elementos do set:</p>"
   ]
  },
  {
   "cell_type": "code",
   "execution_count": 24,
   "metadata": {},
   "outputs": [
    {
     "name": "stdout",
     "output_type": "stream",
     "text": [
      "{1, 2, 3, 4}\n"
     ]
    }
   ],
   "source": [
    "nome_do_set = {1, 2, 3, 4}\n",
    "print(nome_do_set)"
   ]
  },
  {
   "cell_type": "code",
   "execution_count": 25,
   "metadata": {},
   "outputs": [
    {
     "name": "stdout",
     "output_type": "stream",
     "text": [
      "{1, 2, 3, 4}\n"
     ]
    }
   ],
   "source": [
    " #segunda é utilizando o método set presente no Python:\n",
    "nome_do_set = set([1, 2, 3, 4]) \n",
    "print(nome_do_set)"
   ]
  },
  {
   "cell_type": "markdown",
   "metadata": {},
   "source": [
    "<font color='red'><b><p>Um set é parcialmente imutável, quer dizer que pode - se adicionar e remover elementos, no entanto não é possível editar os elementos </font></b></p>"
   ]
  },
  {
   "cell_type": "code",
   "execution_count": 31,
   "metadata": {},
   "outputs": [
    {
     "name": "stdout",
     "output_type": "stream",
     "text": [
      "{1, 2, 3, 4, 5}\n"
     ]
    }
   ],
   "source": [
    "#adicionando dados no set -> método add\n",
    "nome_do_set.add(5)\n",
    "print(nome_do_set)"
   ]
  },
  {
   "cell_type": "code",
   "execution_count": 34,
   "metadata": {},
   "outputs": [
    {
     "name": "stdout",
     "output_type": "stream",
     "text": [
      "{1, 2, 3, 4, 5, 6, 7}\n"
     ]
    }
   ],
   "source": [
    "#Realizando um update  -> metodo updade\n",
    "nome_do_set.update([3, 4, 5, 6, 7])\n",
    "print(nome_do_set)"
   ]
  },
  {
   "cell_type": "markdown",
   "metadata": {},
   "source": [
    "<font color='red'><b><p>O método set não admite valores duplicados ele ignora, em caso forem adicionados</font></b></p>"
   ]
  },
  {
   "cell_type": "code",
   "execution_count": 37,
   "metadata": {},
   "outputs": [
    {
     "name": "stdout",
     "output_type": "stream",
     "text": [
      "{1, 2, 3, 4, 5, 7}\n"
     ]
    }
   ],
   "source": [
    "#removendo elementos do set m´prtodo discard\n",
    "nome_do_set.discard(6)\n",
    "print(nome_do_set)"
   ]
  },
  {
   "cell_type": "markdown",
   "metadata": {},
   "source": [
    "<h4>Operações com Set</h4>"
   ]
  },
  {
   "cell_type": "code",
   "execution_count": 43,
   "metadata": {
    "scrolled": true
   },
   "outputs": [
    {
     "name": "stdout",
     "output_type": "stream",
     "text": [
      "{2, 3, 4, 5, 7, 9}\n"
     ]
    }
   ],
   "source": [
    "#Operações munião de sets\n",
    "set1 = {5, 3, 2}\n",
    "set2 = {4, 7, 9}\n",
    "uniao_sets = set1 | set2\n",
    "print(uniao_sets )"
   ]
  },
  {
   "cell_type": "code",
   "execution_count": 44,
   "metadata": {},
   "outputs": [
    {
     "name": "stdout",
     "output_type": "stream",
     "text": [
      "{2, 3, 4, 5, 7, 9}\n"
     ]
    }
   ],
   "source": [
    "#Operações munião de sets - 2ª forma\n",
    "uniao_sets = set1.union(set2)\n",
    "print(uniao_sets )"
   ]
  },
  {
   "cell_type": "code",
   "execution_count": 47,
   "metadata": {},
   "outputs": [
    {
     "name": "stdout",
     "output_type": "stream",
     "text": [
      "{5}\n"
     ]
    }
   ],
   "source": [
    "#interserção\n",
    "set1 = {5, 3, 2}\n",
    "set2 = {4, 7, 5}\n",
    "uniao_sets = set1 & set2\n",
    "print(uniao_sets )"
   ]
  },
  {
   "cell_type": "code",
   "execution_count": 48,
   "metadata": {},
   "outputs": [
    {
     "name": "stdout",
     "output_type": "stream",
     "text": [
      "{5}\n"
     ]
    }
   ],
   "source": [
    "#interserção - 2ª forma\n",
    "uniao_sets = set1.intersection(set2)\n",
    "print(uniao_sets )"
   ]
  },
  {
   "cell_type": "code",
   "execution_count": 50,
   "metadata": {},
   "outputs": [
    {
     "name": "stdout",
     "output_type": "stream",
     "text": [
      "{2, 3}\n"
     ]
    }
   ],
   "source": [
    "#Diferença entre dois set\n",
    "diferanca_entre_sets = set1 - set2 #aqui irá retornar tudo que tem no set1 e não está presente no set2\n",
    "print(diferanca_entre_sets)"
   ]
  },
  {
   "cell_type": "code",
   "execution_count": 51,
   "metadata": {},
   "outputs": [
    {
     "name": "stdout",
     "output_type": "stream",
     "text": [
      "{2, 3}\n"
     ]
    }
   ],
   "source": [
    "#Diferença entre dois set 2ª forma\n",
    "diferanca_entre_sets = set1.difference(set2) #aqui irá retornar tudo que tem no set1 e não está presente no set2\n",
    "print(diferanca_entre_sets)"
   ]
  },
  {
   "cell_type": "code",
   "execution_count": 52,
   "metadata": {},
   "outputs": [
    {
     "name": "stdout",
     "output_type": "stream",
     "text": [
      "{2, 3, 4, 7}\n"
     ]
    }
   ],
   "source": [
    "#difernça simétrica\n",
    "diferanca_entre_sets = set1 ^ set2 #aqui irá retornar os valores que não estão presente no set1 e os valores que não estão presente no set2\n",
    "print(diferanca_entre_sets)"
   ]
  },
  {
   "cell_type": "code",
   "execution_count": 53,
   "metadata": {},
   "outputs": [
    {
     "name": "stdout",
     "output_type": "stream",
     "text": [
      "{2, 3, 4, 7}\n"
     ]
    }
   ],
   "source": [
    "#difernça simétrica 2ª forma\n",
    "diferanca_entre_sets = set1.symmetric_difference(set2)  #aqui irá retornar os valores que não estão presente no set1 e os valores que não estão presente no set2\n",
    "print(diferanca_entre_sets)"
   ]
  },
  {
   "cell_type": "markdown",
   "metadata": {},
   "source": [
    "<h4>Set comprehension</h4>"
   ]
  },
  {
   "cell_type": "code",
   "execution_count": 7,
   "metadata": {},
   "outputs": [
    {
     "name": "stdout",
     "output_type": "stream",
     "text": [
      "{0, 1, 2, 3, 4, 5, 6, 7, 8}\n"
     ]
    }
   ],
   "source": [
    "set_comprehension = { i for i in range(0, 9)}\n",
    "print(set_comprehension)"
   ]
  },
  {
   "cell_type": "code",
   "execution_count": 9,
   "metadata": {},
   "outputs": [
    {
     "name": "stdout",
     "output_type": "stream",
     "text": [
      "{0, 1, 3, 5, 7, 8, 10, 14, 20}\n"
     ]
    }
   ],
   "source": [
    "set1 = {1, 3, 5, 8, 10}\n",
    "set2 = {0, 7, 20, 10, 14}\n",
    "set_comprehension = {i for i in set1.union(set2)}\n",
    "print(set_comprehension)"
   ]
  },
  {
   "cell_type": "markdown",
   "metadata": {},
   "source": [
    "<h3>Sets imutáveis: frozensets</h3>"
   ]
  },
  {
   "cell_type": "code",
   "execution_count": 14,
   "metadata": {},
   "outputs": [
    {
     "name": "stdout",
     "output_type": "stream",
     "text": [
      "frozenset({1, 5, 6})\n",
      "1\n",
      "5\n",
      "6\n"
     ]
    }
   ],
   "source": [
    "#frozensets - não ser]ao alterados os sets criado com essa estrutura\n",
    "frozensets_1 = frozenset({1 , 5, 6})\n",
    "print(frozensets_1)\n",
    "for i in frozensets_1:\n",
    "    print(i)"
   ]
  },
  {
   "cell_type": "markdown",
   "metadata": {},
   "source": [
    "<h3>Dictionaries</h3>"
   ]
  },
  {
   "cell_type": "markdown",
   "metadata": {},
   "source": [
    "<p>No Python, os dicionários são coleções de itens desordenados com uma diferença bem grande quando comparados às outras coleções (lists, sets, tuples, etc): um elemento dentro de um dicionário possui uma chave atrelada a ele, uma espécie de identificador. Sendo assim, é muito utilizado quando queremos armazenar dados de forma organizada e que possuem identificação única (como acontece em bancos de dados).\n",
    "\n",
    "Um dicionário, portanto, pode ser visto como a figura abaixo:</p>"
   ]
  },
  {
   "cell_type": "code",
   "execution_count": 19,
   "metadata": {},
   "outputs": [
    {
     "data": {
      "text/html": [
       "<img src='dicionarios.jpg',width=200,heigth=300>"
      ],
      "text/plain": [
       "<IPython.core.display.HTML object>"
      ]
     },
     "metadata": {},
     "output_type": "display_data"
    }
   ],
   "source": [
    "%%html\n",
    "<img src='dicionarios.jpg',width=200,heigth=300>"
   ]
  },
  {
   "cell_type": "markdown",
   "metadata": {},
   "source": [
    "<p>Onde cada valor é \"atrelado\" à uma chave, seu identificador. Vale lembrar que, por necessitar que cada valor possua uma chave relacionada a ele, as chaves dos dicionários devem ser únicas para que possam ser acessadas, também, através do seu índice.\n",
    "\n",
    "As chaves também não são armazenadas em qualquer ordem, elas apenas são associadas aos valores que pertencem.</p>"
   ]
  },
  {
   "cell_type": "markdown",
   "metadata": {},
   "source": [
    "<h3>Sintaxe</h3>"
   ]
  },
  {
   "cell_type": "markdown",
   "metadata": {},
   "source": [
    "<p>Existem duas formas de se criar um dicionário utilizando o Python. A primeira delas é utilizando os colchetes ( {} ) e separando os elementos das chaves com dois pontos ( : ) e os outros elementos por vírgula ( , ):</p>"
   ]
  },
  {
   "cell_type": "code",
   "execution_count": 27,
   "metadata": {},
   "outputs": [
    {
     "name": "stdout",
     "output_type": "stream",
     "text": [
      "<class 'dict'>\n",
      "<class 'dict'>\n"
     ]
    }
   ],
   "source": [
    "nome_do_dicionario1 = {1: 'João', 2: 'José'}\n",
    "nome_do_dicionario2 = {'nome': 'João', 'sobrenome': 'Silva'}\n",
    "print(type(nome_do_dicionario1))\n",
    "print(type(nome_do_dicionario1))"
   ]
  },
  {
   "cell_type": "code",
   "execution_count": 29,
   "metadata": {},
   "outputs": [
    {
     "name": "stdout",
     "output_type": "stream",
     "text": [
      "<class 'dict'>\n",
      "<class 'dict'>\n"
     ]
    }
   ],
   "source": [
    "#A segunda forma é utilizando o método dict() com o dicionário sendo passado como parâmetro:\n",
    "nome_do_dicionario1 = dict({1: 'João', 2: 'José'})\n",
    "nome_do_dicionario2 = dict({'nome': 'João', 'sobrenome': 'Silva'})\n",
    "print(type(nome_do_dicionario1))\n",
    "print(type(nome_do_dicionario1))"
   ]
  },
  {
   "cell_type": "code",
   "execution_count": 32,
   "metadata": {},
   "outputs": [
    {
     "name": "stdout",
     "output_type": "stream",
     "text": [
      "João\n",
      "João\n"
     ]
    }
   ],
   "source": [
    "#acessando o conteúdo do dicinário\n",
    "print(nome_do_dicionario1[1]) #Passa o nome da da chave\n",
    "print(nome_do_dicionario2['nome']) #Passa o nome da da chave"
   ]
  },
  {
   "cell_type": "code",
   "execution_count": 33,
   "metadata": {},
   "outputs": [
    {
     "name": "stdout",
     "output_type": "stream",
     "text": [
      "nome\n",
      "sobrenome\n"
     ]
    }
   ],
   "source": [
    "#interando sobre um dicionário\n",
    "for i in nome_do_dicionario2:\n",
    "    print(i)\n",
    "#retorna apenas as chaves"
   ]
  },
  {
   "cell_type": "code",
   "execution_count": 37,
   "metadata": {},
   "outputs": [
    {
     "name": "stdout",
     "output_type": "stream",
     "text": [
      "nome João\n",
      "sobrenome Silva\n"
     ]
    }
   ],
   "source": [
    "#interando sobre um dicionário\n",
    "for chave, valor in nome_do_dicionario2.items():\n",
    "    print(chave, valor)"
   ]
  },
  {
   "cell_type": "markdown",
   "metadata": {},
   "source": [
    "<h4>Operações sobre dictionaries</h4>"
   ]
  },
  {
   "cell_type": "code",
   "execution_count": 42,
   "metadata": {},
   "outputs": [
    {
     "name": "stdout",
     "output_type": "stream",
     "text": [
      "José\n"
     ]
    }
   ],
   "source": [
    "#metodo get\n",
    "nome_do_dicionario = dict({1: 'Maria', 2: 'José', 3: 'Pedro'})\n",
    "print(nome_do_dicionario.get(2))"
   ]
  },
  {
   "cell_type": "markdown",
   "metadata": {},
   "source": [
    "<font color='red'><b><p>O método get o parâmetro passado é o nome da chave que irá retornar o valor atribuido a essa chave</font></b></p>"
   ]
  },
  {
   "cell_type": "code",
   "execution_count": 44,
   "metadata": {},
   "outputs": [
    {
     "name": "stdout",
     "output_type": "stream",
     "text": [
      "3\n"
     ]
    }
   ],
   "source": [
    "#tamanho do dicionário - método len\n",
    "print(len(nome_do_dicionario))"
   ]
  },
  {
   "cell_type": "code",
   "execution_count": 45,
   "metadata": {},
   "outputs": [
    {
     "name": "stdout",
     "output_type": "stream",
     "text": [
      "{1: 'Maria', 3: 'Pedro'}\n"
     ]
    }
   ],
   "source": [
    "#Remover elementos de um dicionário - Método pop\n",
    "nome_do_dicionario.pop(2)\n",
    "print(nome_do_dicionario)"
   ]
  },
  {
   "cell_type": "markdown",
   "metadata": {},
   "source": [
    "<font color='red'><b><p>Para remover um elemento do Dicionário utiliza o método pop(índice)</font></b></p>"
   ]
  },
  {
   "cell_type": "code",
   "execution_count": 47,
   "metadata": {},
   "outputs": [
    {
     "name": "stdout",
     "output_type": "stream",
     "text": [
      "{}\n"
     ]
    }
   ],
   "source": [
    "#limpa o dicionário - método clear\n",
    "nome_do_dicionario.clear()\n",
    "print(nome_do_dicionario)"
   ]
  },
  {
   "cell_type": "code",
   "execution_count": 48,
   "metadata": {},
   "outputs": [
    {
     "name": "stdout",
     "output_type": "stream",
     "text": [
      "dict_keys([1, 2, 3])\n"
     ]
    }
   ],
   "source": [
    "#método que retorna todas as chaves do dcionário\n",
    "nome_do_dicionario = dict({1: 'Maria', 2: 'José', 3: 'Pedro'})\n",
    "print(nome_do_dicionario.keys())"
   ]
  },
  {
   "cell_type": "code",
   "execution_count": 51,
   "metadata": {},
   "outputs": [
    {
     "name": "stdout",
     "output_type": "stream",
     "text": [
      "{1: 'Maria', 2: 'José', 3: 'Pedro', 5: 'Samuel'}\n"
     ]
    }
   ],
   "source": [
    "#adicionando elementos no dicionário 1ª forma\n",
    "nome_do_dicionario[5] = 'Samuel'\n",
    "print(nome_do_dicionario)"
   ]
  },
  {
   "cell_type": "code",
   "execution_count": 54,
   "metadata": {},
   "outputs": [
    {
     "name": "stdout",
     "output_type": "stream",
     "text": [
      "{1: 'Maria', 2: 'José', 3: 'Pedro', 5: 'Samuel', 6: 'Raquel'}\n"
     ]
    }
   ],
   "source": [
    "#adicionando elementos no dicionário 2ª forma\n",
    "nome_do_dicionario.update({6: 'Raquel'})\n",
    "print(nome_do_dicionario)"
   ]
  },
  {
   "cell_type": "markdown",
   "metadata": {},
   "source": [
    "<h3>Listas como Pilhas (Queues)<h3>"
   ]
  },
  {
   "cell_type": "code",
   "execution_count": 56,
   "metadata": {},
   "outputs": [
    {
     "name": "stdout",
     "output_type": "stream",
     "text": [
      "[1, 2, 3, 4, 5]\n"
     ]
    }
   ],
   "source": [
    "pilha = [1, 2, 3, 4]\n",
    "pilha.append(5)\n",
    "print(pilha)"
   ]
  },
  {
   "cell_type": "code",
   "execution_count": 57,
   "metadata": {},
   "outputs": [
    {
     "name": "stdout",
     "output_type": "stream",
     "text": [
      "[1, 2, 3, 4]\n"
     ]
    }
   ],
   "source": [
    "#Removendo o elemento com o comportamento de uma pilha\n",
    "pilha.pop()\n",
    "print(pilha)"
   ]
  },
  {
   "cell_type": "markdown",
   "metadata": {},
   "source": [
    "<h3>Listas como Fila (Queues)<h3>"
   ]
  },
  {
   "cell_type": "code",
   "execution_count": 67,
   "metadata": {},
   "outputs": [
    {
     "name": "stdout",
     "output_type": "stream",
     "text": [
      "deque([1, 2, 3, 4, 5])\n"
     ]
    }
   ],
   "source": [
    "from collections import deque \n",
    "fila = deque([1, 2, 3, 4])\n",
    "fila.append(5)\n",
    "print(fila)"
   ]
  },
  {
   "cell_type": "code",
   "execution_count": 68,
   "metadata": {},
   "outputs": [
    {
     "name": "stdout",
     "output_type": "stream",
     "text": [
      "deque([2, 3, 4, 5])\n"
     ]
    }
   ],
   "source": [
    "#Removendo o elemento com o comportamento de uma fila\n",
    "fila.popleft()\n",
    "print(fila)"
   ]
  }
 ],
 "metadata": {
  "kernelspec": {
   "display_name": "Python 3",
   "language": "python",
   "name": "python3"
  },
  "language_info": {
   "codemirror_mode": {
    "name": "ipython",
    "version": 3
   },
   "file_extension": ".py",
   "mimetype": "text/x-python",
   "name": "python",
   "nbconvert_exporter": "python",
   "pygments_lexer": "ipython3",
   "version": "3.7.0"
  }
 },
 "nbformat": 4,
 "nbformat_minor": 2
}

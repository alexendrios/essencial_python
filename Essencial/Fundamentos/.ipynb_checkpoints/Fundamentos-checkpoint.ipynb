{
 "cells": [
  {
   "cell_type": "markdown",
   "metadata": {
    "colab_type": "text",
    "id": "EgNXXATvPGiz"
   },
   "source": [
    "**Primeiros Passos:**"
   ]
  },
  {
   "cell_type": "code",
   "execution_count": 1,
   "metadata": {
    "colab": {
     "base_uri": "https://localhost:8080/",
     "height": 36
    },
    "colab_type": "code",
    "executionInfo": {
     "elapsed": 1394,
     "status": "ok",
     "timestamp": 1566308111535,
     "user": {
      "displayName": "Alexandre Santos",
      "photoUrl": "https://lh4.googleusercontent.com/-GCmUu6FB55Q/AAAAAAAAAAI/AAAAAAAAAAc/jmixclz7KqE/s64/photo.jpg",
      "userId": "08960058364369820557"
     },
     "user_tz": 180
    },
    "id": "Itk8-AG6Ooim",
    "outputId": "031edb1a-538d-44ec-a206-dd8373b0f0f7"
   },
   "outputs": [
    {
     "data": {
      "text/plain": [
       "11"
      ]
     },
     "execution_count": 1,
     "metadata": {
      "tags": []
     },
     "output_type": "execute_result"
    }
   ],
   "source": [
    "5 + 6"
   ]
  },
  {
   "cell_type": "code",
   "execution_count": 2,
   "metadata": {
    "colab": {
     "base_uri": "https://localhost:8080/",
     "height": 36
    },
    "colab_type": "code",
    "executionInfo": {
     "elapsed": 719,
     "status": "ok",
     "timestamp": 1566308170920,
     "user": {
      "displayName": "Alexandre Santos",
      "photoUrl": "https://lh4.googleusercontent.com/-GCmUu6FB55Q/AAAAAAAAAAI/AAAAAAAAAAc/jmixclz7KqE/s64/photo.jpg",
      "userId": "08960058364369820557"
     },
     "user_tz": 180
    },
    "id": "lhQhOPhHPR3m",
    "outputId": "08b1e477-e8dc-40b7-d5e3-25f4752104ec"
   },
   "outputs": [
    {
     "data": {
      "text/plain": [
       "11"
      ]
     },
     "execution_count": 2,
     "metadata": {
      "tags": []
     },
     "output_type": "execute_result"
    }
   ],
   "source": [
    "valor1 = 5\n",
    "valor2 = 6\n",
    "\n",
    "soma = valor1 + valor2\n",
    "soma"
   ]
  },
  {
   "cell_type": "code",
   "execution_count": 3,
   "metadata": {
    "colab": {
     "base_uri": "https://localhost:8080/",
     "height": 36
    },
    "colab_type": "code",
    "executionInfo": {
     "elapsed": 744,
     "status": "ok",
     "timestamp": 1566308284330,
     "user": {
      "displayName": "Alexandre Santos",
      "photoUrl": "https://lh4.googleusercontent.com/-GCmUu6FB55Q/AAAAAAAAAAI/AAAAAAAAAAc/jmixclz7KqE/s64/photo.jpg",
      "userId": "08960058364369820557"
     },
     "user_tz": 180
    },
    "id": "udDzSc7LP40k",
    "outputId": "9709e662-ef69-4707-bfe8-24796aef6dd3"
   },
   "outputs": [
    {
     "name": "stdout",
     "output_type": "stream",
     "text": [
      "Olá\n"
     ]
    }
   ],
   "source": [
    "print(\"Olá\")"
   ]
  },
  {
   "cell_type": "code",
   "execution_count": 4,
   "metadata": {
    "colab": {
     "base_uri": "https://localhost:8080/",
     "height": 36
    },
    "colab_type": "code",
    "executionInfo": {
     "elapsed": 633,
     "status": "ok",
     "timestamp": 1566308572413,
     "user": {
      "displayName": "Alexandre Santos",
      "photoUrl": "https://lh4.googleusercontent.com/-GCmUu6FB55Q/AAAAAAAAAAI/AAAAAAAAAAc/jmixclz7KqE/s64/photo.jpg",
      "userId": "08960058364369820557"
     },
     "user_tz": 180
    },
    "id": "i2QyloWwRABt",
    "outputId": "9f79ea8f-70f6-4896-b2a3-f7557c4f2fe1"
   },
   "outputs": [
    {
     "data": {
      "text/plain": [
       "1.3333333333333333"
      ]
     },
     "execution_count": 4,
     "metadata": {
      "tags": []
     },
     "output_type": "execute_result"
    }
   ],
   "source": [
    "4/3"
   ]
  },
  {
   "cell_type": "markdown",
   "metadata": {
    "colab_type": "text",
    "id": "1PX31sABRH5i"
   },
   "source": [
    "**Números**\n",
    "\n"
   ]
  },
  {
   "cell_type": "code",
   "execution_count": 5,
   "metadata": {
    "colab": {
     "base_uri": "https://localhost:8080/",
     "height": 36
    },
    "colab_type": "code",
    "executionInfo": {
     "elapsed": 693,
     "status": "ok",
     "timestamp": 1566308929063,
     "user": {
      "displayName": "Alexandre Santos",
      "photoUrl": "https://lh4.googleusercontent.com/-GCmUu6FB55Q/AAAAAAAAAAI/AAAAAAAAAAc/jmixclz7KqE/s64/photo.jpg",
      "userId": "08960058364369820557"
     },
     "user_tz": 180
    },
    "id": "jAJPTR0SRTl_",
    "outputId": "1a2ef7fa-17a6-4804-fb11-ace32667591d"
   },
   "outputs": [
    {
     "data": {
      "text/plain": [
       "11"
      ]
     },
     "execution_count": 5,
     "metadata": {
      "tags": []
     },
     "output_type": "execute_result"
    }
   ],
   "source": [
    "#Soma\n",
    "5 + 6"
   ]
  },
  {
   "cell_type": "code",
   "execution_count": 6,
   "metadata": {
    "colab": {
     "base_uri": "https://localhost:8080/",
     "height": 36
    },
    "colab_type": "code",
    "executionInfo": {
     "elapsed": 652,
     "status": "ok",
     "timestamp": 1566310204046,
     "user": {
      "displayName": "Alexandre Santos",
      "photoUrl": "https://lh4.googleusercontent.com/-GCmUu6FB55Q/AAAAAAAAAAI/AAAAAAAAAAc/jmixclz7KqE/s64/photo.jpg",
      "userId": "08960058364369820557"
     },
     "user_tz": 180
    },
    "id": "qkW9hgsrXNzd",
    "outputId": "798b64b0-69d1-4206-be6d-1eb0217cc9e0"
   },
   "outputs": [
    {
     "data": {
      "text/plain": [
       "-1"
      ]
     },
     "execution_count": 6,
     "metadata": {
      "tags": []
     },
     "output_type": "execute_result"
    }
   ],
   "source": [
    "#subtração\n",
    "10 - 11"
   ]
  },
  {
   "cell_type": "code",
   "execution_count": 7,
   "metadata": {
    "colab": {
     "base_uri": "https://localhost:8080/",
     "height": 36
    },
    "colab_type": "code",
    "executionInfo": {
     "elapsed": 695,
     "status": "ok",
     "timestamp": 1566310219422,
     "user": {
      "displayName": "Alexandre Santos",
      "photoUrl": "https://lh4.googleusercontent.com/-GCmUu6FB55Q/AAAAAAAAAAI/AAAAAAAAAAc/jmixclz7KqE/s64/photo.jpg",
      "userId": "08960058364369820557"
     },
     "user_tz": 180
    },
    "id": "FATjmQ4SXRmF",
    "outputId": "a0ef0a67-7116-4623-f7be-6ede8583dde0"
   },
   "outputs": [
    {
     "data": {
      "text/plain": [
       "30"
      ]
     },
     "execution_count": 7,
     "metadata": {
      "tags": []
     },
     "output_type": "execute_result"
    }
   ],
   "source": [
    "# mutiplicação\n",
    "6 * 5 "
   ]
  },
  {
   "cell_type": "code",
   "execution_count": 11,
   "metadata": {
    "colab": {
     "base_uri": "https://localhost:8080/",
     "height": 36
    },
    "colab_type": "code",
    "executionInfo": {
     "elapsed": 728,
     "status": "ok",
     "timestamp": 1566310312585,
     "user": {
      "displayName": "Alexandre Santos",
      "photoUrl": "https://lh4.googleusercontent.com/-GCmUu6FB55Q/AAAAAAAAAAI/AAAAAAAAAAc/jmixclz7KqE/s64/photo.jpg",
      "userId": "08960058364369820557"
     },
     "user_tz": 180
    },
    "id": "kfydl7sgXUhT",
    "outputId": "1d7a53aa-2a5e-42a9-df5c-f28eb47ea567"
   },
   "outputs": [
    {
     "data": {
      "text/plain": [
       "7.5"
      ]
     },
     "execution_count": 11,
     "metadata": {
      "tags": []
     },
     "output_type": "execute_result"
    }
   ],
   "source": [
    "#divisão\n",
    "15 / 2 "
   ]
  },
  {
   "cell_type": "code",
   "execution_count": 12,
   "metadata": {
    "colab": {
     "base_uri": "https://localhost:8080/",
     "height": 36
    },
    "colab_type": "code",
    "executionInfo": {
     "elapsed": 608,
     "status": "ok",
     "timestamp": 1566310320278,
     "user": {
      "displayName": "Alexandre Santos",
      "photoUrl": "https://lh4.googleusercontent.com/-GCmUu6FB55Q/AAAAAAAAAAI/AAAAAAAAAAc/jmixclz7KqE/s64/photo.jpg",
      "userId": "08960058364369820557"
     },
     "user_tz": 180
    },
    "id": "vYd8kfCxXXET",
    "outputId": "d84feeda-bca1-4814-918e-c6afd8309649"
   },
   "outputs": [
    {
     "data": {
      "text/plain": [
       "7"
      ]
     },
     "execution_count": 12,
     "metadata": {
      "tags": []
     },
     "output_type": "execute_result"
    }
   ],
   "source": [
    "#valor inteiro da divisão\n",
    "15 // 2 "
   ]
  },
  {
   "cell_type": "code",
   "execution_count": 14,
   "metadata": {
    "colab": {
     "base_uri": "https://localhost:8080/",
     "height": 36
    },
    "colab_type": "code",
    "executionInfo": {
     "elapsed": 689,
     "status": "ok",
     "timestamp": 1566310334940,
     "user": {
      "displayName": "Alexandre Santos",
      "photoUrl": "https://lh4.googleusercontent.com/-GCmUu6FB55Q/AAAAAAAAAAI/AAAAAAAAAAc/jmixclz7KqE/s64/photo.jpg",
      "userId": "08960058364369820557"
     },
     "user_tz": 180
    },
    "id": "pw82FnNHXjly",
    "outputId": "671f2c03-d040-4b74-e94e-6c7d4198b5c9"
   },
   "outputs": [
    {
     "data": {
      "text/plain": [
       "1"
      ]
     },
     "execution_count": 14,
     "metadata": {
      "tags": []
     },
     "output_type": "execute_result"
    }
   ],
   "source": [
    "#resto da divisão\n",
    "15 % 2 "
   ]
  },
  {
   "cell_type": "markdown",
   "metadata": {
    "colab_type": "text",
    "id": "Rfy1uaPJc_hP"
   },
   "source": [
    "**Strings**"
   ]
  },
  {
   "cell_type": "code",
   "execution_count": 15,
   "metadata": {
    "colab": {
     "base_uri": "https://localhost:8080/",
     "height": 36
    },
    "colab_type": "code",
    "executionInfo": {
     "elapsed": 1849,
     "status": "ok",
     "timestamp": 1566311752648,
     "user": {
      "displayName": "Alexandre Santos",
      "photoUrl": "https://lh4.googleusercontent.com/-GCmUu6FB55Q/AAAAAAAAAAI/AAAAAAAAAAc/jmixclz7KqE/s64/photo.jpg",
      "userId": "08960058364369820557"
     },
     "user_tz": 180
    },
    "id": "xvt4qYQqdCVd",
    "outputId": "486e4f13-9b12-4379-e0a9-a8d2cf84669d"
   },
   "outputs": [
    {
     "data": {
      "text/plain": [
       "'Sejam Bem  Vindo'"
      ]
     },
     "execution_count": 15,
     "metadata": {
      "tags": []
     },
     "output_type": "execute_result"
    }
   ],
   "source": [
    "\"Sejam Bem  Vindo\""
   ]
  },
  {
   "cell_type": "code",
   "execution_count": 17,
   "metadata": {
    "colab": {
     "base_uri": "https://localhost:8080/",
     "height": 36
    },
    "colab_type": "code",
    "executionInfo": {
     "elapsed": 604,
     "status": "ok",
     "timestamp": 1566311788352,
     "user": {
      "displayName": "Alexandre Santos",
      "photoUrl": "https://lh4.googleusercontent.com/-GCmUu6FB55Q/AAAAAAAAAAI/AAAAAAAAAAc/jmixclz7KqE/s64/photo.jpg",
      "userId": "08960058364369820557"
     },
     "user_tz": 180
    },
    "id": "Irhp6MvodLJX",
    "outputId": "c6d11d24-d436-4094-ae7b-5336219b0c0d"
   },
   "outputs": [
    {
     "data": {
      "text/plain": [
       "'Linguagem de programação Python'"
      ]
     },
     "execution_count": 17,
     "metadata": {
      "tags": []
     },
     "output_type": "execute_result"
    }
   ],
   "source": [
    "palavra = \"Linguagem de programação Python\"\n",
    "palavra"
   ]
  },
  {
   "cell_type": "code",
   "execution_count": 18,
   "metadata": {
    "colab": {
     "base_uri": "https://localhost:8080/",
     "height": 36
    },
    "colab_type": "code",
    "executionInfo": {
     "elapsed": 634,
     "status": "ok",
     "timestamp": 1566311824777,
     "user": {
      "displayName": "Alexandre Santos",
      "photoUrl": "https://lh4.googleusercontent.com/-GCmUu6FB55Q/AAAAAAAAAAI/AAAAAAAAAAc/jmixclz7KqE/s64/photo.jpg",
      "userId": "08960058364369820557"
     },
     "user_tz": 180
    },
    "id": "lXWRx2qsdTkE",
    "outputId": "f6f69408-e565-4a8a-d9e8-d131f275384d"
   },
   "outputs": [
    {
     "name": "stdout",
     "output_type": "stream",
     "text": [
      "Linguagem\n"
     ]
    }
   ],
   "source": [
    "palavra[0:9]"
   ]
  },
  {
   "cell_type": "code",
   "execution_count": 21,
   "metadata": {
    "colab": {
     "base_uri": "https://localhost:8080/",
     "height": 36
    },
    "colab_type": "code",
    "executionInfo": {
     "elapsed": 706,
     "status": "ok",
     "timestamp": 1566312017164,
     "user": {
      "displayName": "Alexandre Santos",
      "photoUrl": "https://lh4.googleusercontent.com/-GCmUu6FB55Q/AAAAAAAAAAI/AAAAAAAAAAc/jmixclz7KqE/s64/photo.jpg",
      "userId": "08960058364369820557"
     },
     "user_tz": 180
    },
    "id": "igkBI4x7drEA",
    "outputId": "d9cc220e-8a8e-42ff-e1cc-0d35323465cb"
   },
   "outputs": [
    {
     "name": "stdout",
     "output_type": "stream",
     "text": [
      "Meu nome é Alexandre e tenho 38 anos!!\n"
     ]
    }
   ],
   "source": [
    "nome = \"Alexandre\"\n",
    "idade = 38\n",
    "\n",
    "print(\"Meu nome é {} e tenho {} anos!!\".format(nome, idade))"
   ]
  },
  {
   "cell_type": "code",
   "execution_count": 23,
   "metadata": {
    "colab": {
     "base_uri": "https://localhost:8080/",
     "height": 36
    },
    "colab_type": "code",
    "executionInfo": {
     "elapsed": 651,
     "status": "ok",
     "timestamp": 1566312110382,
     "user": {
      "displayName": "Alexandre Santos",
      "photoUrl": "https://lh4.googleusercontent.com/-GCmUu6FB55Q/AAAAAAAAAAI/AAAAAAAAAAc/jmixclz7KqE/s64/photo.jpg",
      "userId": "08960058364369820557"
     },
     "user_tz": 180
    },
    "id": "M09Id8pReW71",
    "outputId": "2d292bfc-a956-405b-9305-441ea75aaede"
   },
   "outputs": [
    {
     "name": "stdout",
     "output_type": "stream",
     "text": [
      "Meu nome é Alexandre e tenho 38 anos !!\n"
     ]
    }
   ],
   "source": [
    "print(\"Meu nome é {variavel1} e tenho {variavel2} anos !!\".format(variavel1 = nome, variavel2 = idade))"
   ]
  },
  {
   "cell_type": "code",
   "execution_count": 24,
   "metadata": {
    "colab": {
     "base_uri": "https://localhost:8080/",
     "height": 36
    },
    "colab_type": "code",
    "executionInfo": {
     "elapsed": 658,
     "status": "ok",
     "timestamp": 1566312159406,
     "user": {
      "displayName": "Alexandre Santos",
      "photoUrl": "https://lh4.googleusercontent.com/-GCmUu6FB55Q/AAAAAAAAAAI/AAAAAAAAAAc/jmixclz7KqE/s64/photo.jpg",
      "userId": "08960058364369820557"
     },
     "user_tz": 180
    },
    "id": "49kn_Lpvengr",
    "outputId": "641d9e87-38cf-4875-eb1b-d839809e4d99"
   },
   "outputs": [
    {
     "data": {
      "text/plain": [
       "'f'"
      ]
     },
     "execution_count": 24,
     "metadata": {
      "tags": []
     },
     "output_type": "execute_result"
    }
   ],
   "source": [
    "#Primeira posição de uma String\n",
    "palavra = \"futebol\"\n",
    "palavra[0]"
   ]
  },
  {
   "cell_type": "markdown",
   "metadata": {
    "colab_type": "text",
    "id": "V2E7tnnLj3Yg"
   },
   "source": [
    "**Listas**"
   ]
  },
  {
   "cell_type": "code",
   "execution_count": 56,
   "metadata": {
    "colab": {
     "base_uri": "https://localhost:8080/",
     "height": 36
    },
    "colab_type": "code",
    "executionInfo": {
     "elapsed": 779,
     "status": "ok",
     "timestamp": 1566314690211,
     "user": {
      "displayName": "Alexandre Santos",
      "photoUrl": "https://lh4.googleusercontent.com/-GCmUu6FB55Q/AAAAAAAAAAI/AAAAAAAAAAc/jmixclz7KqE/s64/photo.jpg",
      "userId": "08960058364369820557"
     },
     "user_tz": 180
    },
    "id": "p3-JxJRTj6Ho",
    "outputId": "d88532d0-d83e-4f32-c7e4-4802edab4ba2"
   },
   "outputs": [
    {
     "data": {
      "text/plain": [
       "['banana', 'maça', 'abacate']"
      ]
     },
     "execution_count": 56,
     "metadata": {
      "tags": []
     },
     "output_type": "execute_result"
    }
   ],
   "source": [
    "frutas = [\"banana\", \"maça\", \"abacate\"]\n",
    "frutas"
   ]
  },
  {
   "cell_type": "code",
   "execution_count": 57,
   "metadata": {
    "colab": {
     "base_uri": "https://localhost:8080/",
     "height": 36
    },
    "colab_type": "code",
    "executionInfo": {
     "elapsed": 630,
     "status": "ok",
     "timestamp": 1566314691776,
     "user": {
      "displayName": "Alexandre Santos",
      "photoUrl": "https://lh4.googleusercontent.com/-GCmUu6FB55Q/AAAAAAAAAAI/AAAAAAAAAAc/jmixclz7KqE/s64/photo.jpg",
      "userId": "08960058364369820557"
     },
     "user_tz": 180
    },
    "id": "8VAHlvmbk1PO",
    "outputId": "4974cc40-5fb6-487a-d3de-d1eef0160e07"
   },
   "outputs": [
    {
     "data": {
      "text/plain": [
       "'banana'"
      ]
     },
     "execution_count": 57,
     "metadata": {
      "tags": []
     },
     "output_type": "execute_result"
    }
   ],
   "source": [
    "frutas[0]"
   ]
  },
  {
   "cell_type": "code",
   "execution_count": 58,
   "metadata": {
    "colab": {
     "base_uri": "https://localhost:8080/",
     "height": 36
    },
    "colab_type": "code",
    "executionInfo": {
     "elapsed": 522,
     "status": "ok",
     "timestamp": 1566314693186,
     "user": {
      "displayName": "Alexandre Santos",
      "photoUrl": "https://lh4.googleusercontent.com/-GCmUu6FB55Q/AAAAAAAAAAI/AAAAAAAAAAc/jmixclz7KqE/s64/photo.jpg",
      "userId": "08960058364369820557"
     },
     "user_tz": 180
    },
    "id": "PckgruTKlTnO",
    "outputId": "2b856c45-afba-41ea-db7d-b8b84d8f825f"
   },
   "outputs": [
    {
     "data": {
      "text/plain": [
       "3"
      ]
     },
     "execution_count": 58,
     "metadata": {
      "tags": []
     },
     "output_type": "execute_result"
    }
   ],
   "source": [
    "tamanho_lista = len(frutas)\n",
    "tamanho_lista"
   ]
  },
  {
   "cell_type": "code",
   "execution_count": 59,
   "metadata": {
    "colab": {
     "base_uri": "https://localhost:8080/",
     "height": 36
    },
    "colab_type": "code",
    "executionInfo": {
     "elapsed": 644,
     "status": "ok",
     "timestamp": 1566314695913,
     "user": {
      "displayName": "Alexandre Santos",
      "photoUrl": "https://lh4.googleusercontent.com/-GCmUu6FB55Q/AAAAAAAAAAI/AAAAAAAAAAc/jmixclz7KqE/s64/photo.jpg",
      "userId": "08960058364369820557"
     },
     "user_tz": 180
    },
    "id": "jiiZ-bfsnu90",
    "outputId": "61a148b7-0ba3-4fb1-f90e-7daaa59ad7ea"
   },
   "outputs": [
    {
     "data": {
      "text/plain": [
       "['banana', 'maça', 'abacate', 'abacaxi']"
      ]
     },
     "execution_count": 59,
     "metadata": {
      "tags": []
     },
     "output_type": "execute_result"
    }
   ],
   "source": [
    "frutas.append(\"abacaxi\")\n",
    "frutas\n"
   ]
  },
  {
   "cell_type": "markdown",
   "metadata": {
    "colab_type": "text",
    "id": "8QEOHdw47-8Q"
   },
   "source": [
    "**Dicionário**"
   ]
  },
  {
   "cell_type": "code",
   "execution_count": 61,
   "metadata": {
    "colab": {
     "base_uri": "https://localhost:8080/",
     "height": 36
    },
    "colab_type": "code",
    "executionInfo": {
     "elapsed": 578,
     "status": "ok",
     "timestamp": 1566319939099,
     "user": {
      "displayName": "Alexandre Santos",
      "photoUrl": "https://lh4.googleusercontent.com/-GCmUu6FB55Q/AAAAAAAAAAI/AAAAAAAAAAc/jmixclz7KqE/s64/photo.jpg",
      "userId": "08960058364369820557"
     },
     "user_tz": 180
    },
    "id": "eLA2GGBF8DPt",
    "outputId": "a776ad97-8e0c-46a5-a563-2d197c10b196"
   },
   "outputs": [
    {
     "data": {
      "text/plain": [
       "{'preço': 235.6, 'produto': 'placa mãe'}"
      ]
     },
     "execution_count": 61,
     "metadata": {
      "tags": []
     },
     "output_type": "execute_result"
    }
   ],
   "source": [
    "dicionario = dict({'produto': 'placa mãe', 'preço': 235.60})\n",
    "dicionario"
   ]
  },
  {
   "cell_type": "code",
   "execution_count": 62,
   "metadata": {
    "colab": {
     "base_uri": "https://localhost:8080/",
     "height": 36
    },
    "colab_type": "code",
    "executionInfo": {
     "elapsed": 636,
     "status": "ok",
     "timestamp": 1566319972841,
     "user": {
      "displayName": "Alexandre Santos",
      "photoUrl": "https://lh4.googleusercontent.com/-GCmUu6FB55Q/AAAAAAAAAAI/AAAAAAAAAAc/jmixclz7KqE/s64/photo.jpg",
      "userId": "08960058364369820557"
     },
     "user_tz": 180
    },
    "id": "p9QHlogA8dJC",
    "outputId": "de42ecf0-7077-4b0a-a29e-6f276a8a9214"
   },
   "outputs": [
    {
     "data": {
      "text/plain": [
       "'placa mãe'"
      ]
     },
     "execution_count": 62,
     "metadata": {
      "tags": []
     },
     "output_type": "execute_result"
    }
   ],
   "source": [
    "dicionario['produto']"
   ]
  },
  {
   "cell_type": "code",
   "execution_count": 63,
   "metadata": {
    "colab": {
     "base_uri": "https://localhost:8080/",
     "height": 36
    },
    "colab_type": "code",
    "executionInfo": {
     "elapsed": 637,
     "status": "ok",
     "timestamp": 1566319998226,
     "user": {
      "displayName": "Alexandre Santos",
      "photoUrl": "https://lh4.googleusercontent.com/-GCmUu6FB55Q/AAAAAAAAAAI/AAAAAAAAAAc/jmixclz7KqE/s64/photo.jpg",
      "userId": "08960058364369820557"
     },
     "user_tz": 180
    },
    "id": "uvRQAxZb8iMT",
    "outputId": "80de53e9-21e4-4710-efeb-a7eb7f334389"
   },
   "outputs": [
    {
     "data": {
      "text/plain": [
       "235.6"
      ]
     },
     "execution_count": 63,
     "metadata": {
      "tags": []
     },
     "output_type": "execute_result"
    }
   ],
   "source": [
    "dicionario['preço']"
   ]
  },
  {
   "cell_type": "code",
   "execution_count": 65,
   "metadata": {
    "colab": {
     "base_uri": "https://localhost:8080/",
     "height": 36
    },
    "colab_type": "code",
    "executionInfo": {
     "elapsed": 638,
     "status": "ok",
     "timestamp": 1566320104238,
     "user": {
      "displayName": "Alexandre Santos",
      "photoUrl": "https://lh4.googleusercontent.com/-GCmUu6FB55Q/AAAAAAAAAAI/AAAAAAAAAAc/jmixclz7KqE/s64/photo.jpg",
      "userId": "08960058364369820557"
     },
     "user_tz": 180
    },
    "id": "NWRBhe6u88De",
    "outputId": "7b84f811-6cf6-4ff1-c669-c0b20f52a58a"
   },
   "outputs": [
    {
     "data": {
      "text/plain": [
       "dict_keys(['produto', 'preço'])"
      ]
     },
     "execution_count": 65,
     "metadata": {
      "tags": []
     },
     "output_type": "execute_result"
    }
   ],
   "source": [
    "dicionario.keys()"
   ]
  },
  {
   "cell_type": "code",
   "execution_count": 66,
   "metadata": {
    "colab": {
     "base_uri": "https://localhost:8080/",
     "height": 36
    },
    "colab_type": "code",
    "executionInfo": {
     "elapsed": 641,
     "status": "ok",
     "timestamp": 1566320126899,
     "user": {
      "displayName": "Alexandre Santos",
      "photoUrl": "https://lh4.googleusercontent.com/-GCmUu6FB55Q/AAAAAAAAAAI/AAAAAAAAAAc/jmixclz7KqE/s64/photo.jpg",
      "userId": "08960058364369820557"
     },
     "user_tz": 180
    },
    "id": "wD--nk0s9CYG",
    "outputId": "c60763f9-2a40-42b3-93ca-63668f899526"
   },
   "outputs": [
    {
     "data": {
      "text/plain": [
       "dict_values(['placa mãe', 235.6])"
      ]
     },
     "execution_count": 66,
     "metadata": {
      "tags": []
     },
     "output_type": "execute_result"
    }
   ],
   "source": [
    "dicionario.values()"
   ]
  },
  {
   "cell_type": "code",
   "execution_count": 68,
   "metadata": {
    "colab": {
     "base_uri": "https://localhost:8080/",
     "height": 36
    },
    "colab_type": "code",
    "executionInfo": {
     "elapsed": 584,
     "status": "ok",
     "timestamp": 1566322420879,
     "user": {
      "displayName": "Alexandre Santos",
      "photoUrl": "https://lh4.googleusercontent.com/-GCmUu6FB55Q/AAAAAAAAAAI/AAAAAAAAAAc/jmixclz7KqE/s64/photo.jpg",
      "userId": "08960058364369820557"
     },
     "user_tz": 180
    },
    "id": "sk6UqNqPFp6t",
    "outputId": "0dd1eed6-9ff9-4b26-c1ae-dc130c619f12"
   },
   "outputs": [
    {
     "data": {
      "text/plain": [
       "{'preço': 235.6, 'produto': 'placa mãe', 'quantidade': 30}"
      ]
     },
     "execution_count": 68,
     "metadata": {
      "tags": []
     },
     "output_type": "execute_result"
    }
   ],
   "source": [
    "dicionario['quantidade'] = 30\n",
    "dicionario"
   ]
  },
  {
   "cell_type": "markdown",
   "metadata": {
    "colab_type": "text",
    "id": "jNNoZzfyGA6m"
   },
   "source": [
    "**Tipos Boleanos**"
   ]
  },
  {
   "cell_type": "code",
   "execution_count": 69,
   "metadata": {
    "colab": {
     "base_uri": "https://localhost:8080/",
     "height": 36
    },
    "colab_type": "code",
    "executionInfo": {
     "elapsed": 784,
     "status": "ok",
     "timestamp": 1566322542203,
     "user": {
      "displayName": "Alexandre Santos",
      "photoUrl": "https://lh4.googleusercontent.com/-GCmUu6FB55Q/AAAAAAAAAAI/AAAAAAAAAAc/jmixclz7KqE/s64/photo.jpg",
      "userId": "08960058364369820557"
     },
     "user_tz": 180
    },
    "id": "tyVaS5XDGEkG",
    "outputId": "4ee0927f-c036-4610-cbfc-b6c69748f74b"
   },
   "outputs": [
    {
     "data": {
      "text/plain": [
       "False"
      ]
     },
     "execution_count": 69,
     "metadata": {
      "tags": []
     },
     "output_type": "execute_result"
    }
   ],
   "source": [
    "5 == 6"
   ]
  },
  {
   "cell_type": "code",
   "execution_count": 70,
   "metadata": {
    "colab": {
     "base_uri": "https://localhost:8080/",
     "height": 36
    },
    "colab_type": "code",
    "executionInfo": {
     "elapsed": 668,
     "status": "ok",
     "timestamp": 1566322552966,
     "user": {
      "displayName": "Alexandre Santos",
      "photoUrl": "https://lh4.googleusercontent.com/-GCmUu6FB55Q/AAAAAAAAAAI/AAAAAAAAAAc/jmixclz7KqE/s64/photo.jpg",
      "userId": "08960058364369820557"
     },
     "user_tz": 180
    },
    "id": "qwwuuBDlGU_n",
    "outputId": "654daac5-0f0b-4435-988c-8b5ff058734b"
   },
   "outputs": [
    {
     "data": {
      "text/plain": [
       "True"
      ]
     },
     "execution_count": 70,
     "metadata": {
      "tags": []
     },
     "output_type": "execute_result"
    }
   ],
   "source": [
    "3 < 7"
   ]
  },
  {
   "cell_type": "code",
   "execution_count": 71,
   "metadata": {
    "colab": {
     "base_uri": "https://localhost:8080/",
     "height": 36
    },
    "colab_type": "code",
    "executionInfo": {
     "elapsed": 633,
     "status": "ok",
     "timestamp": 1566322568711,
     "user": {
      "displayName": "Alexandre Santos",
      "photoUrl": "https://lh4.googleusercontent.com/-GCmUu6FB55Q/AAAAAAAAAAI/AAAAAAAAAAc/jmixclz7KqE/s64/photo.jpg",
      "userId": "08960058364369820557"
     },
     "user_tz": 180
    },
    "id": "mWcBoqkDGXnP",
    "outputId": "e211e8b5-2f5f-4c28-f945-bbdd4991eccc"
   },
   "outputs": [
    {
     "data": {
      "text/plain": [
       "True"
      ]
     },
     "execution_count": 71,
     "metadata": {
      "tags": []
     },
     "output_type": "execute_result"
    }
   ],
   "source": [
    "10 != 8"
   ]
  },
  {
   "cell_type": "code",
   "execution_count": 76,
   "metadata": {
    "colab": {
     "base_uri": "https://localhost:8080/",
     "height": 36
    },
    "colab_type": "code",
    "executionInfo": {
     "elapsed": 541,
     "status": "ok",
     "timestamp": 1566322614130,
     "user": {
      "displayName": "Alexandre Santos",
      "photoUrl": "https://lh4.googleusercontent.com/-GCmUu6FB55Q/AAAAAAAAAAI/AAAAAAAAAAc/jmixclz7KqE/s64/photo.jpg",
      "userId": "08960058364369820557"
     },
     "user_tz": 180
    },
    "id": "ZXye7zgpGb4E",
    "outputId": "3f4d10d3-8a0d-4103-af60-8683d42e677a"
   },
   "outputs": [
    {
     "data": {
      "text/plain": [
       "True"
      ]
     },
     "execution_count": 76,
     "metadata": {
      "tags": []
     },
     "output_type": "execute_result"
    }
   ],
   "source": [
    "\"a\" == \"a\""
   ]
  },
  {
   "cell_type": "code",
   "execution_count": 83,
   "metadata": {
    "colab": {
     "base_uri": "https://localhost:8080/",
     "height": 36
    },
    "colab_type": "code",
    "executionInfo": {
     "elapsed": 658,
     "status": "ok",
     "timestamp": 1566322754066,
     "user": {
      "displayName": "Alexandre Santos",
      "photoUrl": "https://lh4.googleusercontent.com/-GCmUu6FB55Q/AAAAAAAAAAI/AAAAAAAAAAc/jmixclz7KqE/s64/photo.jpg",
      "userId": "08960058364369820557"
     },
     "user_tz": 180
    },
    "id": "NKfeohRCGnsL",
    "outputId": "a7b577c4-1ed7-41ee-ab78-bc671aeef865"
   },
   "outputs": [
    {
     "data": {
      "text/plain": [
       "True"
      ]
     },
     "execution_count": 83,
     "metadata": {
      "tags": []
     },
     "output_type": "execute_result"
    }
   ],
   "source": [
    "(1 == 1) and (5 < 6)"
   ]
  },
  {
   "cell_type": "code",
   "execution_count": 82,
   "metadata": {
    "colab": {
     "base_uri": "https://localhost:8080/",
     "height": 36
    },
    "colab_type": "code",
    "executionInfo": {
     "elapsed": 599,
     "status": "ok",
     "timestamp": 1566322750702,
     "user": {
      "displayName": "Alexandre Santos",
      "photoUrl": "https://lh4.googleusercontent.com/-GCmUu6FB55Q/AAAAAAAAAAI/AAAAAAAAAAc/jmixclz7KqE/s64/photo.jpg",
      "userId": "08960058364369820557"
     },
     "user_tz": 180
    },
    "id": "fpxzd7pjGzdR",
    "outputId": "aa8b5ad7-817c-485f-86ef-14cea30e1476"
   },
   "outputs": [
    {
     "data": {
      "text/plain": [
       "False"
      ]
     },
     "execution_count": 82,
     "metadata": {
      "tags": []
     },
     "output_type": "execute_result"
    }
   ],
   "source": [
    "(1 != 6) and (4 > 6)"
   ]
  },
  {
   "cell_type": "code",
   "execution_count": 81,
   "metadata": {
    "colab": {
     "base_uri": "https://localhost:8080/",
     "height": 36
    },
    "colab_type": "code",
    "executionInfo": {
     "elapsed": 561,
     "status": "ok",
     "timestamp": 1566322722179,
     "user": {
      "displayName": "Alexandre Santos",
      "photoUrl": "https://lh4.googleusercontent.com/-GCmUu6FB55Q/AAAAAAAAAAI/AAAAAAAAAAc/jmixclz7KqE/s64/photo.jpg",
      "userId": "08960058364369820557"
     },
     "user_tz": 180
    },
    "id": "dlxoTLy2G8BF",
    "outputId": "e2bd2df4-d6b2-4435-e0a7-35eedad9108b"
   },
   "outputs": [
    {
     "data": {
      "text/plain": [
       "True"
      ]
     },
     "execution_count": 81,
     "metadata": {
      "tags": []
     },
     "output_type": "execute_result"
    }
   ],
   "source": [
    "(1 != 6) | (4 > 6)"
   ]
  },
  {
   "cell_type": "code",
   "execution_count": 84,
   "metadata": {
    "colab": {
     "base_uri": "https://localhost:8080/",
     "height": 36
    },
    "colab_type": "code",
    "executionInfo": {
     "elapsed": 650,
     "status": "ok",
     "timestamp": 1566322775038,
     "user": {
      "displayName": "Alexandre Santos",
      "photoUrl": "https://lh4.googleusercontent.com/-GCmUu6FB55Q/AAAAAAAAAAI/AAAAAAAAAAc/jmixclz7KqE/s64/photo.jpg",
      "userId": "08960058364369820557"
     },
     "user_tz": 180
    },
    "id": "uWyJdb1fHKDM",
    "outputId": "72664b3f-37f5-4d2a-e6ff-7a3bf6aa897e"
   },
   "outputs": [
    {
     "data": {
      "text/plain": [
       "True"
      ]
     },
     "execution_count": 84,
     "metadata": {
      "tags": []
     },
     "output_type": "execute_result"
    }
   ],
   "source": [
    "(1 == 1)or (5 < 6)"
   ]
  },
  {
   "cell_type": "code",
   "execution_count": 86,
   "metadata": {
    "colab": {
     "base_uri": "https://localhost:8080/",
     "height": 36
    },
    "colab_type": "code",
    "executionInfo": {
     "elapsed": 555,
     "status": "ok",
     "timestamp": 1566323449086,
     "user": {
      "displayName": "Alexandre Santos",
      "photoUrl": "https://lh4.googleusercontent.com/-GCmUu6FB55Q/AAAAAAAAAAI/AAAAAAAAAAc/jmixclz7KqE/s64/photo.jpg",
      "userId": "08960058364369820557"
     },
     "user_tz": 180
    },
    "id": "sWWlgP0FJPIe",
    "outputId": "9eb6dcb2-2832-4190-e0a6-fdc3500e00a8"
   },
   "outputs": [
    {
     "data": {
      "text/plain": [
       "True"
      ]
     },
     "execution_count": 86,
     "metadata": {
      "tags": []
     },
     "output_type": "execute_result"
    }
   ],
   "source": [
    "(not True == False) and not(not False != True)"
   ]
  },
  {
   "cell_type": "markdown",
   "metadata": {
    "colab_type": "text",
    "id": "5Y5n8cSePvP9"
   },
   "source": [
    "**Tupla**"
   ]
  },
  {
   "cell_type": "code",
   "execution_count": 91,
   "metadata": {
    "colab": {
     "base_uri": "https://localhost:8080/",
     "height": 36
    },
    "colab_type": "code",
    "executionInfo": {
     "elapsed": 581,
     "status": "ok",
     "timestamp": 1566325157303,
     "user": {
      "displayName": "Alexandre Santos",
      "photoUrl": "https://lh4.googleusercontent.com/-GCmUu6FB55Q/AAAAAAAAAAI/AAAAAAAAAAc/jmixclz7KqE/s64/photo.jpg",
      "userId": "08960058364369820557"
     },
     "user_tz": 180
    },
    "id": "-smq66dKMUjL",
    "outputId": "64109931-f8ef-4cfa-c60d-28175eef99c4"
   },
   "outputs": [
    {
     "data": {
      "text/plain": [
       "(5, 6, 7, 9)"
      ]
     },
     "execution_count": 91,
     "metadata": {
      "tags": []
     },
     "output_type": "execute_result"
    }
   ],
   "source": [
    "tupla = tuple([5, 6, 7, 9])\n",
    "tupla"
   ]
  },
  {
   "cell_type": "code",
   "execution_count": 92,
   "metadata": {
    "colab": {
     "base_uri": "https://localhost:8080/",
     "height": 36
    },
    "colab_type": "code",
    "executionInfo": {
     "elapsed": 672,
     "status": "ok",
     "timestamp": 1566325172296,
     "user": {
      "displayName": "Alexandre Santos",
      "photoUrl": "https://lh4.googleusercontent.com/-GCmUu6FB55Q/AAAAAAAAAAI/AAAAAAAAAAc/jmixclz7KqE/s64/photo.jpg",
      "userId": "08960058364369820557"
     },
     "user_tz": 180
    },
    "id": "JDu4QAyGQURY",
    "outputId": "3bbbb7af-34fd-4f57-ff3e-ba5d3eb400a5"
   },
   "outputs": [
    {
     "data": {
      "text/plain": [
       "4"
      ]
     },
     "execution_count": 92,
     "metadata": {
      "tags": []
     },
     "output_type": "execute_result"
    }
   ],
   "source": [
    "len(tupla)"
   ]
  },
  {
   "cell_type": "code",
   "execution_count": 93,
   "metadata": {
    "colab": {
     "base_uri": "https://localhost:8080/",
     "height": 36
    },
    "colab_type": "code",
    "executionInfo": {
     "elapsed": 674,
     "status": "ok",
     "timestamp": 1566325184335,
     "user": {
      "displayName": "Alexandre Santos",
      "photoUrl": "https://lh4.googleusercontent.com/-GCmUu6FB55Q/AAAAAAAAAAI/AAAAAAAAAAc/jmixclz7KqE/s64/photo.jpg",
      "userId": "08960058364369820557"
     },
     "user_tz": 180
    },
    "id": "TryDUQiGQXIN",
    "outputId": "cb98adea-a95c-4d17-9c47-be187df513c5"
   },
   "outputs": [
    {
     "data": {
      "text/plain": [
       "5"
      ]
     },
     "execution_count": 93,
     "metadata": {
      "tags": []
     },
     "output_type": "execute_result"
    }
   ],
   "source": [
    "tupla[0]"
   ]
  },
  {
   "cell_type": "code",
   "execution_count": 94,
   "metadata": {
    "colab": {
     "base_uri": "https://localhost:8080/",
     "height": 176
    },
    "colab_type": "code",
    "executionInfo": {
     "elapsed": 653,
     "status": "error",
     "timestamp": 1566325206870,
     "user": {
      "displayName": "Alexandre Santos",
      "photoUrl": "https://lh4.googleusercontent.com/-GCmUu6FB55Q/AAAAAAAAAAI/AAAAAAAAAAc/jmixclz7KqE/s64/photo.jpg",
      "userId": "08960058364369820557"
     },
     "user_tz": 180
    },
    "id": "jepkYu5UQaS5",
    "outputId": "8a6027f2-71dc-4003-feb9-43f387a7f378"
   },
   "outputs": [
    {
     "ename": "TypeError",
     "evalue": "ignored",
     "output_type": "error",
     "traceback": [
      "\u001b[0;31m---------------------------------------------------------------------------\u001b[0m",
      "\u001b[0;31mTypeError\u001b[0m                                 Traceback (most recent call last)",
      "\u001b[0;32m<ipython-input-94-a2f896436084>\u001b[0m in \u001b[0;36m<module>\u001b[0;34m()\u001b[0m\n\u001b[0;32m----> 1\u001b[0;31m \u001b[0mtupla\u001b[0m\u001b[0;34m[\u001b[0m\u001b[0;36m0\u001b[0m\u001b[0;34m]\u001b[0m \u001b[0;34m=\u001b[0m \u001b[0;36m5\u001b[0m\u001b[0;34m\u001b[0m\u001b[0;34m\u001b[0m\u001b[0m\n\u001b[0m",
      "\u001b[0;31mTypeError\u001b[0m: 'tuple' object does not support item assignment"
     ]
    }
   ],
   "source": [
    "Os valores das tuplas não pdem ser modificados\n",
    "tupla[0] = 5"
   ]
  },
  {
   "cell_type": "code",
   "execution_count": 95,
   "metadata": {
    "colab": {
     "base_uri": "https://localhost:8080/",
     "height": 36
    },
    "colab_type": "code",
    "executionInfo": {
     "elapsed": 692,
     "status": "ok",
     "timestamp": 1566325992923,
     "user": {
      "displayName": "Alexandre Santos",
      "photoUrl": "https://lh4.googleusercontent.com/-GCmUu6FB55Q/AAAAAAAAAAI/AAAAAAAAAAc/jmixclz7KqE/s64/photo.jpg",
      "userId": "08960058364369820557"
     },
     "user_tz": 180
    },
    "id": "R_opvsjRQmKI",
    "outputId": "5bdc31ec-6675-4c62-f0b7-9cf3be001101"
   },
   "outputs": [
    {
     "data": {
      "text/plain": [
       "(1, 2, 4, [4, 7, 9])"
      ]
     },
     "execution_count": 95,
     "metadata": {
      "tags": []
     },
     "output_type": "execute_result"
    }
   ],
   "source": [
    "tupla_exemplo2 = tuple([1, 2, 4, [4, 7, 9]])\n",
    "tupla_exemplo2"
   ]
  },
  {
   "cell_type": "code",
   "execution_count": 96,
   "metadata": {
    "colab": {
     "base_uri": "https://localhost:8080/",
     "height": 36
    },
    "colab_type": "code",
    "executionInfo": {
     "elapsed": 640,
     "status": "ok",
     "timestamp": 1566326014013,
     "user": {
      "displayName": "Alexandre Santos",
      "photoUrl": "https://lh4.googleusercontent.com/-GCmUu6FB55Q/AAAAAAAAAAI/AAAAAAAAAAc/jmixclz7KqE/s64/photo.jpg",
      "userId": "08960058364369820557"
     },
     "user_tz": 180
    },
    "id": "H51ak9j9Tgpn",
    "outputId": "628b009e-76e0-45be-9116-84160c76c48e"
   },
   "outputs": [
    {
     "data": {
      "text/plain": [
       "[4, 7, 9]"
      ]
     },
     "execution_count": 96,
     "metadata": {
      "tags": []
     },
     "output_type": "execute_result"
    }
   ],
   "source": [
    "tupla_exemplo2[3]"
   ]
  },
  {
   "cell_type": "code",
   "execution_count": 97,
   "metadata": {
    "colab": {
     "base_uri": "https://localhost:8080/",
     "height": 36
    },
    "colab_type": "code",
    "executionInfo": {
     "elapsed": 617,
     "status": "ok",
     "timestamp": 1566326038823,
     "user": {
      "displayName": "Alexandre Santos",
      "photoUrl": "https://lh4.googleusercontent.com/-GCmUu6FB55Q/AAAAAAAAAAI/AAAAAAAAAAc/jmixclz7KqE/s64/photo.jpg",
      "userId": "08960058364369820557"
     },
     "user_tz": 180
    },
    "id": "-yCdCUQTTk18",
    "outputId": "193c49eb-b45f-4dec-cfc8-df7813fc1874"
   },
   "outputs": [
    {
     "data": {
      "text/plain": [
       "9"
      ]
     },
     "execution_count": 97,
     "metadata": {
      "tags": []
     },
     "output_type": "execute_result"
    }
   ],
   "source": [
    "tupla_exemplo2[3][2]"
   ]
  },
  {
   "cell_type": "code",
   "execution_count": 99,
   "metadata": {
    "colab": {
     "base_uri": "https://localhost:8080/",
     "height": 36
    },
    "colab_type": "code",
    "executionInfo": {
     "elapsed": 528,
     "status": "ok",
     "timestamp": 1566326071508,
     "user": {
      "displayName": "Alexandre Santos",
      "photoUrl": "https://lh4.googleusercontent.com/-GCmUu6FB55Q/AAAAAAAAAAI/AAAAAAAAAAc/jmixclz7KqE/s64/photo.jpg",
      "userId": "08960058364369820557"
     },
     "user_tz": 180
    },
    "id": "4v-yuAUoTqx5",
    "outputId": "acaf909f-832e-48b7-eb27-a57945059d84"
   },
   "outputs": [
    {
     "data": {
      "text/plain": [
       "(1, 2, 4, [4, 7, 20])"
      ]
     },
     "execution_count": 99,
     "metadata": {
      "tags": []
     },
     "output_type": "execute_result"
    }
   ],
   "source": [
    "#Noto - se, que se uma tupla tiver uma lista => os valores desta lista poderá ser modificado\n",
    "tupla_exemplo2[3][2] = 20\n",
    "tupla_exemplo2"
   ]
  },
  {
   "cell_type": "markdown",
   "metadata": {
    "colab_type": "text",
    "id": "wwEyyUWhXO76"
   },
   "source": [
    "**Conjuntos**"
   ]
  },
  {
   "cell_type": "code",
   "execution_count": 102,
   "metadata": {
    "colab": {
     "base_uri": "https://localhost:8080/",
     "height": 36
    },
    "colab_type": "code",
    "executionInfo": {
     "elapsed": 524,
     "status": "ok",
     "timestamp": 1566327133070,
     "user": {
      "displayName": "Alexandre Santos",
      "photoUrl": "https://lh4.googleusercontent.com/-GCmUu6FB55Q/AAAAAAAAAAI/AAAAAAAAAAc/jmixclz7KqE/s64/photo.jpg",
      "userId": "08960058364369820557"
     },
     "user_tz": 180
    },
    "id": "th_0jL0JXTvb",
    "outputId": "10375f4d-59a4-45bb-a200-d27aafb58076"
   },
   "outputs": [
    {
     "data": {
      "text/plain": [
       "{5, 6, 7}"
      ]
     },
     "execution_count": 102,
     "metadata": {
      "tags": []
     },
     "output_type": "execute_result"
    }
   ],
   "source": [
    "conjunto = {5, 6 ,7}\n",
    "conjunto"
   ]
  },
  {
   "cell_type": "code",
   "execution_count": 103,
   "metadata": {
    "colab": {
     "base_uri": "https://localhost:8080/",
     "height": 36
    },
    "colab_type": "code",
    "executionInfo": {
     "elapsed": 635,
     "status": "ok",
     "timestamp": 1566327155431,
     "user": {
      "displayName": "Alexandre Santos",
      "photoUrl": "https://lh4.googleusercontent.com/-GCmUu6FB55Q/AAAAAAAAAAI/AAAAAAAAAAc/jmixclz7KqE/s64/photo.jpg",
      "userId": "08960058364369820557"
     },
     "user_tz": 180
    },
    "id": "Cit1PmLHX2vt",
    "outputId": "248ed93b-8a99-4e6a-e9ba-7bdf2c07a3d9"
   },
   "outputs": [
    {
     "data": {
      "text/plain": [
       "set"
      ]
     },
     "execution_count": 103,
     "metadata": {
      "tags": []
     },
     "output_type": "execute_result"
    }
   ],
   "source": [
    "type(conjunto)"
   ]
  },
  {
   "cell_type": "code",
   "execution_count": 106,
   "metadata": {
    "colab": {
     "base_uri": "https://localhost:8080/",
     "height": 36
    },
    "colab_type": "code",
    "executionInfo": {
     "elapsed": 535,
     "status": "ok",
     "timestamp": 1566327257371,
     "user": {
      "displayName": "Alexandre Santos",
      "photoUrl": "https://lh4.googleusercontent.com/-GCmUu6FB55Q/AAAAAAAAAAI/AAAAAAAAAAc/jmixclz7KqE/s64/photo.jpg",
      "userId": "08960058364369820557"
     },
     "user_tz": 180
    },
    "id": "3yVYwI-uX9Wo",
    "outputId": "8d3eb7f3-fa1d-4120-b163-6d397ca56bda"
   },
   "outputs": [
    {
     "data": {
      "text/plain": [
       "{1, 2, 4, 5, 7, 8}"
      ]
     },
     "execution_count": 106,
     "metadata": {
      "tags": []
     },
     "output_type": "execute_result"
    }
   ],
   "source": [
    "#Nos conjuntos (set) os elementos não se repetem\n",
    "conjunto2 = set([4,4,5,7,8,2,1])\n",
    "conjunto2"
   ]
  },
  {
   "cell_type": "code",
   "execution_count": 112,
   "metadata": {
    "colab": {
     "base_uri": "https://localhost:8080/",
     "height": 195
    },
    "colab_type": "code",
    "executionInfo": {
     "elapsed": 598,
     "status": "error",
     "timestamp": 1566327338694,
     "user": {
      "displayName": "Alexandre Santos",
      "photoUrl": "https://lh4.googleusercontent.com/-GCmUu6FB55Q/AAAAAAAAAAI/AAAAAAAAAAc/jmixclz7KqE/s64/photo.jpg",
      "userId": "08960058364369820557"
     },
     "user_tz": 180
    },
    "id": "fqinSfNAYVgA",
    "outputId": "6c5dab24-a687-4854-8915-fb3f8ecf354c"
   },
   "outputs": [
    {
     "ename": "TypeError",
     "evalue": "ignored",
     "output_type": "error",
     "traceback": [
      "\u001b[0;31m---------------------------------------------------------------------------\u001b[0m",
      "\u001b[0;31mTypeError\u001b[0m                                 Traceback (most recent call last)",
      "\u001b[0;32m<ipython-input-112-34abea9be511>\u001b[0m in \u001b[0;36m<module>\u001b[0;34m()\u001b[0m\n\u001b[1;32m      1\u001b[0m \u001b[0mconjunto2\u001b[0m\u001b[0;34m.\u001b[0m\u001b[0madd\u001b[0m\u001b[0;34m(\u001b[0m\u001b[0;36m9\u001b[0m\u001b[0;34m)\u001b[0m\u001b[0;34m\u001b[0m\u001b[0;34m\u001b[0m\u001b[0m\n\u001b[0;32m----> 2\u001b[0;31m \u001b[0mconjunto2\u001b[0m\u001b[0;34m[\u001b[0m\u001b[0;36m1\u001b[0m\u001b[0;34m]\u001b[0m\u001b[0;34m\u001b[0m\u001b[0;34m\u001b[0m\u001b[0m\n\u001b[0m",
      "\u001b[0;31mTypeError\u001b[0m: 'set' object does not support indexing"
     ]
    }
   ],
   "source": [
    "#Não é suportado o index\n",
    "conjunto2.add(9)\n",
    "conjunto2[1]"
   ]
  },
  {
   "cell_type": "code",
   "execution_count": 113,
   "metadata": {
    "colab": {
     "base_uri": "https://localhost:8080/",
     "height": 36
    },
    "colab_type": "code",
    "executionInfo": {
     "elapsed": 632,
     "status": "ok",
     "timestamp": 1566327448825,
     "user": {
      "displayName": "Alexandre Santos",
      "photoUrl": "https://lh4.googleusercontent.com/-GCmUu6FB55Q/AAAAAAAAAAI/AAAAAAAAAAc/jmixclz7KqE/s64/photo.jpg",
      "userId": "08960058364369820557"
     },
     "user_tz": 180
    },
    "id": "t-xuMwCPY1j2",
    "outputId": "2df66164-b4c0-4da1-9512-2c0303bcd625"
   },
   "outputs": [
    {
     "data": {
      "text/plain": [
       "{1, 2, 4, 5, 7, 8}"
      ]
     },
     "execution_count": 113,
     "metadata": {
      "tags": []
     },
     "output_type": "execute_result"
    }
   ],
   "source": [
    "conjunto2.remove(9)\n",
    "conjunto2"
   ]
  },
  {
   "cell_type": "code",
   "execution_count": 114,
   "metadata": {
    "colab": {
     "base_uri": "https://localhost:8080/",
     "height": 36
    },
    "colab_type": "code",
    "executionInfo": {
     "elapsed": 653,
     "status": "ok",
     "timestamp": 1566327614117,
     "user": {
      "displayName": "Alexandre Santos",
      "photoUrl": "https://lh4.googleusercontent.com/-GCmUu6FB55Q/AAAAAAAAAAI/AAAAAAAAAAc/jmixclz7KqE/s64/photo.jpg",
      "userId": "08960058364369820557"
     },
     "user_tz": 180
    },
    "id": "I8uhJUjjZdgu",
    "outputId": "1f5029c0-8a8b-4199-b834-53068d7d3c7a"
   },
   "outputs": [
    {
     "data": {
      "text/plain": [
       "{1, 4, 5, 6, 7, 8}"
      ]
     },
     "execution_count": 114,
     "metadata": {
      "tags": []
     },
     "output_type": "execute_result"
    }
   ],
   "source": [
    "lista = [4, 5, 6, 7, 8, 1]\n",
    "conjunto3 = set(lista)\n",
    "conjunto3"
   ]
  },
  {
   "cell_type": "markdown",
   "metadata": {
    "colab_type": "text",
    "id": "xnF5-2b9ZzrJ"
   },
   "source": [
    "**Operadores de Comparação**"
   ]
  },
  {
   "cell_type": "code",
   "execution_count": 115,
   "metadata": {
    "colab": {
     "base_uri": "https://localhost:8080/",
     "height": 36
    },
    "colab_type": "code",
    "executionInfo": {
     "elapsed": 620,
     "status": "ok",
     "timestamp": 1566327767005,
     "user": {
      "displayName": "Alexandre Santos",
      "photoUrl": "https://lh4.googleusercontent.com/-GCmUu6FB55Q/AAAAAAAAAAI/AAAAAAAAAAc/jmixclz7KqE/s64/photo.jpg",
      "userId": "08960058364369820557"
     },
     "user_tz": 180
    },
    "id": "QojfZ-hoZ5vS",
    "outputId": "7e0f36b7-320b-4603-8cac-95083655d7a7"
   },
   "outputs": [
    {
     "data": {
      "text/plain": [
       "True"
      ]
     },
     "execution_count": 115,
     "metadata": {
      "tags": []
     },
     "output_type": "execute_result"
    }
   ],
   "source": [
    "1 == 1"
   ]
  },
  {
   "cell_type": "code",
   "execution_count": 116,
   "metadata": {
    "colab": {
     "base_uri": "https://localhost:8080/",
     "height": 36
    },
    "colab_type": "code",
    "executionInfo": {
     "elapsed": 892,
     "status": "ok",
     "timestamp": 1566327770027,
     "user": {
      "displayName": "Alexandre Santos",
      "photoUrl": "https://lh4.googleusercontent.com/-GCmUu6FB55Q/AAAAAAAAAAI/AAAAAAAAAAc/jmixclz7KqE/s64/photo.jpg",
      "userId": "08960058364369820557"
     },
     "user_tz": 180
    },
    "id": "fkR3XwEdaEhq",
    "outputId": "63f48cb4-0702-4a18-8d95-cd2e8bed5a6b"
   },
   "outputs": [
    {
     "data": {
      "text/plain": [
       "False"
      ]
     },
     "execution_count": 116,
     "metadata": {
      "tags": []
     },
     "output_type": "execute_result"
    }
   ],
   "source": [
    "2 <= 1"
   ]
  },
  {
   "cell_type": "code",
   "execution_count": 117,
   "metadata": {
    "colab": {
     "base_uri": "https://localhost:8080/",
     "height": 36
    },
    "colab_type": "code",
    "executionInfo": {
     "elapsed": 726,
     "status": "ok",
     "timestamp": 1566327774211,
     "user": {
      "displayName": "Alexandre Santos",
      "photoUrl": "https://lh4.googleusercontent.com/-GCmUu6FB55Q/AAAAAAAAAAI/AAAAAAAAAAc/jmixclz7KqE/s64/photo.jpg",
      "userId": "08960058364369820557"
     },
     "user_tz": 180
    },
    "id": "hfIM1ztraIRd",
    "outputId": "4043b717-992c-4cd9-e070-5128b7eaea01"
   },
   "outputs": [
    {
     "data": {
      "text/plain": [
       "False"
      ]
     },
     "execution_count": 117,
     "metadata": {
      "tags": []
     },
     "output_type": "execute_result"
    }
   ],
   "source": [
    "5 >= 7"
   ]
  },
  {
   "cell_type": "code",
   "execution_count": 118,
   "metadata": {
    "colab": {
     "base_uri": "https://localhost:8080/",
     "height": 36
    },
    "colab_type": "code",
    "executionInfo": {
     "elapsed": 669,
     "status": "ok",
     "timestamp": 1566327777078,
     "user": {
      "displayName": "Alexandre Santos",
      "photoUrl": "https://lh4.googleusercontent.com/-GCmUu6FB55Q/AAAAAAAAAAI/AAAAAAAAAAc/jmixclz7KqE/s64/photo.jpg",
      "userId": "08960058364369820557"
     },
     "user_tz": 180
    },
    "id": "ZlAsPT-SaMgY",
    "outputId": "308b0ec9-037e-4824-823e-1c8e49054964"
   },
   "outputs": [
    {
     "data": {
      "text/plain": [
       "True"
      ]
     },
     "execution_count": 118,
     "metadata": {
      "tags": []
     },
     "output_type": "execute_result"
    }
   ],
   "source": [
    "6 != 7"
   ]
  },
  {
   "cell_type": "code",
   "execution_count": 119,
   "metadata": {
    "colab": {
     "base_uri": "https://localhost:8080/",
     "height": 36
    },
    "colab_type": "code",
    "executionInfo": {
     "elapsed": 813,
     "status": "ok",
     "timestamp": 1566327876822,
     "user": {
      "displayName": "Alexandre Santos",
      "photoUrl": "https://lh4.googleusercontent.com/-GCmUu6FB55Q/AAAAAAAAAAI/AAAAAAAAAAc/jmixclz7KqE/s64/photo.jpg",
      "userId": "08960058364369820557"
     },
     "user_tz": 180
    },
    "id": "XzIu9bXjaYbN",
    "outputId": "cbe95fc6-fb75-4e32-afee-4798afc4d815"
   },
   "outputs": [
    {
     "data": {
      "text/plain": [
       "True"
      ]
     },
     "execution_count": 119,
     "metadata": {
      "tags": []
     },
     "output_type": "execute_result"
    }
   ],
   "source": [
    "not(5 == 6) and (6 != 7) and ( 4 < 5)"
   ]
  },
  {
   "cell_type": "markdown",
   "metadata": {
    "colab_type": "text",
    "id": "xD99M3NYa04N"
   },
   "source": [
    "**Operadores Condicionais if/else**"
   ]
  },
  {
   "cell_type": "code",
   "execution_count": 122,
   "metadata": {
    "colab": {
     "base_uri": "https://localhost:8080/",
     "height": 36
    },
    "colab_type": "code",
    "executionInfo": {
     "elapsed": 651,
     "status": "ok",
     "timestamp": 1566328236801,
     "user": {
      "displayName": "Alexandre Santos",
      "photoUrl": "https://lh4.googleusercontent.com/-GCmUu6FB55Q/AAAAAAAAAAI/AAAAAAAAAAc/jmixclz7KqE/s64/photo.jpg",
      "userId": "08960058364369820557"
     },
     "user_tz": 180
    },
    "id": "-oRMNyihbBLS",
    "outputId": "ebf645e7-6882-418f-bb04-e03ef0a50113"
   },
   "outputs": [
    {
     "name": "stdout",
     "output_type": "stream",
     "text": [
      "O número 15 é maior que o número 10\n"
     ]
    }
   ],
   "source": [
    "numero1 = 15\n",
    "numero2 = 10\n",
    "\n",
    "if ((numero1 != numero2) and (numero1 < numero2)):\n",
    "  print(\"O número {} é menor que o número {}\".format(numero1, numero2))\n",
    "else:\n",
    "  print(\"O número {} é maior que o número {}\".format(numero1, numero2))\n",
    "    "
   ]
  },
  {
   "cell_type": "code",
   "execution_count": 123,
   "metadata": {
    "colab": {
     "base_uri": "https://localhost:8080/",
     "height": 36
    },
    "colab_type": "code",
    "executionInfo": {
     "elapsed": 637,
     "status": "ok",
     "timestamp": 1566330334195,
     "user": {
      "displayName": "Alexandre Santos",
      "photoUrl": "https://lh4.googleusercontent.com/-GCmUu6FB55Q/AAAAAAAAAAI/AAAAAAAAAAc/jmixclz7KqE/s64/photo.jpg",
      "userId": "08960058364369820557"
     },
     "user_tz": 180
    },
    "id": "LibxDRdmcZj6",
    "outputId": "d3cd9671-ca08-424c-ef7d-f442f27f61cc"
   },
   "outputs": [
    {
     "name": "stdout",
     "output_type": "stream",
     "text": [
      " 3 é maior que 2\n"
     ]
    }
   ],
   "source": [
    "a = 3\n",
    "b = 2\n",
    "\n",
    "if (a == b):\n",
    "  print(\" {} é igual a {}\".format(a, b))\n",
    "elif(a < b):\n",
    "  print(\" {} é menor que {}\".format(a, b))\n",
    "elif(a > b):\n",
    "  print(\" {} é maior que {}\".format(a, b))\n"
   ]
  },
  {
   "cell_type": "markdown",
   "metadata": {
    "colab_type": "text",
    "id": "Hn1MdY4xlL07"
   },
   "source": [
    "**For**"
   ]
  },
  {
   "cell_type": "code",
   "execution_count": 124,
   "metadata": {
    "colab": {
     "base_uri": "https://localhost:8080/",
     "height": 74
    },
    "colab_type": "code",
    "executionInfo": {
     "elapsed": 1337,
     "status": "ok",
     "timestamp": 1566330709510,
     "user": {
      "displayName": "Alexandre Santos",
      "photoUrl": "https://lh4.googleusercontent.com/-GCmUu6FB55Q/AAAAAAAAAAI/AAAAAAAAAAc/jmixclz7KqE/s64/photo.jpg",
      "userId": "08960058364369820557"
     },
     "user_tz": 180
    },
    "id": "sjAX4BN3lK_Y",
    "outputId": "30e2504b-7035-41ec-c7a1-45be21f360e7"
   },
   "outputs": [
    {
     "name": "stdout",
     "output_type": "stream",
     "text": [
      "Caderno\n",
      "Lápis\n",
      "Borracha\n"
     ]
    }
   ],
   "source": [
    "lista = [\"Caderno\", \"Lápis\", \"Borracha\"]\n",
    "\n",
    "for elementos in lista:\n",
    "  print(elementos)"
   ]
  },
  {
   "cell_type": "code",
   "execution_count": 125,
   "metadata": {
    "colab": {
     "base_uri": "https://localhost:8080/",
     "height": 92
    },
    "colab_type": "code",
    "executionInfo": {
     "elapsed": 640,
     "status": "ok",
     "timestamp": 1566330828146,
     "user": {
      "displayName": "Alexandre Santos",
      "photoUrl": "https://lh4.googleusercontent.com/-GCmUu6FB55Q/AAAAAAAAAAI/AAAAAAAAAAc/jmixclz7KqE/s64/photo.jpg",
      "userId": "08960058364369820557"
     },
     "user_tz": 180
    },
    "id": "YlBS_U9nlpg4",
    "outputId": "2bc38137-1c42-4d8e-96de-a8da803f0fcd"
   },
   "outputs": [
    {
     "name": "stdout",
     "output_type": "stream",
     "text": [
      "15\n",
      "9\n",
      "12\n",
      "30\n"
     ]
    }
   ],
   "source": [
    "lista = [5, 3, 4, 10]\n",
    "\n",
    "for elemento in lista:\n",
    "  elemento *= 3\n",
    "  print(elemento)"
   ]
  },
  {
   "cell_type": "markdown",
   "metadata": {
    "colab_type": "text",
    "id": "LuyyIMgEmIzG"
   },
   "source": [
    "**while**"
   ]
  },
  {
   "cell_type": "code",
   "execution_count": 129,
   "metadata": {
    "colab": {
     "base_uri": "https://localhost:8080/",
     "height": 92
    },
    "colab_type": "code",
    "executionInfo": {
     "elapsed": 653,
     "status": "ok",
     "timestamp": 1566331446225,
     "user": {
      "displayName": "Alexandre Santos",
      "photoUrl": "https://lh4.googleusercontent.com/-GCmUu6FB55Q/AAAAAAAAAAI/AAAAAAAAAAc/jmixclz7KqE/s64/photo.jpg",
      "userId": "08960058364369820557"
     },
     "user_tz": 180
    },
    "id": "aG9e8MHDmNm2",
    "outputId": "753a5a53-4c99-4105-c346-260c8cf1c579"
   },
   "outputs": [
    {
     "name": "stdout",
     "output_type": "stream",
     "text": [
      "1\n",
      "2\n",
      "3\n",
      "4\n"
     ]
    }
   ],
   "source": [
    "numero = 1\n",
    "while numero < 5:\n",
    "  print(numero)\n",
    "  numero += 1"
   ]
  },
  {
   "cell_type": "markdown",
   "metadata": {
    "colab_type": "text",
    "id": "haIDvEzmott6"
   },
   "source": [
    "**Função range()**"
   ]
  },
  {
   "cell_type": "code",
   "execution_count": 132,
   "metadata": {
    "colab": {
     "base_uri": "https://localhost:8080/",
     "height": 36
    },
    "colab_type": "code",
    "executionInfo": {
     "elapsed": 511,
     "status": "ok",
     "timestamp": 1566331853205,
     "user": {
      "displayName": "Alexandre Santos",
      "photoUrl": "https://lh4.googleusercontent.com/-GCmUu6FB55Q/AAAAAAAAAAI/AAAAAAAAAAc/jmixclz7KqE/s64/photo.jpg",
      "userId": "08960058364369820557"
     },
     "user_tz": 180
    },
    "id": "hMU8Kmr-ozzN",
    "outputId": "c0eabc26-f310-49e1-c897-f62c41b1e215"
   },
   "outputs": [
    {
     "data": {
      "text/plain": [
       "range(0, 9)"
      ]
     },
     "execution_count": 132,
     "metadata": {
      "tags": []
     },
     "output_type": "execute_result"
    }
   ],
   "source": [
    "range(0, 9)\n"
   ]
  },
  {
   "cell_type": "code",
   "execution_count": 133,
   "metadata": {
    "colab": {
     "base_uri": "https://localhost:8080/",
     "height": 36
    },
    "colab_type": "code",
    "executionInfo": {
     "elapsed": 625,
     "status": "ok",
     "timestamp": 1566331910835,
     "user": {
      "displayName": "Alexandre Santos",
      "photoUrl": "https://lh4.googleusercontent.com/-GCmUu6FB55Q/AAAAAAAAAAI/AAAAAAAAAAc/jmixclz7KqE/s64/photo.jpg",
      "userId": "08960058364369820557"
     },
     "user_tz": 180
    },
    "id": "pMYBq_2vp80I",
    "outputId": "0d16d78c-3c36-4c46-8caa-4bcc81b48d3a"
   },
   "outputs": [
    {
     "data": {
      "text/plain": [
       "[0, 1, 2, 3, 4, 5, 6, 7, 8]"
      ]
     },
     "execution_count": 133,
     "metadata": {
      "tags": []
     },
     "output_type": "execute_result"
    }
   ],
   "source": [
    "# Observe que o 9 é o ponto de parada\n",
    "lista = list(range(0, 9))\n",
    "lista"
   ]
  },
  {
   "cell_type": "code",
   "execution_count": 134,
   "metadata": {
    "colab": {
     "base_uri": "https://localhost:8080/",
     "height": 92
    },
    "colab_type": "code",
    "executionInfo": {
     "elapsed": 719,
     "status": "ok",
     "timestamp": 1566332046666,
     "user": {
      "displayName": "Alexandre Santos",
      "photoUrl": "https://lh4.googleusercontent.com/-GCmUu6FB55Q/AAAAAAAAAAI/AAAAAAAAAAc/jmixclz7KqE/s64/photo.jpg",
      "userId": "08960058364369820557"
     },
     "user_tz": 180
    },
    "id": "CbY8xkuxqZw8",
    "outputId": "86d0de31-d8d8-44b6-ba09-4d1d8690c762"
   },
   "outputs": [
    {
     "name": "stdout",
     "output_type": "stream",
     "text": [
      "0\n",
      "1\n",
      "2\n",
      "3\n"
     ]
    }
   ],
   "source": [
    "for x in range(0, 4):\n",
    "  print(x)"
   ]
  },
  {
   "cell_type": "markdown",
   "metadata": {
    "colab_type": "text",
    "id": "7yuio7RPq0_W"
   },
   "source": [
    "**Criando uma Lista a partir de outra**"
   ]
  },
  {
   "cell_type": "code",
   "execution_count": 0,
   "metadata": {
    "colab": {},
    "colab_type": "code",
    "id": "OCCSJ7JRqx_j"
   },
   "outputs": [],
   "source": [
    "lista_inicial = list([3, 5, 6, 7])\n",
    "lista_interacao = []\n",
    "\n"
   ]
  },
  {
   "cell_type": "code",
   "execution_count": 146,
   "metadata": {
    "colab": {
     "base_uri": "https://localhost:8080/",
     "height": 36
    },
    "colab_type": "code",
    "executionInfo": {
     "elapsed": 634,
     "status": "ok",
     "timestamp": 1566332638696,
     "user": {
      "displayName": "Alexandre Santos",
      "photoUrl": "https://lh4.googleusercontent.com/-GCmUu6FB55Q/AAAAAAAAAAI/AAAAAAAAAAc/jmixclz7KqE/s64/photo.jpg",
      "userId": "08960058364369820557"
     },
     "user_tz": 180
    },
    "id": "xbGA1sVqrzNY",
    "outputId": "b0b6bd79-7490-4568-dc3b-0ea049f6806f"
   },
   "outputs": [
    {
     "data": {
      "text/plain": [
       "[6, 10, 12, 14]"
      ]
     },
     "execution_count": 146,
     "metadata": {
      "tags": []
     },
     "output_type": "execute_result"
    }
   ],
   "source": [
    "for lista in lista_inicial:\n",
    "  lista_interacao.append(lista * 2)\n",
    "  \n",
    "lista_interacao"
   ]
  },
  {
   "cell_type": "code",
   "execution_count": 150,
   "metadata": {
    "colab": {
     "base_uri": "https://localhost:8080/",
     "height": 36
    },
    "colab_type": "code",
    "executionInfo": {
     "elapsed": 501,
     "status": "ok",
     "timestamp": 1566332828844,
     "user": {
      "displayName": "Alexandre Santos",
      "photoUrl": "https://lh4.googleusercontent.com/-GCmUu6FB55Q/AAAAAAAAAAI/AAAAAAAAAAc/jmixclz7KqE/s64/photo.jpg",
      "userId": "08960058364369820557"
     },
     "user_tz": 180
    },
    "id": "ZTJL_Bh4tEUt",
    "outputId": "a60daaed-0d32-400a-a412-7e309d5b5630"
   },
   "outputs": [
    {
     "data": {
      "text/plain": [
       "[2, 4, 6, 8, 10, 12, 14, 16]"
      ]
     },
     "execution_count": 150,
     "metadata": {
      "tags": []
     },
     "output_type": "execute_result"
    }
   ],
   "source": [
    "lista1 = [numero * 2 for numero in range(1, 9) ]\n",
    "lista1"
   ]
  },
  {
   "cell_type": "code",
   "execution_count": 152,
   "metadata": {
    "colab": {
     "base_uri": "https://localhost:8080/",
     "height": 36
    },
    "colab_type": "code",
    "executionInfo": {
     "elapsed": 482,
     "status": "ok",
     "timestamp": 1566332888303,
     "user": {
      "displayName": "Alexandre Santos",
      "photoUrl": "https://lh4.googleusercontent.com/-GCmUu6FB55Q/AAAAAAAAAAI/AAAAAAAAAAc/jmixclz7KqE/s64/photo.jpg",
      "userId": "08960058364369820557"
     },
     "user_tz": 180
    },
    "id": "XIeszZwVtnTy",
    "outputId": "d42ddc95-0b8c-40b9-d038-87dffe525efd"
   },
   "outputs": [
    {
     "data": {
      "text/plain": [
       "[4, 8, 12, 16, 20, 24, 28, 32]"
      ]
     },
     "execution_count": 152,
     "metadata": {
      "tags": []
     },
     "output_type": "execute_result"
    }
   ],
   "source": [
    "lista2 = [numero * 2 for numero in lista1 ]\n",
    "lista2"
   ]
  },
  {
   "cell_type": "markdown",
   "metadata": {
    "colab_type": "text",
    "id": "X7pKqyxPvZ9q"
   },
   "source": [
    "**Funções**"
   ]
  },
  {
   "cell_type": "code",
   "execution_count": 0,
   "metadata": {
    "colab": {},
    "colab_type": "code",
    "id": "Nf3Xd5gKvWeW"
   },
   "outputs": [],
   "source": [
    "def imprimir():\n",
    "  print(\"Dados impressos\")"
   ]
  },
  {
   "cell_type": "code",
   "execution_count": 157,
   "metadata": {
    "colab": {
     "base_uri": "https://localhost:8080/",
     "height": 36
    },
    "colab_type": "code",
    "executionInfo": {
     "elapsed": 499,
     "status": "ok",
     "timestamp": 1566333510333,
     "user": {
      "displayName": "Alexandre Santos",
      "photoUrl": "https://lh4.googleusercontent.com/-GCmUu6FB55Q/AAAAAAAAAAI/AAAAAAAAAAc/jmixclz7KqE/s64/photo.jpg",
      "userId": "08960058364369820557"
     },
     "user_tz": 180
    },
    "id": "HbNfk9lOv3oZ",
    "outputId": "2475cf28-adea-47ad-e6da-36250a67a0c4"
   },
   "outputs": [
    {
     "name": "stdout",
     "output_type": "stream",
     "text": [
      "Dados impressos\n"
     ]
    }
   ],
   "source": [
    "imprimir()"
   ]
  },
  {
   "cell_type": "code",
   "execution_count": 0,
   "metadata": {
    "colab": {},
    "colab_type": "code",
    "id": "lvQwZKGlyTxl"
   },
   "outputs": [],
   "source": [
    "def soma(numer1, numero2):\n",
    "  return numer1 + numero2\n"
   ]
  },
  {
   "cell_type": "code",
   "execution_count": 163,
   "metadata": {
    "colab": {
     "base_uri": "https://localhost:8080/",
     "height": 36
    },
    "colab_type": "code",
    "executionInfo": {
     "elapsed": 532,
     "status": "ok",
     "timestamp": 1566334669539,
     "user": {
      "displayName": "Alexandre Santos",
      "photoUrl": "https://lh4.googleusercontent.com/-GCmUu6FB55Q/AAAAAAAAAAI/AAAAAAAAAAc/jmixclz7KqE/s64/photo.jpg",
      "userId": "08960058364369820557"
     },
     "user_tz": 180
    },
    "id": "8aIvF0Rl0I3V",
    "outputId": "10e2e0e7-16b6-4769-dee7-b7e0053afbd1"
   },
   "outputs": [
    {
     "data": {
      "text/plain": [
       "18"
      ]
     },
     "execution_count": 163,
     "metadata": {
      "tags": []
     },
     "output_type": "execute_result"
    }
   ],
   "source": [
    "resultado = soma(10, 8)\n",
    "resultado"
   ]
  },
  {
   "cell_type": "markdown",
   "metadata": {},
   "source": [
    "**Função Map**"
   ]
  },
  {
   "cell_type": "code",
   "execution_count": 2,
   "metadata": {},
   "outputs": [],
   "source": [
    "def mutiplicar(numero):\n",
    "    return numero * 2"
   ]
  },
  {
   "cell_type": "code",
   "execution_count": 3,
   "metadata": {},
   "outputs": [
    {
     "data": {
      "text/plain": [
       "10"
      ]
     },
     "execution_count": 3,
     "metadata": {},
     "output_type": "execute_result"
    }
   ],
   "source": [
    "mutiplicar(5)"
   ]
  },
  {
   "cell_type": "code",
   "execution_count": 4,
   "metadata": {},
   "outputs": [
    {
     "data": {
      "text/plain": [
       "[1, 2, 3, 4, 5, 6, 7, 8, 9]"
      ]
     },
     "execution_count": 4,
     "metadata": {},
     "output_type": "execute_result"
    }
   ],
   "source": [
    "lista = list(range(1, 10))\n",
    "lista"
   ]
  },
  {
   "cell_type": "code",
   "execution_count": 11,
   "metadata": {},
   "outputs": [
    {
     "data": {
      "text/plain": [
       "[2, 4, 6, 8, 10, 12, 14, 16, 18]"
      ]
     },
     "execution_count": 11,
     "metadata": {},
     "output_type": "execute_result"
    }
   ],
   "source": [
    "lista2 = list(map(mutiplicar,lista))\n",
    "lista2"
   ]
  },
  {
   "cell_type": "markdown",
   "metadata": {},
   "source": [
    "**Função Lambda**"
   ]
  },
  {
   "cell_type": "code",
   "execution_count": 14,
   "metadata": {},
   "outputs": [
    {
     "data": {
      "text/plain": [
       "[2, 4, 6, 8]"
      ]
     },
     "execution_count": 14,
     "metadata": {},
     "output_type": "execute_result"
    }
   ],
   "source": [
    "lista = [1, 2, 3, 4]\n",
    "lista2 = list(map(lambda num: num * 2, lista))\n",
    "lista2"
   ]
  },
  {
   "cell_type": "markdown",
   "metadata": {},
   "source": [
    "**Filtros**"
   ]
  },
  {
   "cell_type": "code",
   "execution_count": 15,
   "metadata": {},
   "outputs": [],
   "source": [
    "def pares(numero):\n",
    "    if(numero % 2 == 0):\n",
    "        return numero"
   ]
  },
  {
   "cell_type": "code",
   "execution_count": 18,
   "metadata": {},
   "outputs": [
    {
     "name": "stdout",
     "output_type": "stream",
     "text": [
      "4\n"
     ]
    }
   ],
   "source": [
    "print(pares(4))"
   ]
  },
  {
   "cell_type": "code",
   "execution_count": 19,
   "metadata": {},
   "outputs": [
    {
     "data": {
      "text/plain": [
       "[2, 4, 6]"
      ]
     },
     "execution_count": 19,
     "metadata": {},
     "output_type": "execute_result"
    }
   ],
   "source": [
    "lista = list(range(1, 8))\n",
    "lista_pares = list(filter(pares, lista))\n",
    "lista_pares"
   ]
  },
  {
   "cell_type": "code",
   "execution_count": 21,
   "metadata": {},
   "outputs": [
    {
     "data": {
      "text/plain": [
       "[2, 4, 6]"
      ]
     },
     "execution_count": 21,
     "metadata": {},
     "output_type": "execute_result"
    }
   ],
   "source": [
    "lista_lambda = list(filter(lambda num: num%2 == 0, lista))\n",
    "lista_lambda"
   ]
  },
  {
   "cell_type": "markdown",
   "metadata": {},
   "source": [
    "**Coleção de Caracteres**"
   ]
  },
  {
   "cell_type": "code",
   "execution_count": 22,
   "metadata": {},
   "outputs": [],
   "source": [
    "frase = \"A economia está Ocilando Bastante\""
   ]
  },
  {
   "cell_type": "code",
   "execution_count": 23,
   "metadata": {},
   "outputs": [
    {
     "data": {
      "text/plain": [
       "'A ECONOMIA ESTÁ OCILANDO BASTANTE'"
      ]
     },
     "execution_count": 23,
     "metadata": {},
     "output_type": "execute_result"
    }
   ],
   "source": [
    "#Maísculas\n",
    "frase = frase.upper()\n",
    "frase"
   ]
  },
  {
   "cell_type": "code",
   "execution_count": 24,
   "metadata": {},
   "outputs": [
    {
     "data": {
      "text/plain": [
       "'a economia está ocilando bastante'"
      ]
     },
     "execution_count": 24,
     "metadata": {},
     "output_type": "execute_result"
    }
   ],
   "source": [
    "#minusculas\n",
    "frase = frase.lower()\n",
    "frase"
   ]
  },
  {
   "cell_type": "code",
   "execution_count": 25,
   "metadata": {},
   "outputs": [
    {
     "data": {
      "text/plain": [
       "'A economia está ocilando bastante'"
      ]
     },
     "execution_count": 25,
     "metadata": {},
     "output_type": "execute_result"
    }
   ],
   "source": [
    "frase = frase.capitalize()\n",
    "frase"
   ]
  },
  {
   "cell_type": "code",
   "execution_count": 26,
   "metadata": {},
   "outputs": [
    {
     "data": {
      "text/plain": [
       "['A', 'economia', 'está', 'ocilando', 'bastante']"
      ]
     },
     "execution_count": 26,
     "metadata": {},
     "output_type": "execute_result"
    }
   ],
   "source": [
    "frase.split()"
   ]
  },
  {
   "cell_type": "code",
   "execution_count": 28,
   "metadata": {},
   "outputs": [
    {
     "data": {
      "text/plain": [
       "['A economia está ocilando bastante']"
      ]
     },
     "execution_count": 28,
     "metadata": {},
     "output_type": "execute_result"
    }
   ],
   "source": [
    "frase.split(',')"
   ]
  }
 ],
 "metadata": {
  "colab": {
   "collapsed_sections": [],
   "name": "Fundamentos.ipynb",
   "provenance": [],
   "version": "0.3.2"
  },
  "kernelspec": {
   "display_name": "Python 3",
   "language": "python",
   "name": "python3"
  },
  "language_info": {
   "codemirror_mode": {
    "name": "ipython",
    "version": 3
   },
   "file_extension": ".py",
   "mimetype": "text/x-python",
   "name": "python",
   "nbconvert_exporter": "python",
   "pygments_lexer": "ipython3",
   "version": "3.7.3"
  }
 },
 "nbformat": 4,
 "nbformat_minor": 1
}

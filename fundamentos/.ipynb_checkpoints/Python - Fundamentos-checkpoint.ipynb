{
 "cells": [
  {
   "cell_type": "markdown",
   "metadata": {},
   "source": [
    "<h1><b>Python Fundamentos</b></h1>"
   ]
  },
  {
   "cell_type": "markdown",
   "metadata": {},
   "source": [
    "<pre>\n",
    "O Python é uma linguagem de tipagem dinâmica, ou seja, não precisamos definir o tipo de uma variável no momento da sua criação, pois este tipo irá depender do conteúdo que essa variável irá armazenar. Por exemplo: se criamos uma variável e inserimos nela um valor numérico, logo, essa variável possuirá seu tipo numérico.\n",
    "\n",
    "No Python, possuímos alguns tipos nativos:\n",
    "\n",
    "    Int: Números inteiros;\n",
    "    Str: Cadeia de caracteres;\n",
    "    Bool: Dados booleanos (True ou False);\n",
    "    List: Estrutura de dados para armazenamento de conjunto de elementos;\n",
    "    Dict: Dicionários;\n",
    "    Files: Arquivos.\n",
    "</pre>"
   ]
  },
  {
   "cell_type": "markdown",
   "metadata": {},
   "source": [
    "<h3>Tipo String</h3>"
   ]
  },
  {
   "cell_type": "markdown",
   "metadata": {},
   "source": [
    "No Python, uma string é uma sequência de caracteres que é utilizada para armazenar desde informações textuais até coleções de bytes.\n",
    "Por considerar uma string como uma sequência de caracteres, o Python armazena os valores de uma string separados por posição, "
   ]
  },
  {
   "cell_type": "code",
   "execution_count": 5,
   "metadata": {},
   "outputs": [
    {
     "name": "stdout",
     "output_type": "stream",
     "text": [
      "Treinamento\n"
     ]
    }
   ],
   "source": [
    "#Assim, se quisermos obter qualquer caractere em uma string, precisamos definir a posição do caractere que desejamos:\n",
    "palavra = \"Treinamento\"\n",
    "print(palavra)"
   ]
  },
  {
   "cell_type": "code",
   "execution_count": 6,
   "metadata": {},
   "outputs": [
    {
     "name": "stdout",
     "output_type": "stream",
     "text": [
      "Treinamento Python\n"
     ]
    }
   ],
   "source": [
    "#Podemos também concatenar strings utilizando o operador \"+\"\n",
    "palavra = palavra + \" Python\"\n",
    "print(palavra)"
   ]
  },
  {
   "cell_type": "code",
   "execution_count": 21,
   "metadata": {},
   "outputs": [
    {
     "name": "stdout",
     "output_type": "stream",
     "text": [
      "Olá, André Marques Você tem 38 anos e sua profissão é Programador\n"
     ]
    }
   ],
   "source": [
    "#impressão \n",
    "nome = \"André Marques\"\n",
    "idade = 38\n",
    "profissao = \"Programador\"\n",
    "\n",
    "print(\"Olá,\", nome, \"Você tem\", idade, \"anos e sua profissão é\", profissao)"
   ]
  },
  {
   "cell_type": "code",
   "execution_count": 24,
   "metadata": {},
   "outputs": [
    {
     "name": "stdout",
     "output_type": "stream",
     "text": [
      "Informe seu nome: Ricardo Almeida\n",
      "Seja bem vindo Ricardo Almeida!!\n"
     ]
    }
   ],
   "source": [
    "#Entrada de Dados\n",
    "nome = input('Informe seu nome: ')\n",
    "print(f\"Seja bem vindo {nome}!!\")"
   ]
  },
  {
   "cell_type": "code",
   "execution_count": 23,
   "metadata": {},
   "outputs": [
    {
     "name": "stdout",
     "output_type": "stream",
     "text": [
      "Olá, André Marques você tem 38 anos e sua profissão é Programador\n"
     ]
    }
   ],
   "source": [
    "#segunda saída\n",
    "print(f\"Olá, {nome} você tem {idade} anos e sua profissão é {profissao}\")"
   ]
  },
  {
   "cell_type": "code",
   "execution_count": 26,
   "metadata": {},
   "outputs": [
    {
     "name": "stdout",
     "output_type": "stream",
     "text": [
      "Informe tua idade: 22\n",
      "Você tem 22 anos\n"
     ]
    }
   ],
   "source": [
    "#Exemplo 2\n",
    "idade = input(\"Informe tua idade: \")\n",
    "print(f\"Você tem {idade} anos\")"
   ]
  },
  {
   "cell_type": "code",
   "execution_count": 27,
   "metadata": {},
   "outputs": [
    {
     "name": "stdout",
     "output_type": "stream",
     "text": [
      "Informe o valor para o primeiro núnero: 2\n",
      "Informe o valor para o segundo núnero: 2\n",
      "O resultado é igual a: 22\n"
     ]
    }
   ],
   "source": [
    "#somar dois números\n",
    "n1 = input(\"Informe o valor para o primeiro núnero: \")\n",
    "n2 = input(\"Informe o valor para o segundo núnero: \")\n",
    "\n",
    "soma = n1 + n2\n",
    "print(f'O resultado é igual a: {soma}')"
   ]
  },
  {
   "cell_type": "markdown",
   "metadata": {},
   "source": [
    "<b>Nota - se que no exemplo anterior não foi realizado a soma e sim concartenou os dois números pois foi reconhecido como string, para resolver este problema temos que realizar uma conversão</b>"
   ]
  },
  {
   "cell_type": "code",
   "execution_count": 28,
   "metadata": {},
   "outputs": [
    {
     "name": "stdout",
     "output_type": "stream",
     "text": [
      "Informe o valor para o primeiro núnero: 2\n",
      "Informe o valor para o segundo núnero: 2\n",
      "O resultado é igual a: 4\n"
     ]
    }
   ],
   "source": [
    "#somar dois números\n",
    "n1 = int(input(\"Informe o valor para o primeiro núnero: \"))\n",
    "n2 = int(input(\"Informe o valor para o segundo núnero: \"))\n",
    "\n",
    "soma = n1 + n2\n",
    "print(f'O resultado é igual a: {soma}')"
   ]
  },
  {
   "cell_type": "markdown",
   "metadata": {},
   "source": [
    "<h3>Operadores de atribuição</h3>"
   ]
  },
  {
   "cell_type": "markdown",
   "metadata": {},
   "source": [
    "<pre>\n",
    "A atribuição é a forma em que se define um valor referente à determinada variável. No Python, como em várias outras linguagens de programação, a atribuição é dada da seguinte forma: a variável à esquerda recebe o valor definido à direita, sendo separado pelo sinal de igual ( = ).\n",
    "Por possuir tipagem dinâmica, não é necessário definir o tipo da variável que é criada no Python, essa informação será definida a partir do valor que a variável recebe. Por exemplo, se uma variável recebe um valor inteiro, logo seu tipo será int; já uma variável que recebe uma cadeia de caracteres terá seu tipo definido como string.\n",
    "No Python, para descobrir o tipo de uma variável, utilizamos o método type, como pode ser visto no código abaixo:\n",
    "</pre>"
   ]
  },
  {
   "cell_type": "code",
   "execution_count": 29,
   "metadata": {},
   "outputs": [
    {
     "name": "stdout",
     "output_type": "stream",
     "text": [
      "<class 'int'>\n",
      "<class 'str'>\n"
     ]
    }
   ],
   "source": [
    "x = 10\n",
    "y = \"Teste\"\n",
    "print(type(x))\n",
    "print(type(y))"
   ]
  },
  {
   "cell_type": "code",
   "execution_count": 41,
   "metadata": {},
   "outputs": [
    {
     "name": "stdout",
     "output_type": "stream",
     "text": [
      "Cargo: Político\n",
      "idade: 33 anos\n",
      "profissão tecnico\n"
     ]
    }
   ],
   "source": [
    "#em Python é possível a atribuição mútipla:\n",
    "cargo, idade, regiao = \"Político\", 33, \"Sudeste\"\n",
    "\n",
    "print(f\"Cargo: {cargo}\\nidade: {idade} anos\\nprofissão {profissao}\")"
   ]
  },
  {
   "cell_type": "code",
   "execution_count": 45,
   "metadata": {},
   "outputs": [
    {
     "ename": "ValueError",
     "evalue": "not enough values to unpack (expected 3, got 2)",
     "output_type": "error",
     "traceback": [
      "\u001b[1;31m---------------------------------------------------------------------------\u001b[0m",
      "\u001b[1;31mValueError\u001b[0m                                Traceback (most recent call last)",
      "\u001b[1;32m<ipython-input-45-596eb9805928>\u001b[0m in \u001b[0;36m<module>\u001b[1;34m()\u001b[0m\n\u001b[1;32m----> 1\u001b[1;33m \u001b[0mnome\u001b[0m\u001b[1;33m,\u001b[0m \u001b[0mtelefone\u001b[0m\u001b[1;33m,\u001b[0m \u001b[0memail\u001b[0m \u001b[1;33m=\u001b[0m \u001b[1;34m\"João\"\u001b[0m \u001b[1;34m\"joao@mail.com\"\u001b[0m\u001b[1;33m,\u001b[0m \u001b[1;34m\"123456\"\u001b[0m\u001b[1;33m\u001b[0m\u001b[0m\n\u001b[0m\u001b[0;32m      2\u001b[0m \u001b[0mprint\u001b[0m\u001b[1;33m(\u001b[0m\u001b[1;34mf'{nome}, {telefone}, {email}'\u001b[0m\u001b[1;33m)\u001b[0m\u001b[1;33m\u001b[0m\u001b[0m\n",
      "\u001b[1;31mValueError\u001b[0m: not enough values to unpack (expected 3, got 2)"
     ]
    }
   ],
   "source": [
    "#erro de compilação\n",
    "nome, telefone, email = \"João\" \"joao@mail.com\", \"123456\"\n",
    "print(f'{nome}, {telefone}, {email}')"
   ]
  },
  {
   "cell_type": "code",
   "execution_count": 51,
   "metadata": {},
   "outputs": [],
   "source": [
    "#exemplos de atribuição\n",
    "altura = 1.70\n",
    "numero = 'João'\n",
    "nome, idade = 'joão', '125'"
   ]
  },
  {
   "cell_type": "markdown",
   "metadata": {},
   "source": [
    "<h3>Operadores Aritméticos</h3>"
   ]
  },
  {
   "cell_type": "markdown",
   "metadata": {},
   "source": [
    "<pre>\n",
    "O Python dispõe de vários operadores aritméticos para a realização de cálculos matemáticos. Estes operadores são utilizados para realizar operações entre dois ou mais valores, tendo sua estrutura definida da seguinte forma\n",
    "variável (ou valor) [operador aritmético] variável (ou valor)\n",
    "Como dito anteriormente, o Python possui diversos operadores aritméticos, os quais podem ser vistos abaixo:\n",
    "</pre>\n",
    "\n"
   ]
  },
  {
   "cell_type": "code",
   "execution_count": 1,
   "metadata": {},
   "outputs": [
    {
     "data": {
      "text/html": [
       "<img src='operadoresAritimeticos.jpg',width=200,heigth=200>"
      ],
      "text/plain": [
       "<IPython.core.display.HTML object>"
      ]
     },
     "metadata": {},
     "output_type": "display_data"
    }
   ],
   "source": [
    "%%html\n",
    "<img src='operadoresAritimeticos.jpg',width=200,heigth=200>"
   ]
  },
  {
   "cell_type": "code",
   "execution_count": 3,
   "metadata": {},
   "outputs": [
    {
     "name": "stdout",
     "output_type": "stream",
     "text": [
      "20\n",
      "5\n",
      "50\n"
     ]
    }
   ],
   "source": [
    "#exemplos\n",
    "print (10 + 10) #Resultado = 20\n",
    "print (10 - 5) # Resultado = 5\n",
    "print(10 * 5) # Resultado = 50"
   ]
  },
  {
   "cell_type": "markdown",
   "metadata": {},
   "source": [
    "<h3>Precedência dos Operadores</h3>"
   ]
  },
  {
   "cell_type": "markdown",
   "metadata": {},
   "source": [
    "<pre>\n",
    "Assim como acontece na matemática, alguns operadores aritméticos possuem precedência sobre outros. Essa precedência faz   com que alguns cálculos tenham maior prioridade e, então, sejam executados primeiro, como no exemplo abaixo:\n",
    "</pre>"
   ]
  },
  {
   "cell_type": "code",
   "execution_count": 20,
   "metadata": {},
   "outputs": [
    {
     "name": "stdout",
     "output_type": "stream",
     "text": [
      "18\n"
     ]
    }
   ],
   "source": [
    "print(10 + 2 * 4)"
   ]
  },
  {
   "cell_type": "markdown",
   "metadata": {},
   "source": [
    "<pre>\n",
    "Neste caso, a multiplicação tem precedência sobre a adição, ou seja: a multiplicação será feita primeiro e seu resultado será somado com o valor 10, resultando em 18.\n",
    "Porém, se quiséssemos que uma operação seja feita primeiro, independente de seu nível de precedência, podemos utilizar os parênteses para definir a precedência, como no exemplo abaixo, onde será somado os valores 10 e 2 para então multiplicar por 4:\n",
    "</pre>"
   ]
  },
  {
   "cell_type": "code",
   "execution_count": 21,
   "metadata": {},
   "outputs": [
    {
     "name": "stdout",
     "output_type": "stream",
     "text": [
      "48\n"
     ]
    }
   ],
   "source": [
    "print((10 + 2) * 4)"
   ]
  },
  {
   "cell_type": "code",
   "execution_count": 23,
   "metadata": {},
   "outputs": [
    {
     "name": "stdout",
     "output_type": "stream",
     "text": [
      "A soma das idades é 77\n"
     ]
    }
   ],
   "source": [
    "#exemplos \n",
    "idade1 = 35\n",
    "idade2 = 42\n",
    "soma_idades = idade1 + idade2\n",
    "print(f'A soma das idades é {soma_idades}')"
   ]
  },
  {
   "cell_type": "markdown",
   "metadata": {},
   "source": [
    "<h3>Operadores lógicos</h3>"
   ]
  },
  {
   "cell_type": "markdown",
   "metadata": {},
   "source": [
    "<pre>\n",
    "Os operadores lógicos,responsáveis por testar se uma determinada comparação entre dois ou mais valores são verdadeiros.\n",
    "Por exemplo: imaginemos que é necessário verificar qual paciente possui idade menor ou igual a 10 anos para que este seja encaminhado com urgência diferenciada em relação aos outros. Para isso, utilizamos operadores que irão comparar a idade deste paciente e retornar verdadeiro se a condição for satisfeita ou falso se a condição não for satisfeita.\n",
    "No Python, possuímos diversos operadores lógicos, como podem ser vistos abaixo:\n",
    "</pre>"
   ]
  },
  {
   "cell_type": "code",
   "execution_count": 2,
   "metadata": {},
   "outputs": [
    {
     "data": {
      "text/html": [
       "<img src='operadoresLogicos.jpg',width=200,heigth=200>"
      ],
      "text/plain": [
       "<IPython.core.display.HTML object>"
      ]
     },
     "metadata": {},
     "output_type": "display_data"
    }
   ],
   "source": [
    "%%html\n",
    "<img src='operadoresLogicos.jpg',width=200,heigth=200>"
   ]
  },
  {
   "cell_type": "markdown",
   "metadata": {},
   "source": [
    "<h3>Condicional if-else e if-elif-else</h3>"
   ]
  },
  {
   "cell_type": "markdown",
   "metadata": {},
   "source": [
    "\n",
    "<pre>\n",
    "Para avaliar a veracidade de uma expressão booleana, utilizamos os comandos if e else. O if irá verificar se determinada condição é verdadeira e executará determinado bloco de código. Caso a expressão não for verdadeira, será executado o bloco do comando else; comando este que, por sua vez, irá executar outro bloco de código.\n",
    "</pre>\n",
    "<code>\n",
    "if (condição):\n",
    "    bloco de código\n",
    "else:\n",
    "    bloco de código\n",
    "</code>"
   ]
  },
  {
   "cell_type": "code",
   "execution_count": 31,
   "metadata": {
    "scrolled": true
   },
   "outputs": [
    {
     "name": "stdout",
     "output_type": "stream",
     "text": [
      "O paciente tem prioridade\n"
     ]
    }
   ],
   "source": [
    "#exemplo\n",
    "idade = 10\n",
    "if (idade <= 10):\n",
    "    print(\"O paciente tem prioridade\")\n",
    "else:\n",
    "    print(\"O paciente deve aguardar atendimento\")"
   ]
  },
  {
   "cell_type": "markdown",
   "metadata": {},
   "source": [
    "<pre>\n",
    "Como faríamos para adicionar uma prioridade maior que os pacientes que possuem idade maior que 10 e uma prioridade menor aos pacientes menores que 10 anos? E isso tudo sendo necessário adicionar um nível maior de prioridade aos pacientes     idosos... Para isso, podemos utilizar o condicional elif. Este condicional irá verificar uma outra expressão booleana,    caso a condição definida no if não seja satisfeita:\n",
    "</pre>"
   ]
  },
  {
   "cell_type": "code",
   "execution_count": 32,
   "metadata": {},
   "outputs": [
    {
     "name": "stdout",
     "output_type": "stream",
     "text": [
      "O paciente tem prioridade\n"
     ]
    }
   ],
   "source": [
    "#exemplos\n",
    "idade = 10\n",
    "if (idade <= 10):\n",
    "    print(\"O paciente tem prioridade\")\n",
    "elif (idade >= 60):\n",
    "    print(\"O paciente tem prioridade nível dois\")\n",
    "else:\n",
    "    print(\"O paciente deve aguardar atendimento\")"
   ]
  },
  {
   "cell_type": "code",
   "execution_count": 5,
   "metadata": {},
   "outputs": [
    {
     "name": "stdout",
     "output_type": "stream",
     "text": [
      "Prioridade 1\n"
     ]
    }
   ],
   "source": [
    "#Atribuição condicional\n",
    "idade = 10\n",
    "prioridade = \"Prioridade 1\" if (idade <= 10) else \"Prioridade 2\"\n",
    "print(prioridade)"
   ]
  },
  {
   "cell_type": "markdown",
   "metadata": {},
   "source": [
    "<h3>Estruturas de Repetição</h3>"
   ]
  },
  {
   "cell_type": "markdown",
   "metadata": {},
   "source": [
    "<pre>\n",
    "Uma estrutura de repetição é responsável por permitir que um determinado bloco de código seja executado diversas vezes,   até que uma determinada condição seja atendida. No Python, possuímos duas estruturas de repetição:\n",
    "\n",
    "    <b>While\n",
    "    For</b>\n",
    "\n",
    "</pre>"
   ]
  },
  {
   "cell_type": "markdown",
   "metadata": {},
   "source": [
    "<pre>\n",
    "O while é uma estrutura de repetição que permite executar um determinado bloco de código até que uma determinada         condição seja satisfeita. Ela é muito utilizada quando não se sabe o número de interações que devem ser feitas.\n",
    "O while possui a seguinte sintaxe no Python:\n",
    "</pre>\n",
    "<code>\n",
    "    while (condição):\n",
    "    bloco de código\n",
    "</code>"
   ]
  },
  {
   "cell_type": "code",
   "execution_count": 8,
   "metadata": {},
   "outputs": [
    {
     "name": "stdout",
     "output_type": "stream",
     "text": [
      "Digite um número menor que 20 10\n",
      "Digite um número menor que 20 10\n",
      "Digite um número menor que 20 20\n",
      "40\n"
     ]
    }
   ],
   "source": [
    "#exemplo\n",
    "numero = 0\n",
    "soma = 0\n",
    "while numero < 20:\n",
    "    numero = int(input(\"Digite um número menor que 20 \"))\n",
    "    soma = soma + numero\n",
    "\n",
    "print(soma) "
   ]
  },
  {
   "cell_type": "markdown",
   "metadata": {},
   "source": [
    "<h3>For</h3>"
   ]
  },
  {
   "cell_type": "markdown",
   "metadata": {},
   "source": [
    "<pre>\n",
    "Diferente do while, o for executa um determinado bloco de código por uma determinada quantidade de vezes, quantidade de     vezes esta que é indicada em sua declaração. Estrutura de repetição mais utilizada no Python, o for tem sua sintaxe      definida da seguinte forma:\n",
    "<code>\n",
    "    for variável_referencia in sequencia:\n",
    "        bloco de código\n",
    "    </code>\n",
    "</pre>"
   ]
  },
  {
   "cell_type": "code",
   "execution_count": 10,
   "metadata": {},
   "outputs": [
    {
     "name": "stdout",
     "output_type": "stream",
     "text": [
      "10\n"
     ]
    }
   ],
   "source": [
    "#exemplo\n",
    "for x in range(1, 10):\n",
    "    y = x + 1\n",
    "print(y) #10"
   ]
  },
  {
   "cell_type": "markdown",
   "metadata": {},
   "source": [
    "<h3>For-else e While-else</h3>"
   ]
  },
  {
   "cell_type": "markdown",
   "metadata": {},
   "source": [
    "<pre>\n",
    "O Python disponibiliza o comando else para definir um bloco de código que será executado imediatamente após o fim de um    loop. Por exemplo: imagine que queremos informar ao usuário que o loop foi encerrado ao final do seu ciclo de execução. Para isso, utilizamos o else\n",
    "</pre>"
   ]
  },
  {
   "cell_type": "code",
   "execution_count": 11,
   "metadata": {},
   "outputs": [
    {
     "name": "stdout",
     "output_type": "stream",
     "text": [
      "loop encerrado com sucesso\n",
      "10\n"
     ]
    }
   ],
   "source": [
    "#exeplo\n",
    "for x in range(1, 10):\n",
    "    y = x + 1\n",
    "else:\n",
    "    print(\"loop encerrado com sucesso\")\n",
    "print(y) #10"
   ]
  },
  {
   "cell_type": "code",
   "execution_count": 13,
   "metadata": {},
   "outputs": [
    {
     "name": "stdout",
     "output_type": "stream",
     "text": [
      "Digite um número menor que 20 10\n",
      "Digite um número menor que 20 5\n",
      "Digite um número menor que 20 20\n",
      "loop encerrado com sucesso\n",
      "35\n"
     ]
    }
   ],
   "source": [
    "#Vale lembrar que o comando else pode ser usado também no while:\n",
    "numero = 0\n",
    "soma = 0\n",
    "while numero < 20:\n",
    "    numero = int(input(\"Digite um número menor que 20 \"))\n",
    "    soma = soma + numero\n",
    "else:\n",
    "    print(\"loop encerrado com sucesso\")\n",
    "print(soma)"
   ]
  },
  {
   "cell_type": "markdown",
   "metadata": {},
   "source": [
    "<h3>Break</h3>"
   ]
  },
  {
   "cell_type": "markdown",
   "metadata": {},
   "source": [
    "<pre>\n",
    "É comum que, em certas situações, queiramos abortar a execução de um loop a depender de uma certa condição... Para isso, utilizamos o comando break. O break vai encerrar a execução do bloco de código imediatamente ao ser chamado:\n",
    "</pre>"
   ]
  },
  {
   "cell_type": "code",
   "execution_count": 1,
   "metadata": {},
   "outputs": [
    {
     "name": "stdout",
     "output_type": "stream",
     "text": [
      "Digite um número menor que 20 5\n",
      "Digite um número menor que 20 5\n",
      "Digite um número menor que 20 6\n",
      "Digite um número menor que 20 1\n",
      "Digite um número menor que 20 16\n",
      "33\n"
     ]
    }
   ],
   "source": [
    "numero = 0\n",
    "soma = 0\n",
    "while numero < 20:\n",
    "    numero = int(input(\"Digite um número menor que 20 \"))\n",
    "    soma = soma + numero\n",
    "    if numero == 16:\n",
    "       break\n",
    "print(soma)\n",
    "\n",
    "#O loop acima será encerrado quando a variável numero receber o valor 16."
   ]
  },
  {
   "cell_type": "markdown",
   "metadata": {},
   "source": [
    "<h3>Continue</h3>"
   ]
  },
  {
   "cell_type": "markdown",
   "metadata": {},
   "source": [
    "<pre>\n",
    "Por outro lado, é comum que queiramos ignorar a execução de um passo do loop quando uma determinada condição é           satisfeita. Para isso, utilizamos o comando continue:\n",
    "</pre>"
   ]
  },
  {
   "cell_type": "code",
   "execution_count": 2,
   "metadata": {},
   "outputs": [
    {
     "name": "stdout",
     "output_type": "stream",
     "text": [
      "Digite um número menor que 20 5\n",
      "Digite um número menor que 20 5\n",
      "Digite um número menor que 20 16\n",
      "Digite um número menor que 20 20\n",
      "46\n"
     ]
    }
   ],
   "source": [
    "numero = 0\n",
    "soma = 0\n",
    "while numero < 20:\n",
    "    numero = int(input(\"Digite um número menor que 20 \"))\n",
    "    soma = soma + numero\n",
    "    if numero == 16:\n",
    "        continue\n",
    "\n",
    "print(soma)\n",
    "#O comando acima irá \"saltar\" a execução quando o numero em questão for 16"
   ]
  },
  {
   "cell_type": "code",
   "execution_count": null,
   "metadata": {},
   "outputs": [],
   "source": [
    "for x in range(1, 10):\n",
    "   y = x\n",
    "else:\n",
    "   print(y)\n",
    "   print(x)"
   ]
  },
  {
   "cell_type": "markdown",
   "metadata": {},
   "source": [
    "<h3>Orientação à Objetos</h3>"
   ]
  },
  {
   "cell_type": "markdown",
   "metadata": {},
   "source": [
    "<p>Orientação a Objetos é um paradigma de programação baseado no conceito de \"objetos\". Estes objetos representam um indivíduo ou coisa existente \"de verdade\" em nosso mundo, fazendo com que a programação se torne o mais próximo do mundo real possível.\n",
    "\n",
    "As classes definem a estrutura de cada objeto, ou seja, quais atributos (campos) e métodos (comportamentos) os objetos possuirão. Podemos então considerar uma classe como um molde de uma representação do mundo real.\n",
    "\n",
    "Já os objetos constituem uma \"cópia\" deste molde, ou seja, uma representação de uma classe.\n",
    "\n",
    "Por exemplo: imagine que possuímos uma classe que representa uma pessoa no mundo real. Esta classe irá definir os atributos desta pessoa (nome, idade e sexo); porém, sabemos que as informações de cada pessoa variam... Sendo assim, para cada pessoa que formos criar em nosso software, devemos instanciar um novo objeto. Desta forma, conseguimos criar um objeto com suas determinadas características.</p>"
   ]
  },
  {
   "cell_type": "markdown",
   "metadata": {},
   "source": [
    "<h4>Classes</h4>"
   ]
  },
  {
   "cell_type": "markdown",
   "metadata": {},
   "source": [
    "<p>Uma classe é a representação de um elemento do mundo real a ser reproduzido em um software.<br/>Por exemplo ao observar um carro<br/>É fácil perceber que todo carro possui características em comum, como:\n",
    "\n",
    "    Cor;\n",
    "    Quantidade de portas;\n",
    "    Tipo de combustível;\n",
    "    Acessórios;\n",
    "    Etc.\n",
    "Sendo assim, uma classe irá definir a estrutura básica de um carro, onde será criada uma classe Carro, e dentro dessa classe, definido as características de um carro. Ou seja, sempre que quisermos definir a estrutura padrão de algum objeto da vida real em um software, criamos uma classe para este objeto.\n",
    "</p>"
   ]
  },
  {
   "cell_type": "markdown",
   "metadata": {},
   "source": [
    "<h4>Objetos</h4>"
   ]
  },
  {
   "cell_type": "markdown",
   "metadata": {},
   "source": [
    "<p>\n",
    "Objetos são a representação de uma classe. No último tópico vimos que as classes determinam a estrutura básica de um elemento da vida real e utilizamos como exemplo um carro. Sabemos que há vários tipos de carros, porém eles possuem uma estrutura básica similar, definida em sua classe. Ou seja, uma classe pode ser considerada como um molde de objetos.\n",
    "\n",
    "Se quisermos criar um novo carro, simplesmente utilizamos sua classe e definimos seus atributos. Essa utilização da classe é chamada de objeto. Sendo assim, ao criar uma Ferrari, estamos criando um objeto do tipo Carro e definindo seus atributos (cor, quantidade de portas, tipo de combustível, etc).</p>"
   ]
  },
  {
   "cell_type": "markdown",
   "metadata": {},
   "source": [
    "<h3>Módulos no Python</h3>"
   ]
  },
  {
   "cell_type": "markdown",
   "metadata": {},
   "source": [
    "<p>\n",
    "    Ao trabalhar com orientação a objetos, percebemos a necessidade de separar e organizar nosso código. No Python, as classes são criadas em arquivos separados para melhorar o poder de reaproveitamento em nosso software. Cada arquivo representa um módulo em nosso programa. Estes módulos podem ser importados por outros módulos e, assim, utilizar os atributos ou métodos definidos entre os arquivos.\n",
    "\n",
    "No Python, para importar módulos entre arquivos, utilizamos dois comandos:\n",
    "\n",
    "    import: importa o módulo por completo;\n",
    "    from: importa apenas parte do módulo.\n",
    "\n",
    "Por exemplo: imagine que possuímos dois arquivos em nosso projeto. Uma classe Pessoa (com todos os seus atributos) e um arquivo main, responsável por instanciar os objetos do tipo Pessoa. Porém, sem a importação do módulo Pessoa, o arquivo main não consegue visualizar e instanciar a classe Pessoa. Para isso, devemos importar a classe Pessoa e, assim, instanciar a classe:\n",
    "</p>"
   ]
  },
  {
   "cell_type": "code",
   "execution_count": null,
   "metadata": {},
   "outputs": [],
   "source": [
    "#classe Pessoa\n",
    "class Pessoa:\n",
    "    def __init__(self, nome, idade, sexo):\n",
    "        self.nome = nome\n",
    "        self.idade = idade\n",
    "        self.sexo = sexo\n",
    "\n",
    "#classe main\n",
    "from pessoa import Pessoa\n",
    "\n",
    "pessoa1 = Pessoa(\"Maria\", 25, \"Feminino\")\n",
    "print(pessoa1.nome)\n",
    "print(pessoa1.idade)\n",
    "print(pessoa1.sexo)"
   ]
  },
  {
   "cell_type": "markdown",
   "metadata": {},
   "source": [
    "<h3>Listas</h3>"
   ]
  },
  {
   "cell_type": "markdown",
   "metadata": {},
   "source": [
    "<p>\n",
    "Uma lista é uma estrutura de dados representada como uma sequência de objetos separados por vírgula, podendo armazenar qualquer tipo de dado e ser alterada a qualquer momento.\n",
    "Para declarar uma lista no Python, utilizamos a seguinte sintaxe:\n",
    "</p>\n",
    "<code>\n",
    "    nome_da_lista = [elemento1, elemento2, elemento3]\n",
    "</code>\n",
    "<p>\n",
    "No Python, podemos utilizar diversos métodos para manipular as listas, como veremos alguns destes abaixo.\n",
    "Para inserir novos elementos em uma lista, utilizamos o método append(). Este método irá inserir determinado elemento ao final da lista em questão:\n",
    "</p>"
   ]
  },
  {
   "cell_type": "code",
   "execution_count": 1,
   "metadata": {},
   "outputs": [
    {
     "name": "stdout",
     "output_type": "stream",
     "text": [
      "['Arroz', 'Feijão', 'Macarrão']\n"
     ]
    }
   ],
   "source": [
    "lista = [\"Arroz\", \"Feijão\"]\n",
    "lista.append(\"Macarrão\")\n",
    "print(lista) #Arroz, Feijão, Macarrão"
   ]
  },
  {
   "cell_type": "markdown",
   "metadata": {},
   "source": [
    "<p>\n",
    "Para inserir elementos em uma determinada posição de uma lista, utilizamos o método insert(). Este método recebe como parâmetro o elemento a ser inserido e sua posição:\n",
    "</p>"
   ]
  },
  {
   "cell_type": "code",
   "execution_count": 2,
   "metadata": {},
   "outputs": [
    {
     "name": "stdout",
     "output_type": "stream",
     "text": [
      "['Arroz', 'Macarrão', 'Feijão']\n"
     ]
    }
   ],
   "source": [
    "lista = [\"Arroz\", \"Feijão\"]\n",
    "lista.insert(1, \"Macarrão\")\n",
    "print(lista) #Arroz, Macarrão, Feijão"
   ]
  },
  {
   "cell_type": "markdown",
   "metadata": {},
   "source": [
    "<p>\n",
    "Para remover elementos de uma lista, utilizamos o método remove(). Este método recebe como parâmetro o elemento a ser removido:\n",
    "</p>"
   ]
  },
  {
   "cell_type": "code",
   "execution_count": 3,
   "metadata": {},
   "outputs": [
    {
     "name": "stdout",
     "output_type": "stream",
     "text": [
      "['Arroz', 'Macarrão', 'Feijão']\n",
      "['Arroz', 'Feijão']\n"
     ]
    }
   ],
   "source": [
    "lista = [\"Arroz\", \"Feijão\"]\n",
    "lista.insert(1, \"Macarrão\")\n",
    "print(lista) #Arroz, Macarrão, Feijão\n",
    "lista.remove(\"Macarrão\")\n",
    "print(lista) #Arroz, Feijão"
   ]
  },
  {
   "cell_type": "markdown",
   "metadata": {},
   "source": [
    "<p>\n",
    "Além dos métodos citados acima, o Python dispõe de outros meios para manipularmos listas:\n",
    "\n",
    "    pop(índice): remove o elemento da lista;\n",
    "    index(elemento): retorna o índice do elemento na lista;\n",
    "    count(elemento): retorna a quantidade de vezes em que um elemento aparece na lista;\n",
    "    sort(): ordena a lista;\n",
    "    reverse(): inverte a ordem da lista.\n",
    "</p>"
   ]
  },
  {
   "cell_type": "markdown",
   "metadata": {},
   "source": [
    "<h3>Tratamento de exceções no Python</h3>"
   ]
  },
  {
   "cell_type": "markdown",
   "metadata": {},
   "source": [
    "<p>\n",
    "\n",
    "\n",
    "É comum que, no desenvolvimento de uma aplicação, queiramos prever situações em que um erro possa ocorrer, com a finalidade de tratarmos estas situações para que a execução do nosso software não seja interrompida.\n",
    "\n",
    "Por exemplo: imagine que temos um programa responsável por realizar as quatro operações básicas da matemática. Sabemos que há alguns casos que são impossíveis de serem realizados, como a divisão por 0. Neste caso, nosso software precisa sempre verificar se esta situação está ocorrendo e, caso esteja, exibir uma mensagem de erro.\n",
    "\n",
    "No Python, os seguintes comandos são utilizados para o tratamento de exceções:\n",
    "\n",
    "    try/except: tenta executar o determinado bloco de código definido no try e, caso este gere um erro, executa o bloco de     código definido no except;\n",
    "    try/finally: após o bloco try ser executado, com sucesso ou não, o código definido dentro do finally é executado;\n",
    "    Raise: se, por algum motivo, precisarmos gerar uma exceção em nosso script, utilizamos o comando raise;\n",
    "    Assert: assim como o comando raise, o assert serve para gerar exceções, porém é necessário definir uma condição para     isso.\n",
    "\n",
    "</p>"
   ]
  },
  {
   "cell_type": "markdown",
   "metadata": {},
   "source": [
    "<h4>Tratando exceções com try/except</h4>"
   ]
  },
  {
   "cell_type": "markdown",
   "metadata": {},
   "source": [
    "<p>\n",
    "Para tratar exceções utilizando o try/except, o Python utiliza a seguinte sintaxe:\n",
    "</p>\n",
    "<code>\n",
    "try:\n",
    "    bloco de código\n",
    "except:\n",
    "    tratamento de erro\n",
    "</code>\n",
    "<p>\n",
    "Dessa maneira, o Python irá tentar executar o bloco de código definido no try e, caso algum erro seja gerado, o comando except será chamado e seu código executado:\n",
    "</p>"
   ]
  },
  {
   "cell_type": "code",
   "execution_count": 8,
   "metadata": {},
   "outputs": [
    {
     "name": "stdout",
     "output_type": "stream",
     "text": [
      "Divisão por zero não existe\n"
     ]
    }
   ],
   "source": [
    "try:\n",
    "    numero = 15/0\n",
    "except:\n",
    "    print(\"Divisão por zero não existe\")"
   ]
  },
  {
   "cell_type": "markdown",
   "metadata": {},
   "source": [
    "<p>Sendo assim, no código acima, ao executar o script, um erro será gerado ao tentar realizar a divisão por 0 e a mensagem \"Divisão por zero não existe\" será exibida para o usuário.\n",
    "\n",
    "Porém, podemos perceber que um erro de divisão por zero é comum na maioria dos programas a serem desenvolvidos. Por isso, o Python possui uma lista de exceções prontas para serem utilizadas e, assim, capturar um erro específico em nosso sistema, conforme pode ser visto em sua documentação: https://docs.python.org/3/library/exceptions.html\n",
    "\n",
    "Para utilizar estas exceções pré-definidas no Python, utilizamos o comando except da seguinte forma:\n",
    "</p>"
   ]
  },
  {
   "cell_type": "code",
   "execution_count": 9,
   "metadata": {},
   "outputs": [
    {
     "name": "stdout",
     "output_type": "stream",
     "text": [
      "Divisão por zero não existe\n"
     ]
    }
   ],
   "source": [
    "try:\n",
    "    numero = 15/0\n",
    "except ZeroDivisionError:\n",
    "    print(\"Divisão por zero não existe\")"
   ]
  },
  {
   "cell_type": "markdown",
   "metadata": {},
   "source": [
    "<h4>Tratando exceções com try/finally</h4>"
   ]
  },
  {
   "cell_type": "markdown",
   "metadata": {},
   "source": [
    "<p>O finally, como visto em tópicos anteriores, serve para executar um determinado bloco de código imediatamente após a execução do try, independente se a execução foi feita com sucesso ou não. O finally não possui dependência com o try, ou seja, independente se o código definido no bloco try for executado corretamente ou não, o bloco contido na instrução finally será executado. Voltando ao exemplo da divisão por zero, imagine que queremos exibir uma mensagem sempre que o try seja finalizado:</p>"
   ]
  },
  {
   "cell_type": "code",
   "execution_count": 10,
   "metadata": {},
   "outputs": [
    {
     "name": "stdout",
     "output_type": "stream",
     "text": [
      "Divisão por zero não existe\n",
      "Execução finalizada\n"
     ]
    }
   ],
   "source": [
    "try:\n",
    "    numero = 15/0\n",
    "except ZeroDivisionError:\n",
    "    print(\"Divisão por zero não existe\")\n",
    "finally:\n",
    "    print(\"Execução finalizada\")"
   ]
  },
  {
   "cell_type": "markdown",
   "metadata": {},
   "source": [
    "<p>O código acima irá entrar na exceção ZeroDivisionError e, logo após, executar o bloco de código contido na instrução finally. Vale lembrar que isso independe se o bloco try gerou ou não uma exceção. De qualquer forma, o bloco finally será executado.</p>"
   ]
  },
  {
   "cell_type": "markdown",
   "metadata": {},
   "source": [
    "<h4>Gerando exceções com Raise</h4>"
   ]
  },
  {
   "cell_type": "markdown",
   "metadata": {},
   "source": [
    "<p>Para gerar exceções no Python, utilizamos o comando raise. Este comando retorna uma exceção, sendo utilizado quando queremos testar a execução do nosso software:</p>"
   ]
  },
  {
   "cell_type": "code",
   "execution_count": 11,
   "metadata": {},
   "outputs": [
    {
     "name": "stdout",
     "output_type": "stream",
     "text": [
      "Divisão por zero não existe\n",
      "Execução finalizada\n"
     ]
    }
   ],
   "source": [
    "try:\n",
    "    raise ZeroDivisionError\n",
    "except ZeroDivisionError:\n",
    "    print(\"Divisão por zero não existe\")\n",
    "finally:\n",
    "    print(\"Execução finalizada\")"
   ]
  },
  {
   "cell_type": "markdown",
   "metadata": {},
   "source": [
    "<p>No código acima, o comando raise irá gerar uma exceção do tipo ZeroDivisionError, que será tratada pelo except definido logo abaixo e, com isso, exibir a mensagem \"Divisão por zero não existe\".</p>"
   ]
  },
  {
   "cell_type": "markdown",
   "metadata": {},
   "source": [
    "<h4>Gerando exceções com Assert</h4>"
   ]
  },
  {
   "cell_type": "markdown",
   "metadata": {},
   "source": [
    "<p>Assim como o raise, utilizamos o assert para gerar exceções na execução do nosso sistema. Porém, o assert irá gerar essa exceção a depender de uma condição. Por exemplo:</p>"
   ]
  },
  {
   "cell_type": "code",
   "execution_count": 13,
   "metadata": {},
   "outputs": [
    {
     "name": "stdout",
     "output_type": "stream",
     "text": [
      "Divisão por zero não existe\n",
      "Execução finalizada\n"
     ]
    }
   ],
   "source": [
    "try:\n",
    "    numero = 15\n",
    "    divisor = 0\n",
    "    assert divisor != 0\n",
    "except:\n",
    "    print(\"Divisão por zero não existe\")\n",
    "finally:\n",
    "    print(\"Execução finalizada\")"
   ]
  },
  {
   "cell_type": "markdown",
   "metadata": {},
   "source": [
    "<p>Ou seja: sempre que a condição definida no assert for falsa, uma exceção será gerada.</p>"
   ]
  }
 ],
 "metadata": {
  "kernelspec": {
   "display_name": "Python 3",
   "language": "python",
   "name": "python3"
  },
  "language_info": {
   "codemirror_mode": {
    "name": "ipython",
    "version": 3
   },
   "file_extension": ".py",
   "mimetype": "text/x-python",
   "name": "python",
   "nbconvert_exporter": "python",
   "pygments_lexer": "ipython3",
   "version": "3.7.0"
  }
 },
 "nbformat": 4,
 "nbformat_minor": 2
}

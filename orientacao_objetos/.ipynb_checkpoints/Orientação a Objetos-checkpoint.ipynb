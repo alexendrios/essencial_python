{
 "cells": [
  {
   "cell_type": "markdown",
   "metadata": {},
   "source": [
    "<h1>Orientação a Objetos</h1>"
   ]
  },
  {
   "cell_type": "markdown",
   "metadata": {},
   "source": [
    "<h3>namespaces</h3>"
   ]
  },
  {
   "cell_type": "markdown",
   "metadata": {},
   "source": [
    "<p>No Python, todos os nomes de métodos e variáveis precisam ser únicos para evitar conflitos. Imagine se pudéssemos nomear duas variáveis com o mesmo nome, como decidir qual variável seria impressa através do comando print? Haveria um conflito, pois o Python não iria conseguir determinar qual variável você está querendo imprimir. O mesmo ocorre para os métodos, não podemos nomear métodos com o mesmo nome sem que isso gere um conflito.\n",
    "\n",
    "Sendo assim, o Python utiliza os namespaces para evitar este tipo de conflito. Basicamente, o namespace é um sistema para certificar que todos os nomes em um programa são únicos e podem ser acessados de qualquer classe sem que haja conflito.\n",
    "\n",
    "O Python implementa os namespaces como dicionários, onde os nomes são as chaves e os objetos seus valores. Sendo assim, é possível utilizar nomes iguais, porém em namespaces diferentes. Sendo assim, é possível implementar nomes de variáveis ou métodos iguais, desde que estejam em namespaces diferentes. Abaixo são listados alguns namespaces presentes no Python:\n",
    "\n",
    "    Namespace local: Inclui nomes locais dentro de uma função. Criado sempre que uma função é chamada, só dura até que a função se encerre.\n",
    "    Namespace global: Inclui nomes de vários módulos importados em um projeto. É criado quando algum módulo é importado em um projeto e dura até o script se encerrar.\n",
    "    Namespace interno: Inclui funções e exceções internas.\n",
    "   \n",
    "   Por exemplo, imagine que temos dois métodos chamados calcular_idade em duas classes diferentes, porém precisamos utilizar esses dois métodos em uma determinada classe. Para que não haja qualquer conflito entre estes dois métodos, utilizamos o prefixo com o nome do módulo, exemplo:\n",
    "</p>\n",
    "<code>\n",
    "    classe1.calcular_idade()\n",
    "    classe2.calcular_idade()\n",
    "</code>"
   ]
  },
  {
   "cell_type": "markdown",
   "metadata": {},
   "source": [
    "<h3>Escopo de estruturas entre namespaces</h3>"
   ]
  },
  {
   "cell_type": "markdown",
   "metadata": {},
   "source": [
    "<p>\n",
    "\n",
    "Assim como possui diversos tipos de namespaces, o Python também possui diversos tipos de escopos. Basicamente, um escopo define as partes do programa que você pode utilizar um determinado nome sem usar qualquer prefixo. Sabemos que os namespaces ajudam a identificar a quais arquivos pertencem determinados métodos ou variáveis.\n",
    "\n",
    "Porém, não podemos utilizar um nome de variável em qualquer lugar, pois há partes do código em que isso é possível, ou não. Essas partes são denominadas de escopos e eles são divididos da seguinte forma no Python:\n",
    "\n",
    "    O escopo local, que contém a lista de nome disponíveis em uma determinada função;\n",
    "    Um escopo que delimita todas as funções que podem ser utilizadas;\n",
    "    Um escopo modular que retorna todos os nomes globais do módulo atual;\n",
    "    E o escopo mais externo que retorna a lista de todos os nomes internos do script.\n",
    "\n",
    "</p>"
   ]
  },
  {
   "cell_type": "markdown",
   "metadata": {},
   "source": [
    "<h3>Funcionamento do sistema de namespaces no Python</h3>"
   ]
  },
  {
   "cell_type": "markdown",
   "metadata": {},
   "source": [
    "<p>O Python possui três formas de importar módulos em um projeto, são elas:</p>\n",
    "<code>\n",
    "    from nome_do_modulo import *\n",
    "<code>\n",
    "<p>Desta forma, todos os métodos do módulo serão importados para a classe em questão, não sendo necessário definir de qual módulo pertence cada método.</p>\n",
    "<code>\n",
    "    from nome_do_modulo import metodo_a, metodo_b\n",
    "<code>\n",
    "<p>Importa os métodos a e b do módulo em questão. É útil nos casos em que você sabe quais métodos quer importar de determinado módulo para sua classe. Também não é necessário definir de qual módulo pertence os métodos.</p>\n",
    "<code>\n",
    "    import nome_do_modulo\n",
    "<code>\n",
    "<p>Maneira mais recomendada de se importar módulos. Sua única desvantagem é ter de prefixar a qual módulo pertence cada método a ser utilizado.</p>"
   ]
  },
  {
   "cell_type": "code",
   "execution_count": 3,
   "metadata": {},
   "outputs": [
    {
     "name": "stdout",
     "output_type": "stream",
     "text": [
      "4.0\n"
     ]
    }
   ],
   "source": [
    "#importando uma biblioteca -> importando somente uma função dessa biblioteca\n",
    "from math import pow\n",
    "\n",
    "print(pow(2, 2))"
   ]
  },
  {
   "cell_type": "code",
   "execution_count": 4,
   "metadata": {},
   "outputs": [
    {
     "name": "stdout",
     "output_type": "stream",
     "text": [
      "4.0\n",
      "120\n"
     ]
    }
   ],
   "source": [
    "#importando mais de uma biblioteca \n",
    "from math import pow, factorial\n",
    "\n",
    "from math import pow, factorial\n",
    "\n",
    "print(pow(2, 2))\n",
    "print(factorial(5))\n"
   ]
  },
  {
   "cell_type": "code",
   "execution_count": 6,
   "metadata": {},
   "outputs": [
    {
     "name": "stdout",
     "output_type": "stream",
     "text": [
      "4.0\n",
      "120\n"
     ]
    }
   ],
   "source": [
    "#importando todas as bibliotecas\n",
    "from math import *\n",
    "print(pow(2, 2))\n",
    "print(factorial(5))"
   ]
  },
  {
   "cell_type": "code",
   "execution_count": 5,
   "metadata": {},
   "outputs": [
    {
     "name": "stdout",
     "output_type": "stream",
     "text": [
      "4.0\n",
      "120\n"
     ]
    }
   ],
   "source": [
    "#boas práticas\n",
    "import math\n",
    "\n",
    "print(math.pow(2, 2))\n",
    "print(math.factorial(5))"
   ]
  },
  {
   "cell_type": "markdown",
   "metadata": {},
   "source": [
    "<h3>Resoluções de escopo</h3>"
   ]
  },
  {
   "cell_type": "markdown",
   "metadata": {},
   "source": [
    "<p>Os escopos, como sabemos, tem a função de classificar quais nomes de variáveis, funções e classes estão acessíveis em cada bloco de instrução ou módulo do nosso script. Ele também é responsável por inutilizar variáveis declaradas e que não serão mais utilizadas e, assim, serem removidas da memória pela VM do Python.\n",
    "\n",
    "E são esses escopos que definem onde uma variável pode ser utilizada ou não. No Python, as variáveis passam a surgir no momento em que um valor é atribuído a ela. A partir daí o Python cria, altera e procura se esta variável existe no namespace ou não, ou seja, se a variável que estamos tentando criar existe na \"região\" que queremos utilizá-la. Sendo assim, podemos dizer que o escopo é a \"região\" no código onde uma variável é \"visível\".\n",
    "\n",
    "Como exemplo, podemos ver que, mesmo que as variáveis tenham mesmo nome, se elas estiverem declaradas em escopos diferentes, elas se comportarão de formas diferentes:</p>"
   ]
  },
  {
   "cell_type": "code",
   "execution_count": 12,
   "metadata": {},
   "outputs": [
    {
     "name": "stdout",
     "output_type": "stream",
     "text": [
      "João\n",
      "José\n"
     ]
    }
   ],
   "source": [
    "nome = \"João\" #escopo global\n",
    "\n",
    "def funcao():\n",
    "  nome = \"José\" #escopo Local\n",
    "  return nome  \n",
    "\n",
    "print(nome)\n",
    "print(funcao())\n"
   ]
  },
  {
   "cell_type": "markdown",
   "metadata": {},
   "source": [
    "<p>Dessa forma, mesmo que as variáveis tenham nomes iguais, fora da função ela receberá o valor \"João\" e dentro da função receberá o valor \"José\" e quem determina isso são os escopos, pois, por estarem em \"regiões\" diferentes, uma não pode interferir na outra.</p>"
   ]
  },
  {
   "cell_type": "markdown",
   "metadata": {},
   "source": [
    "<h3>Orientação a Objetos</h3>"
   ]
  },
  {
   "cell_type": "markdown",
   "metadata": {},
   "source": [
    "<p>\n",
    "\n",
    "Orientação a Objetos é um paradigma de programação baseado no conceito de \"objetos\". Estes objetos representam um indivíduo ou coisa existente \"de verdade\" em nosso mundo, fazendo com que a programação se torne o mais próximo do mundo real possível.\n",
    "\n",
    "As classes definem a estrutura de cada objeto, ou seja, quais atributos (campos) e métodos (comportamentos) os objetos possuirão. Podemos então considerar uma classe como um molde de uma representação do mundo real.\n",
    "\n",
    "Já os objetos constituem uma \"cópia\" deste molde, ou seja, uma representação de uma classe.\n",
    "\n",
    "Por exemplo: imagine que possuímos uma classe que representa uma pessoa no mundo real. Esta classe irá definir os atributos desta pessoa (nome, idade e sexo); porém, sabemos que as informações de cada pessoa variam... Sendo assim, para cada pessoa que formos criar em nosso software, devemos instanciar um novo objeto. Desta forma, conseguimos criar um objeto com suas determinadas características.\n",
    "</p>"
   ]
  },
  {
   "cell_type": "markdown",
   "metadata": {},
   "source": [
    "<h3>Definição de classes: atributos</h3>"
   ]
  },
  {
   "cell_type": "markdown",
   "metadata": {},
   "source": [
    "<p>\n",
    "\n",
    "Em linguagens orientadas à objetos as características de uma classe são definidas como atributos. Ou seja, partindo do exemplo utilizado no tópico anterior, um carro possui cor, quantidade de portas, tipo de combustível, acessórios, etc. Todas essas características são armazenadas como atributos de uma classe em variáveis.\n",
    "\n",
    "Sendo assim, ao definir que uma classe representará um determinado objeto do mundo real, temos que definir seus atributos.\n",
    "</p>"
   ]
  },
  {
   "cell_type": "markdown",
   "metadata": {},
   "source": [
    "<h3>Definição de classes: métodos</h3>"
   ]
  },
  {
   "cell_type": "markdown",
   "metadata": {},
   "source": [
    "<p>\n",
    "\n",
    "Além dos atributos, uma classe comporta os métodos de um objeto. Os métodos representam o comportamento deste objeto na vida real.\n",
    "\n",
    "No exemplo dos tópicos anteriores, criamos uma classe para representar um carro e definimos seus atributos. Porém, sabemos que, além dos atributos (características), um objeto realiza ações que são conhecidas como comportamentos. Estas ações são definidas em métodos dentro da própria classe.\n",
    "\n",
    "Um carro, por exemplo, além de possuir todas as suas características, precisa realizar suas ações básicas (andar e parar) e são essas ações que determinamos nos métodos das classes.\n",
    "</p>"
   ]
  },
  {
   "cell_type": "markdown",
   "metadata": {},
   "source": [
    "<h3>Objetos</h3>"
   ]
  },
  {
   "cell_type": "markdown",
   "metadata": {},
   "source": [
    "<p>\n",
    "\n",
    "Objetos são a representação de uma classe. No último tópico vimos que as classes determinam a estrutura básica de um elemento da vida real e utilizamos como exemplo um carro. Sabemos que há vários tipos de carros, porém eles possuem uma estrutura básica similar, definida em sua classe. Ou seja, uma classe pode ser considerada como um molde de objetos.\n",
    "\n",
    "Se quisermos criar um novo carro, simplesmente utilizamos sua classe e definimos seus atributos. Essa utilização da classe é chamada de objeto. Sendo assim, ao criar uma Ferrari, estamos criando um objeto do tipo Carro e definindo seus atributos (cor, quantidade de portas, tipo de combustível, etc).\n",
    "</p>"
   ]
  },
  {
   "cell_type": "markdown",
   "metadata": {},
   "source": [
    "<h3>A keyword self</h3>"
   ]
  },
  {
   "cell_type": "markdown",
   "metadata": {},
   "source": [
    "<p>Existe uma frase das boas práticas do Python que diz \"explícito é melhor que implícito\", ou seja, é melhor que o programador saiba o que está fazendo do que imaginar que aquilo está ocorrendo. A keyword self é um bom exemplo disso. Em todas as linguagens orientadas à objetos, sempre que instanciamos objetos e queremos invocar métodos dessa classe, precisamos informar a instância desse objeto. Em muitas linguagens este atributo é implícito, ou seja, não é necessário informa-lo, porém, internamente, o compilador ou VM da linguagem faz isso de forma automática, diferente do Python.\n",
    "\n",
    "Como citado anteriormente, no Python \"explícito é melhor que implícito\", logo, sempre que quisermos invocar algum método através de um objeto, precisamos enviar este objeto como parâmetro do método. Assim, a VM do Python saberá que determinado método será utilizado pelo objeto enviado, como pode ser visto no código abaixo:</p>\n",
    "<code>\n",
    "  nome_objeto.nome_metodo(self, parametros)\n",
    "</code>\n",
    "<p>Internamente, ao realizar a chamada acima, estamos enviando o objeto \"nome_objeto\" para o método através do parâmetro self.</p>"
   ]
  },
  {
   "cell_type": "markdown",
   "metadata": {},
   "source": [
    "<h3>Representações na UML</h3>"
   ]
  },
  {
   "cell_type": "markdown",
   "metadata": {},
   "source": [
    "<p>Uma importante fase do desenvolvimento de um software é sua documentação. Sendo assim, precisamos aprender maneiras de se documentar as estruturas que iremos utilizar para desenvolver a aplicação ao longo do curso. Para isso, utilizaremos diagramas UML para representar os conceitos da OO.\n",
    "\n",
    "Caso se interesse, temos um curso voltado ao UML, linguagem para representação de diagramas e que vamos utilizar nesse curso, portanto sugiro que você veja antes ou após este curso.\n",
    "\n",
    "A UML prevê a representação de classes, além de seus atributos e métodos. Para isso sua estrutura segue o seguinte formato:</p>"
   ]
  },
  {
   "cell_type": "code",
   "execution_count": 18,
   "metadata": {},
   "outputs": [
    {
     "data": {
      "text/html": [
       "<img src='class_uml.jpg',width=200,heigth=300>"
      ],
      "text/plain": [
       "<IPython.core.display.HTML object>"
      ]
     },
     "metadata": {},
     "output_type": "display_data"
    }
   ],
   "source": [
    "%%html\n",
    "<img src='class_uml.jpg',width=200,heigth=300>"
   ]
  },
  {
   "cell_type": "markdown",
   "metadata": {},
   "source": [
    "<p>No diagrama acima temos a seguinte estrutura:\n",
    "\n",
    "    A parte mais superior representa o nome da classe, nesse caso, a classe Carro;\n",
    "    A parte do meio representa os atributos que a classe Carro possui, conforme definida no arquivo carro.py;\n",
    "    A parte inferior representa os métodos (ou ações) que um carro poderá realizar.\n",
    "</p>"
   ]
  },
  {
   "cell_type": "markdown",
   "metadata": {},
   "source": [
    "<b><p>Criar um Docstring</p></b>\n",
    "\n",
    "<p>Utiliza - se três aspas duplas passa o argumento e fecha com três aspas dupllas"
   ]
  },
  {
   "cell_type": "code",
   "execution_count": 24,
   "metadata": {},
   "outputs": [
    {
     "name": "stdout",
     "output_type": "stream",
     "text": [
      "Help on function exemplo in module __main__:\n",
      "\n",
      "exemplo()\n",
      "    Método Responsável para dar um exemplo\n",
      "\n",
      "None\n"
     ]
    }
   ],
   "source": [
    "#Exemplo criação de um Docstring\n",
    "\n",
    "\"\"\" Argumento \"\"\"\n",
    "\n",
    "#utilizando o método help é possível imprimir o conteúdo da Doscstring exemplo\n",
    "\n",
    "\n",
    "def exemplo():\n",
    "    \"\"\" Método Responsável para dar um exemplo \"\"\"\n",
    "    return 'Exemplo'\n",
    "\n",
    "print(help(exemplo))"
   ]
  },
  {
   "cell_type": "markdown",
   "metadata": {},
   "source": [
    "<h3>O método __init__</h3>"
   ]
  },
  {
   "cell_type": "markdown",
   "metadata": {},
   "source": [
    "<p>Quando criamos um objeto a partir de uma classe, precisamos, na maioria das vezes, inicializar as variáveis (atributos) para que o funcionamento deste objeto ocorra de forma correta. Para isso, utilizamos o método chamado construtor. Este método recebe como parâmetro os atributos que desejamos inicializar ao instanciar um novo objeto.\n",
    "\n",
    "Por exemplo, imagine que temos uma classe Pessoa com os atributos nome, idade e sexo. Ao instanciarmos um objeto do tipo pessoa, precisamos passar os dados dessa pessoa para que ela exista, sendo assim, informamos no construtor estes atributos e todo objeto que seja criado por meio da classe Pessoa precisará enviar seus atributos:</p>"
   ]
  },
  {
   "cell_type": "markdown",
   "metadata": {},
   "source": [
    "<code>\n",
    "class Pessoa():\n",
    "  def __init__(self, nome, idade, sexo):\n",
    "    self.nome = nome\n",
    "    self.idade = idade\n",
    "    self.sexo = sexo\n",
    "</code>"
   ]
  },
  {
   "cell_type": "markdown",
   "metadata": {},
   "source": [
    "<code>\n",
    "from pessoa import Pessoa\n",
    "\n",
    "pessoa1 = Pessoa(\"João\", 25, \"Masculino\")\n",
    "print(pessoa1.nome) #João\n",
    "\n",
    "</code>"
   ]
  },
  {
   "cell_type": "markdown",
   "metadata": {},
   "source": [
    "<h3>O método __del__</h3>"
   ]
  },
  {
   "cell_type": "markdown",
   "metadata": {},
   "source": [
    "<p>Assim como precisamos criar um construtor, que irá definir como os objetos instanciados a partir de uma classe serão criados, precisamos definir, também, seu destrutor. Basicamente, um destrutor irá ditar as regras para a destruição dos objetos instanciados a partir de uma classe.\n",
    "\n",
    "No Python, os destrutores são definidos através do método __del__ e neles podemos informar a lógica que será executada ao excluir um determinado objeto. Além disso, os destrutores são chamados sempre que um objeto não é mais utilizado em um script, liberando o espaço na memória que este estava utilizando. Abaixo podemos ver como criar um destrutor da classe Pessoa em Python:</p>\n",
    "<code>\n",
    "# classe Pessoa\n",
    "class Pessoa():\n",
    "  def __init__(self, nome, idade, sexo):\n",
    "    self.nome = nome\n",
    "    self.idade = idade\n",
    "    self.sexo = sexo\n",
    "  def __del__(self):\n",
    "    print(\"Destruindo objeto\")\n",
    "</code>\n",
    "<code>\n",
    "#classe main\n",
    "from pessoa import Pessoa\n",
    "\n",
    "pessoa1 = Pessoa(\"João\", 25, \"Masculino\")\n",
    "print(pessoa1.nome) #João #Destruindo objeto\n",
    "</code>\n",
    "<p>Dessa forma, ao finalizar o uso do objeto pessoa1, o Python irá invocar o método destrutor para remover o objeto da memória.</p>"
   ]
  },
  {
   "cell_type": "markdown",
   "metadata": {},
   "source": [
    "<h3>Herança</h3>"
   ]
  },
  {
   "cell_type": "markdown",
   "metadata": {},
   "source": [
    "<p>\n",
    "\n",
    "Em orientação a objetos, a herança é um mecanismo pelo qual uma classe consegue obter métodos e atributos de uma outra classe, para isso, dizemos que uma classe filha \"herda\" de uma classe pai, onde a classe Pai possui os métodos e atributos que serão herdados.\n",
    "\n",
    "Sendo assim, é fácil perceber o ganho de se utilizar a herança em projetos no que diz respeito ao contexto de reaproveitamento de código, já que será necessário criar apenas uma classe \"pai\" com todas as características e métodos comuns e suas classes \"filhas\" que irão reaproveitar destas informações, sendo necessário apenas definir o mecanismo da herança.\n",
    "\n",
    "Além disso, nada impede que uma classe \"filha\" possua seus próprios métodos e atributos, a herança é apenas um meio de se compartilhar informações existentes na classe \"pai\" para suas classes \"filhas\".\n",
    "</p>"
   ]
  },
  {
   "cell_type": "markdown",
   "metadata": {},
   "source": [
    "<h4>Quando não utilizar a herança</h4>"
   ]
  },
  {
   "cell_type": "markdown",
   "metadata": {},
   "source": [
    "<p>Apesar de proporcionar uma forma \"fácil\" de reaproveitamento de atributos e métodos, a herança exige cuidados no que diz respeito ao seu uso demasiado. Como programadores, precisamos ter cuidado em conseguir identificar a real relação entre duas ou mais classes e se uma realmente pode ser \"pai\" ou \"filha\" de outra.\n",
    "\n",
    "Um exemplo bem prático do uso da herança é a relação \"ser\", onde só poderemos definir que uma classe herda de outra se ela é do mesmo tipo da classe pai. Por exemplo, imagine que temos três classes (Gato, Coelho e Cachorro), se pensarmos bem, todas essas classes possuem características e comportamentos em comum e, além disso, todas essas classes representam um animal. Logo, podemos facilmente dizer que a classe Animal é a classe \"Pai\" das outras três classes, como podemos ver no diagrama abaixo:</p>"
   ]
  },
  {
   "cell_type": "code",
   "execution_count": 29,
   "metadata": {},
   "outputs": [
    {
     "data": {
      "text/html": [
       "<img src='heranca.jpg',width=200,heigth=300>"
      ],
      "text/plain": [
       "<IPython.core.display.HTML object>"
      ]
     },
     "metadata": {},
     "output_type": "display_data"
    }
   ],
   "source": [
    "%%html\n",
    "<img src='heranca.jpg',width=200,heigth=300>"
   ]
  },
  {
   "cell_type": "markdown",
   "metadata": {},
   "source": [
    "<h4>Representando a herança na UML</h4>"
   ]
  },
  {
   "cell_type": "markdown",
   "metadata": {},
   "source": [
    "<p>A representação da Herança também existe na UML. Em nossos exemplos, indicamos que a classe pai (Veículo) é herdada por duas classes filhas (Carro e Moto), podendo ser representada da seguinte forma:</p>"
   ]
  },
  {
   "cell_type": "code",
   "execution_count": 31,
   "metadata": {},
   "outputs": [
    {
     "data": {
      "text/html": [
       "<img src='heranca_uml.jpg',width=200,heigth=300>"
      ],
      "text/plain": [
       "<IPython.core.display.HTML object>"
      ]
     },
     "metadata": {},
     "output_type": "display_data"
    }
   ],
   "source": [
    "%%html\n",
    "<img src='heranca_uml.jpg',width=200,heigth=300>"
   ]
  },
  {
   "cell_type": "markdown",
   "metadata": {},
   "source": [
    "<p>Agora, temos uma classe Veículo que é \"pai\" das classes Carro e Moto, ou seja, todas as características e métodos da classe Veículo são herdadas pelas classes \"filhas\". Essa herança é caracterizada pela seta que sai das classes filhas e vai até a classe pai.</p>"
   ]
  },
  {
   "cell_type": "markdown",
   "metadata": {},
   "source": [
    "<h3>Atributos de visibilidade</h3>"
   ]
  },
  {
   "cell_type": "markdown",
   "metadata": {},
   "source": [
    "<P>\n",
    "\n",
    "Os atributos de visibilidade definem o nível de acesso de uma característica ou comportamento dentro de uma classe. Como o próprio nome já diz, este recurso visa garantir o nível de visibilidade do código definido dentro do uma classe.\n",
    "\n",
    "Existem três tipos de atributos de visibilidade nas linguagens orientadas a objetos, que são:\n",
    "\n",
    "    Public: Atributos e métodos definidos como públicos poderão ser invocados, acessados e modificados através de qualquer lugar do projeto;\n",
    "    Private: Atributos e métodos definidos como privados só poderão ser invocados, acessados e modificados somente por seu próprio objeto.\n",
    "    Protected: Atributos e métodos definidos como protegidos só poderão ser invocados, acessados e modificados por classes que herdam de outras classes através do conceito de Herança, visto na última aula. Sendo assim, apenas classes \"filhas\" poderão acessar métodos e atributos protegidos.\n",
    "\n",
    "No Python, diferente das linguagens completamente voltadas ao paradigma da orientação à objetos (Java, C#, etc.), estes atributos existem, mas não da forma \"convencional\".\n",
    "\n",
    "No Java, por exemplo, ao declarar um atributo privado este só será acessível por seu próprio objeto. Já no Python, este conceito é um pouco diferente. Por convenção, quando queremos definir que um atributo deve ser privado, adicionamos dois underlines (__) na frente do nome da variável, fazendo com que quem vá mexer em seu código entenda, se ele conhece a convenção, que o atributo só deve ser acessado por seu próprio objeto.\n",
    "\n",
    "E este conceito vale para todos os outros tipos de atributos de visibilidade. Para o atributo protected, adicionamos um underline (_) para indicar que um atributo só poderá ser acessado por suas classes \"filhas\".\n",
    "\n",
    "É um conceito um pouco diferente, mas fique tranquilo, veremos em detalhes nos próximos vídeos.\n",
    "</P>"
   ]
  },
  {
   "cell_type": "markdown",
   "metadata": {},
   "source": [
    "<h3>Encapsulamento</h3>"
   ]
  },
  {
   "cell_type": "markdown",
   "metadata": {},
   "source": [
    "<p>\n",
    "\n",
    "O conceito de encapsulamento é muito importante no desenvolvimento de um software, então vamos a um exemplo clássico da sua importância: o exemplo da conta corrente.\n",
    "\n",
    "Imagine que estamos desenvolvendo um software bancário, onde teremos a classe conta - neste momento, não vamos nos preocupar se a classe é Corrente ou Poupança, apenas que a classe Conta possui o saldo como atributo e os métodos sacar e depositar.\n",
    "\n",
    "Agora, nós precisamos desenvolver uma maneira de não permitir que o nosso atributo saldo seja afetado por trocas de mensagens externas com outros objetos. Sendo assim, precisamos esconder o atributo saldo da classe Conta de forma que este só seja alterado através dos métodos sacar ou depositar, que é o que ocorre no mundo real. Desta forma, ao encapsular o atributo saldo, prevenimos que o saldo de uma determinada conta sofra alterações que não sejam provenientes dos métodos responsáveis por isso.\n",
    "</p>"
   ]
  },
  {
   "cell_type": "markdown",
   "metadata": {},
   "source": [
    "<h3>Properties</h3>"
   ]
  },
  {
   "cell_type": "markdown",
   "metadata": {},
   "source": [
    "<p>O Python oferece um mecanismo para construção de propriedades em uma classe e, dessa forma, melhorar a forma de encapsulamento dos atributos presentes. É comum que, quando queremos obter ou alterar os valores de um atributo, criamos métodos getters e setters para este atributo, como podemos ver abaixo:</p>\n",
    "<code>\n",
    "    def get_nome(self):\n",
    "        return self.__nome\n",
    "\n",
    "    def set_nome(self, nome):\n",
    "      self.__nome = nome\n",
    "</code>\n",
    "<p>Porém, ao tentar acessar o valor do atributo nome presente na classe, fica evidente que estamos obtendo esse dado através de um método. Pensando nisso, o time de desenvolvimento criou as Properties para prover um meio mais \"elegante\" para obter e enviar novos dados aos atributos de uma classe:</p>\n",
    "<code>\n",
    "   @property\n",
    "def nome(self):\n",
    "  return self.__nome\n",
    "\n",
    "@nome.setter\n",
    "def nome(self, nome):\n",
    "  self.__nome = nome\n",
    "</code>\n",
    "<p>Agora, ao utilizar as properties, temos uma forma muito mais \"elegante\" de obter ou enviar novos dados aos atributos:</p>  \n",
    "<code>\n",
    "# modo com get e set\n",
    "print(objeto.get_nome())\n",
    "objeto.set_nome(self, \"João\")\n",
    "\n",
    "#modo com properties\n",
    "print(objeto.nome)\n",
    "objeto.nome = \"João\"\n",
    "</code>"
   ]
  },
  {
   "cell_type": "markdown",
   "metadata": {},
   "source": [
    "<h3>Representando o encapsulamento na UML</h3>"
   ]
  },
  {
   "cell_type": "markdown",
   "metadata": {},
   "source": [
    "Para representar os tipos de visibilidade na UML, utilizamos três tipos de símbolos:\n",
    "\n",
    "    O símbolo \"+\" representa os atributos e métodos públicos;\n",
    "    O símbolo \"-\" representa os atributos e métodos privados;\n",
    "    O símbolo \"#\" representa os atributos e métodos protegidos.\n",
    "\n",
    "Esses símbolos devem ser inseridos antes do nome da variável ou método no diagrama UML, como pode ser visto abaixo:"
   ]
  },
  {
   "cell_type": "code",
   "execution_count": 10,
   "metadata": {},
   "outputs": [
    {
     "data": {
      "text/html": [
       "<img src='encapsulamento.jpg',width=200,heigth=300>"
      ],
      "text/plain": [
       "<IPython.core.display.HTML object>"
      ]
     },
     "metadata": {},
     "output_type": "display_data"
    }
   ],
   "source": [
    "%%html\n",
    "<img src='encapsulamento.jpg',width=200,heigth=300>"
   ]
  },
  {
   "cell_type": "markdown",
   "metadata": {},
   "source": [
    "<h3>Classes abstratas</h3>"
   ]
  },
  {
   "cell_type": "markdown",
   "metadata": {},
   "source": [
    "<p>\n",
    "\n",
    "Na última aula vimos o poder da herança e as grandes facilidades que ela nos provê pois somente precisamos criar uma classe que servirá de base para todas as outras e, com isso, compartilhamos de atributos e métodos que são comuns às classes filhas. Porém, há um problema em utilizar somente a herança na maioria das vezes.\n",
    "\n",
    "Imagine que temos três classes (Conta, Conta Corrente e Conta Poupança), onde a classe Conta é \"pai\" das classes corrente e poupança. Sabemos que só podemos possuir dois tipos de conta (corrente ou poupança), porém, utilizando apenas a herança, nós conseguimos instanciar um objeto do tipo Conta. Isso não é correto no mundo real. Ou nós temos uma conta corrente ou uma conta poupança, nunca uma conta sem tipo. E é aí que entra as classes abstratas.\n",
    "\n",
    "Uma classe abstrata irá servir de modelo para outras classes que a herdarão, porém não poderá ser instanciada. Dessa forma, ou teremos objetos do tipo conta corrente ou do tipo conta poupança, mas nunca objetos do tipo conta, pois isso é incorreto no mundo real.\n",
    "</p>"
   ]
  },
  {
   "cell_type": "markdown",
   "metadata": {},
   "source": [
    "<h3>Biblioteca ABC</h3"
   ]
  },
  {
   "cell_type": "markdown",
   "metadata": {},
   "source": [
    "<p>Por padrão, o Python não possui implementação para classes abstratas. Para isso, utilizamos a biblioteca ABC (Abstract Base Class). Com ela, conseguimos implementar métodos e classes abstratas em nossos programas.\n",
    "\n",
    "Para importá-la, utilizamos o seguinte código no início do nosso arquivo:</p>\n",
    "<code>from abc import ABC, abstractmethod</code>"
   ]
  },
  {
   "cell_type": "markdown",
   "metadata": {},
   "source": [
    "<h3>Prevenção de herança e sobrescrita de métodos</h3>"
   ]
  },
  {
   "cell_type": "markdown",
   "metadata": {},
   "source": [
    "<p>Diferente das principais linguagens que implementam a Orientação à Objetos, o Python não possui uma forma de prevenir a sobrescrita de métodos em classes-filhas, o que pode ser um problema, pois, muitas vezes, queremos garantir que um método só se comportará de uma forma.\n",
    "\n",
    "Porém, essa \"restrição\" vai contra a filosofia do Python, que pretende dar liberdade para o programador não se preocupar com essas questões. Na comunidade, uma prática bem comum para prevenir essa sobrescrita é criar um comentário no método para informar sobre essa prevenção.\n",
    "\n",
    "Sendo assim, abaixo podemos ver um exemplo de código em Python e Java que caracterizam essa funcionalidade</p>\n",
    "<code>\n",
    "    public final void ligar(){\n",
    "    this.ligado = true;\n",
    "}\n",
    "</code>\n",
    "<p>No Java, utilizamos a palavra reservada \"final\" e, assim, garantimos que o método ligar não será sobrescrito em classes-filhas.\n",
    "á no Python, por não possuir essa feature, adicionamos um comentário para informar a prevenção da sobrescrita:</p>\n",
    "<code>\n",
    "def ligar(self):\n",
    "# Este método não deve ser sobrescrito.\n",
    "    self.__is_ligado = True\n",
    "</code>\n",
    "<p>Podemos pensar que é uma falha do Python, porém temos que nos acostumar com a filosofia da linguagem que é dar liberdade aos programadores. Sendo assim, todos os programadores de um projeto precisam conhecer as características da linguagem.</p>"
   ]
  },
  {
   "cell_type": "markdown",
   "metadata": {},
   "source": [
    "<h3>Python e Duck-Typing</h3>"
   ]
  },
  {
   "cell_type": "markdown",
   "metadata": {},
   "source": [
    "<p>\n",
    "\n",
    "Diferente das linguagens estáticas, o Python não fornece um meio explícito de implementar interfaces. Normalmente, em linguagens voltadas essencialmente ao paradigma OO, temos uma palavra reservada que determina que uma classe é uma interface. No Java, por exemplo, quando queremos determinar que uma classe é uma interface, utilizamos a palavra reservada Interface e nela definimos todos os métodos que queremos que uma classe implemente, caso essa implemente a interface definida.\n",
    "\n",
    "No Python, assim como as outras linguagens de tipagem dinâmicas, utiliza um conceito chamado duck-typing. Basicamente, o duck-typing define que uma classe não precisa implementar uma determinada interface para que ela seja considerada de um tipo específico. Há uma citação bem famosa para explicar esse modelo: \"Se um objeto anda como um pato e faz \"quack\" como um pato então ele é um pato\".\n",
    "\n",
    "Sendo assim, se temos um objeto do tipo conta e um objeto do tipo venda e ambos implementam o método cancela(), pouco importa se eles implementam uma interface que exige a implementação do método cancela. O que importa é que quando eu chamar o método cancela() através dos seus objetos, esse método será chamado.\n",
    "\n",
    "Nas próximas aulas veremos como utilizar este conceito para implementar o conceito de interfaces de forma dinâmica no Python.\n",
    "</p>"
   ]
  }
 ],
 "metadata": {
  "kernelspec": {
   "display_name": "Python 3",
   "language": "python",
   "name": "python3"
  },
  "language_info": {
   "codemirror_mode": {
    "name": "ipython",
    "version": 3
   },
   "file_extension": ".py",
   "mimetype": "text/x-python",
   "name": "python",
   "nbconvert_exporter": "python",
   "pygments_lexer": "ipython3",
   "version": "3.7.0"
  }
 },
 "nbformat": 4,
 "nbformat_minor": 2
}

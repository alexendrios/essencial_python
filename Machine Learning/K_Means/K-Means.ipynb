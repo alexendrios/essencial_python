{
 "cells": [
  {
   "cell_type": "markdown",
   "metadata": {},
   "source": [
    "<font color='blue' size=30><b><h1>K-Means</h1></b></font>"
   ]
  },
  {
   "cell_type": "markdown",
   "metadata": {},
   "source": [
    "<p> \n",
    "    O K-médias é um algoritmo de agrupamento iterativo que:\n",
    "    Classifica objectos num determinado número prédefinido K de grupos (clusters). \n",
    "    Tem como função de classificação a distância do objecto ao centro do grupo (centróide).\n",
    "</p>"
   ]
  },
  {
   "cell_type": "markdown",
   "metadata": {},
   "source": [
    "<img src='k_means.jpg'>k-means</img>"
   ]
  },
  {
   "cell_type": "code",
   "execution_count": 4,
   "metadata": {},
   "outputs": [],
   "source": [
    "import pandas as pd\n",
    "import numpy as np\n",
    "import matplotlib.pyplot as plt\n",
    "import seaborn as sns\n",
    "from sklearn.model_selection import train_test_split"
   ]
  },
  {
   "cell_type": "code",
   "execution_count": 5,
   "metadata": {},
   "outputs": [],
   "source": [
    "from sklearn.datasets import make_blobs"
   ]
  },
  {
   "cell_type": "code",
   "execution_count": 6,
   "metadata": {},
   "outputs": [],
   "source": [
    "df = make_blobs(n_samples=200, n_features=2, centers=4)"
   ]
  },
  {
   "cell_type": "code",
   "execution_count": 7,
   "metadata": {},
   "outputs": [
    {
     "data": {
      "text/plain": [
       "(array([[ 2.71068241, 10.08095991],\n",
       "        [ 0.95074501, -4.71184781],\n",
       "        [-3.30183746,  9.56009577],\n",
       "        [ 3.40091844, -6.39521684],\n",
       "        [ 3.37391886, -8.32625585],\n",
       "        [-4.02207588,  9.44678848],\n",
       "        [ 1.78703333, -6.30333534],\n",
       "        [ 2.01848131, -7.73377556],\n",
       "        [ 3.45288338, -7.63446174],\n",
       "        [ 4.5576551 ,  9.6065229 ],\n",
       "        [ 0.60399575, -6.61863253],\n",
       "        [-3.56591586,  8.64877234],\n",
       "        [-4.02705451,  9.21514005],\n",
       "        [ 1.75252964, -7.00562256],\n",
       "        [-1.21489964, -6.68265717],\n",
       "        [ 2.19876222, -6.3104251 ],\n",
       "        [-3.70793707,  9.38292722],\n",
       "        [ 2.7495103 , -6.52642953],\n",
       "        [ 3.45971059,  9.72458836],\n",
       "        [ 3.57364594, 12.25009443],\n",
       "        [ 3.85338715, -6.74121047],\n",
       "        [-0.90929522,  9.2634326 ],\n",
       "        [ 5.432453  ,  9.52427081],\n",
       "        [ 2.36815848, -6.28917504],\n",
       "        [ 2.86022658, -6.94854845],\n",
       "        [ 0.95562489, -7.71963464],\n",
       "        [-3.83100468, 10.02427786],\n",
       "        [ 2.77909912, -6.15059589],\n",
       "        [ 5.71056009, 10.23418589],\n",
       "        [-3.67619783,  7.94738118],\n",
       "        [-4.41321867,  8.58190051],\n",
       "        [ 2.91837141, -5.59390889],\n",
       "        [-2.9564938 ,  7.757951  ],\n",
       "        [ 5.47600052, -7.40850033],\n",
       "        [ 2.98044909,  9.00127318],\n",
       "        [ 0.87641065, -6.70553614],\n",
       "        [ 3.12135992, -7.24689408],\n",
       "        [ 3.07307832, -5.97325403],\n",
       "        [-2.79938771,  8.12943422],\n",
       "        [ 0.04439133, -4.97663907],\n",
       "        [ 6.19379731,  9.2871234 ],\n",
       "        [ 0.09615238, -8.09447563],\n",
       "        [-2.61355531,  8.22883543],\n",
       "        [ 4.73940312,  9.69730761],\n",
       "        [ 2.16796427, -7.05372429],\n",
       "        [-5.14360412,  9.81907   ],\n",
       "        [-3.18074754,  8.02907928],\n",
       "        [ 2.49667221, -5.41712393],\n",
       "        [ 1.85505361, -5.30913997],\n",
       "        [ 0.88350959, -6.0297929 ],\n",
       "        [ 3.05294854, -5.87240992],\n",
       "        [ 4.48680414,  8.43654743],\n",
       "        [ 4.20892258,  8.45783597],\n",
       "        [ 3.48972566, -4.83974615],\n",
       "        [-0.1427135 , -7.285339  ],\n",
       "        [-1.77327935, -6.18031965],\n",
       "        [ 4.63050637,  8.20063993],\n",
       "        [ 3.42440264, -6.05201577],\n",
       "        [ 4.98766587, 10.00605579],\n",
       "        [-2.85719798,  6.98899637],\n",
       "        [-3.41991804, 10.04249361],\n",
       "        [ 4.43133267,  9.51611809],\n",
       "        [ 0.66491128, -7.89313746],\n",
       "        [-2.44311053,  7.98551974],\n",
       "        [ 3.59167391, -4.88598149],\n",
       "        [ 2.18035699, -6.26798132],\n",
       "        [-2.61031066,  8.74266403],\n",
       "        [ 1.76868909, -5.95903021],\n",
       "        [ 0.82705128, -6.65325171],\n",
       "        [ 4.93047962,  8.38714545],\n",
       "        [ 0.95951768, -7.26444951],\n",
       "        [-3.76876882,  9.32126718],\n",
       "        [ 4.07368433,  9.96705874],\n",
       "        [ 3.54994229, -5.72304362],\n",
       "        [ 2.84051379,  8.24976405],\n",
       "        [ 1.77982357, -5.28552875],\n",
       "        [ 3.5584708 ,  9.32784413],\n",
       "        [-3.27404799,  7.08730338],\n",
       "        [ 2.60125084,  9.15180629],\n",
       "        [-5.46808127,  7.27141657],\n",
       "        [-2.4366458 ,  7.79681678],\n",
       "        [ 1.27446901, -4.39881684],\n",
       "        [-2.23751053,  8.12525143],\n",
       "        [ 4.07571396, -7.95172125],\n",
       "        [-1.61867066, 10.21209693],\n",
       "        [ 0.54757328, -6.42259631],\n",
       "        [ 1.89621748, -6.222799  ],\n",
       "        [ 3.40812056, -6.26966721],\n",
       "        [ 0.19031807, -4.81341368],\n",
       "        [ 3.41768483, -7.20037118],\n",
       "        [ 4.07066156, -5.70183683],\n",
       "        [ 2.73145606, -5.05537853],\n",
       "        [-2.305852  ,  8.72486091],\n",
       "        [ 3.32013862,  9.63701495],\n",
       "        [ 6.09538185, 10.41715763],\n",
       "        [-4.16200272, 11.04689176],\n",
       "        [ 4.85496213,  9.32668102],\n",
       "        [ 3.72883179,  7.75492988],\n",
       "        [ 0.11853165, -5.96698132],\n",
       "        [ 4.43970786, -6.2934596 ],\n",
       "        [-0.14181064, -6.70379941],\n",
       "        [ 0.43832061, -5.79533109],\n",
       "        [-4.56672126,  6.04887979],\n",
       "        [ 3.35607195,  7.30074797],\n",
       "        [-2.98166685,  8.0859725 ],\n",
       "        [ 5.00539965,  9.83518948],\n",
       "        [-3.8069193 , 10.56512853],\n",
       "        [ 3.6037121 , -6.26149249],\n",
       "        [-0.12415314, -6.13861283],\n",
       "        [ 0.16014622, -6.5587158 ],\n",
       "        [ 0.31184185, -5.29411504],\n",
       "        [-1.11412933, -6.10704711],\n",
       "        [ 3.17436505,  9.30449868],\n",
       "        [-2.63523252,  9.18846747],\n",
       "        [ 4.7857694 ,  7.19122818],\n",
       "        [-2.55267938,  9.45538801],\n",
       "        [ 3.75652085,  7.84877384],\n",
       "        [ 4.94612605, 10.47463227],\n",
       "        [-3.06883988,  9.26466452],\n",
       "        [-5.15991341,  7.41650824],\n",
       "        [ 2.1252756 , -7.04400408],\n",
       "        [ 0.51172533, -6.24083543],\n",
       "        [-1.5434473 ,  9.70483057],\n",
       "        [ 3.55140322, -3.87179855],\n",
       "        [ 6.67165504, 10.35955183],\n",
       "        [-2.7393736 ,  6.66136051],\n",
       "        [ 3.49918182,  8.10285668],\n",
       "        [ 4.61387402, -5.78576271],\n",
       "        [ 3.49770535,  8.72424594],\n",
       "        [ 3.5189001 , -7.1069397 ],\n",
       "        [ 1.68388379, -4.75270002],\n",
       "        [ 3.60575568, -5.37520796],\n",
       "        [ 0.58670767, -6.22547884],\n",
       "        [ 2.10160008, -5.60665793],\n",
       "        [ 5.28885959, 10.35250072],\n",
       "        [ 5.045045  , -6.0325032 ],\n",
       "        [ 1.4825833 , -6.34636509],\n",
       "        [-1.11063982, -7.31672503],\n",
       "        [ 0.95337291, -5.9123408 ],\n",
       "        [ 4.34067545,  7.66789982],\n",
       "        [ 3.16799644, -4.79588822],\n",
       "        [ 4.99583943,  8.39713353],\n",
       "        [-2.71665968,  8.94170478],\n",
       "        [ 4.33895518, -7.38591165],\n",
       "        [-4.61875703, 10.07127005],\n",
       "        [-2.55769728,  9.03647133],\n",
       "        [ 3.19829237, -6.35083207],\n",
       "        [-3.15269595,  9.00084883],\n",
       "        [ 2.41213322, -6.77397215],\n",
       "        [ 3.89019601,  9.15114631],\n",
       "        [ 2.25307513, -6.95242344],\n",
       "        [ 0.19427835, -6.74309518],\n",
       "        [ 0.81503027, -6.6430046 ],\n",
       "        [ 3.47026747, -6.61159248],\n",
       "        [ 0.27164505, -6.04102427],\n",
       "        [ 5.1842144 , 10.00973465],\n",
       "        [-2.93906405,  8.15015188],\n",
       "        [ 3.50148468, -7.05362161],\n",
       "        [ 1.87348384, -6.87118613],\n",
       "        [-3.04905977, 10.01117814],\n",
       "        [ 0.76336396, -5.85714311],\n",
       "        [ 2.57680965,  9.49846534],\n",
       "        [ 3.08961063,  9.91387998],\n",
       "        [-4.6259207 ,  9.36813117],\n",
       "        [-3.3329645 ,  6.55607777],\n",
       "        [ 3.60566015, -4.91057878],\n",
       "        [ 4.11773874, -6.7262257 ],\n",
       "        [-3.61127873,  7.12133101],\n",
       "        [ 1.61415028, -6.07240615],\n",
       "        [ 3.58488046,  9.02483542],\n",
       "        [ 4.44949969,  8.24963598],\n",
       "        [ 3.62671355, 10.26021159],\n",
       "        [-4.01236025,  8.79423686],\n",
       "        [-0.33693034, -5.97736574],\n",
       "        [ 4.87406469,  9.81976926],\n",
       "        [ 4.01139456,  8.66179808],\n",
       "        [ 4.79945676,  8.76605526],\n",
       "        [-3.4827725 ,  9.58680287],\n",
       "        [ 1.43988866, -7.03730319],\n",
       "        [ 3.85590504, -6.30838474],\n",
       "        [ 0.46385368, -5.14403521],\n",
       "        [-2.73946411,  8.91982183],\n",
       "        [-3.50636227,  9.14973824],\n",
       "        [-0.03245281, -6.26806548],\n",
       "        [ 4.86762364,  9.4741616 ],\n",
       "        [ 3.97759952, -5.20452627],\n",
       "        [ 3.10251816, -5.93610449],\n",
       "        [ 3.53083831, -6.06495215],\n",
       "        [-5.38247089,  9.11418053],\n",
       "        [-3.78559196,  9.45280028],\n",
       "        [ 3.79755215,  9.05608691],\n",
       "        [ 3.39525958,  9.28834223],\n",
       "        [ 1.48040564, -5.93570253],\n",
       "        [ 1.79228958, -7.02187255],\n",
       "        [ 3.59475117,  7.84033678],\n",
       "        [ 3.76371169, -6.14543633],\n",
       "        [ 3.34749734,  8.49432425],\n",
       "        [ 3.46454076, -7.02819042],\n",
       "        [ 1.81905224, -7.50342045],\n",
       "        [ 0.57145128, -6.0786837 ]]),\n",
       " array([0, 1, 2, 1, 1, 2, 1, 3, 1, 0, 3, 2, 2, 3, 3, 1, 2, 1, 0, 0, 1, 2,\n",
       "        0, 1, 3, 3, 2, 1, 0, 2, 2, 1, 2, 1, 0, 3, 1, 1, 2, 3, 0, 3, 2, 0,\n",
       "        1, 2, 2, 1, 3, 3, 3, 0, 0, 1, 3, 3, 0, 1, 0, 2, 2, 0, 3, 2, 1, 3,\n",
       "        2, 3, 3, 0, 3, 2, 0, 1, 0, 3, 0, 2, 0, 2, 2, 1, 2, 1, 2, 3, 3, 1,\n",
       "        3, 1, 1, 1, 2, 0, 0, 2, 0, 0, 3, 1, 3, 3, 2, 0, 2, 0, 2, 1, 3, 3,\n",
       "        3, 3, 0, 2, 0, 2, 0, 0, 2, 2, 3, 3, 2, 1, 0, 2, 0, 1, 0, 1, 3, 1,\n",
       "        3, 1, 0, 1, 3, 3, 3, 0, 1, 0, 2, 1, 2, 2, 1, 2, 3, 0, 1, 3, 3, 1,\n",
       "        3, 0, 2, 1, 3, 2, 3, 0, 0, 2, 2, 1, 1, 2, 3, 0, 0, 0, 2, 3, 0, 0,\n",
       "        0, 2, 3, 1, 3, 2, 2, 3, 0, 1, 1, 1, 2, 2, 0, 0, 3, 1, 0, 1, 0, 1,\n",
       "        1, 3]))"
      ]
     },
     "execution_count": 7,
     "metadata": {},
     "output_type": "execute_result"
    }
   ],
   "source": [
    "df"
   ]
  },
  {
   "cell_type": "code",
   "execution_count": 11,
   "metadata": {},
   "outputs": [
    {
     "data": {
      "text/plain": [
       "<matplotlib.collections.PathCollection at 0x13db90f01d0>"
      ]
     },
     "execution_count": 11,
     "metadata": {},
     "output_type": "execute_result"
    },
    {
     "data": {
      "image/png": "[encoded data removed]",
      "text/plain": [
       "<Figure size 432x288 with 1 Axes>"
      ]
     },
     "metadata": {
      "needs_background": "light"
     },
     "output_type": "display_data"
    }
   ],
   "source": [
    "plt.scatter(df[0][:,0], df[0][:,1])"
   ]
  },
  {
   "cell_type": "code",
   "execution_count": 12,
   "metadata": {},
   "outputs": [],
   "source": [
    "from sklearn.cluster import KMeans"
   ]
  },
  {
   "cell_type": "code",
   "execution_count": 14,
   "metadata": {},
   "outputs": [],
   "source": [
    "model = KMeans(n_clusters=4)"
   ]
  },
  {
   "cell_type": "code",
   "execution_count": 15,
   "metadata": {},
   "outputs": [
    {
     "data": {
      "text/plain": [
       "KMeans(algorithm='auto', copy_x=True, init='k-means++', max_iter=300,\n",
       "    n_clusters=4, n_init=10, n_jobs=None, precompute_distances='auto',\n",
       "    random_state=None, tol=0.0001, verbose=0)"
      ]
     },
     "execution_count": 15,
     "metadata": {},
     "output_type": "execute_result"
    }
   ],
   "source": [
    "model.fit(df[0])"
   ]
  },
  {
   "cell_type": "code",
   "execution_count": 16,
   "metadata": {},
   "outputs": [
    {
     "data": {
      "text/plain": [
       "array([[ 3.32681314, -6.29796314],\n",
       "       [-3.34636712,  8.74093221],\n",
       "       [ 4.21029992,  9.18621937],\n",
       "       [ 0.67487785, -6.26712963]])"
      ]
     },
     "execution_count": 16,
     "metadata": {},
     "output_type": "execute_result"
    }
   ],
   "source": [
    "model.cluster_centers_"
   ]
  },
  {
   "cell_type": "code",
   "execution_count": 17,
   "metadata": {},
   "outputs": [
    {
     "data": {
      "text/plain": [
       "array([2, 3, 1, 0, 0, 1, 3, 0, 0, 2, 3, 1, 1, 3, 3, 0, 1, 0, 2, 2, 0, 1,\n",
       "       2, 0, 0, 3, 1, 0, 2, 1, 1, 0, 1, 0, 2, 3, 0, 0, 1, 3, 2, 3, 1, 2,\n",
       "       0, 1, 1, 0, 3, 3, 0, 2, 2, 0, 3, 3, 2, 0, 2, 1, 1, 2, 3, 1, 0, 0,\n",
       "       1, 3, 3, 2, 3, 1, 2, 0, 2, 3, 2, 1, 2, 1, 1, 3, 1, 0, 1, 3, 3, 0,\n",
       "       3, 0, 0, 0, 1, 2, 2, 1, 2, 2, 3, 0, 3, 3, 1, 2, 1, 2, 1, 0, 3, 3,\n",
       "       3, 3, 2, 1, 2, 1, 2, 2, 1, 1, 0, 3, 1, 0, 2, 1, 2, 0, 2, 0, 3, 0,\n",
       "       3, 0, 2, 0, 3, 3, 3, 2, 0, 2, 1, 0, 1, 1, 0, 1, 0, 2, 0, 3, 3, 0,\n",
       "       3, 2, 1, 0, 3, 1, 3, 2, 2, 1, 1, 0, 0, 1, 3, 2, 2, 2, 1, 3, 2, 2,\n",
       "       2, 1, 3, 0, 3, 1, 1, 3, 2, 0, 0, 0, 1, 1, 2, 2, 3, 3, 2, 0, 2, 0,\n",
       "       3, 3])"
      ]
     },
     "execution_count": 17,
     "metadata": {},
     "output_type": "execute_result"
    }
   ],
   "source": [
    "model.labels_"
   ]
  },
  {
   "cell_type": "code",
   "execution_count": 22,
   "metadata": {},
   "outputs": [
    {
     "data": {
      "text/plain": [
       "Text(0.5, 1.0, 'Dados Originais')"
      ]
     },
     "execution_count": 22,
     "metadata": {},
     "output_type": "execute_result"
    },
    {
     "data": {
      "image/png": "[encoded data removed]",
      "text/plain": [
       "<Figure size 864x288 with 2 Axes>"
      ]
     },
     "metadata": {
      "needs_background": "light"
     },
     "output_type": "display_data"
    }
   ],
   "source": [
    "fig, (ax1, ax2) = plt.subplots(1,2, figsize=(12,4))\n",
    "\n",
    "ax1.scatter(df[0][:,0], df[0][:,1], c=model.labels_)\n",
    "ax1.set_title('Algorítmo de K-means')\n",
    "\n",
    "ax2.scatter(df[0][:,0], df[0][:,1], c=df[1])\n",
    "ax2.set_title('Dados Originais')"
   ]
  },
  {
   "cell_type": "code",
   "execution_count": null,
   "metadata": {},
   "outputs": [],
   "source": []
  }
 ],
 "metadata": {
  "kernelspec": {
   "display_name": "Python 3",
   "language": "python",
   "name": "python3"
  },
  "language_info": {
   "codemirror_mode": {
    "name": "ipython",
    "version": 3
   },
   "file_extension": ".py",
   "mimetype": "text/x-python",
   "name": "python",
   "nbconvert_exporter": "python",
   "pygments_lexer": "ipython3",
   "version": "3.7.3"
  }
 },
 "nbformat": 4,
 "nbformat_minor": 2
}

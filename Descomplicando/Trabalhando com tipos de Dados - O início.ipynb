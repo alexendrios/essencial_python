{
 "cells": [
  {
   "cell_type": "code",
   "execution_count": 2,
   "metadata": {},
   "outputs": [
    {
     "data": {
      "text/plain": [
       "'Dados de Acesso dos Clientes\\n01/02/2017 \"3345.878.00\"\\n02/02/2017 \"5.00\"\\n03/02/2017 \"4.7800.00\"\\n04/02/2017 \"10.800.00\"'"
      ]
     },
     "execution_count": 2,
     "metadata": {},
     "output_type": "execute_result"
    }
   ],
   "source": [
    "#Definindo uma string \n",
    "expr = '''Dados de Acesso dos Clientes\n",
    "01/02/2017 \"3345.878.00\"\n",
    "02/02/2017 \"5.00\"\n",
    "03/02/2017 \"4.7800.00\"\n",
    "04/02/2017 \"10.800.00\"'''\n",
    "\n",
    "expr"
   ]
  },
  {
   "cell_type": "code",
   "execution_count": 19,
   "metadata": {},
   "outputs": [],
   "source": [
    "#Retirando o cabeçaljo da String e transformando os dados em uma lista\n",
    "dados_acesso = expr[29:]\n",
    "df = dados_acesso.split()"
   ]
  },
  {
   "cell_type": "code",
   "execution_count": 20,
   "metadata": {},
   "outputs": [
    {
     "name": "stdout",
     "output_type": "stream",
     "text": [
      "01/02/2017 \"3345.878.00\"\n"
     ]
    }
   ],
   "source": [
    "#Acessando o Primeiro Registro\n",
    "data = df[0]\n",
    "acesso = df[1]\n",
    "\n",
    "print(data + \" \" + acesso)"
   ]
  },
  {
   "cell_type": "markdown",
   "metadata": {},
   "source": [
    "<h1>Listas</h1>"
   ]
  },
  {
   "cell_type": "code",
   "execution_count": 46,
   "metadata": {},
   "outputs": [
    {
     "data": {
      "text/plain": [
       "list"
      ]
     },
     "execution_count": 46,
     "metadata": {},
     "output_type": "execute_result"
    }
   ],
   "source": [
    "#Criando uma Lista\n",
    "lita = []\n",
    "lista = list([])\n",
    "lista = [\"Arroz\", \"Feijão\", \"Café\"]\n",
    "type(lista)"
   ]
  },
  {
   "cell_type": "code",
   "execution_count": 47,
   "metadata": {},
   "outputs": [],
   "source": [
    "#adicionando um elemento\n",
    "lista.append(\"Carne\")"
   ]
  },
  {
   "cell_type": "code",
   "execution_count": 48,
   "metadata": {},
   "outputs": [
    {
     "data": {
      "text/plain": [
       "['Arroz', 'Feijão', 'Café', 'Carne', 'Leite', 'Macarrão', 'Açúcar']"
      ]
     },
     "execution_count": 48,
     "metadata": {},
     "output_type": "execute_result"
    }
   ],
   "source": [
    "#extedendo uma lista\n",
    "lista.extend([\"Leite\", \"Macarrão\", \"Açúcar\"])\n",
    "lista"
   ]
  },
  {
   "cell_type": "code",
   "execution_count": 49,
   "metadata": {},
   "outputs": [
    {
     "data": {
      "text/plain": [
       "['Feijão', 'Café', 'Carne', 'Leite', 'Açúcar']"
      ]
     },
     "execution_count": 49,
     "metadata": {},
     "output_type": "execute_result"
    }
   ],
   "source": [
    "#deletando um elemento pela posição\n",
    "del lista[::5]\n",
    "lista"
   ]
  },
  {
   "cell_type": "code",
   "execution_count": 50,
   "metadata": {},
   "outputs": [
    {
     "data": {
      "text/plain": [
       "['Feijão', 'Carne', 'Leite', 'Açúcar']"
      ]
     },
     "execution_count": 50,
     "metadata": {},
     "output_type": "execute_result"
    }
   ],
   "source": [
    "#deletando por um valor específico\n",
    "\n",
    "lista.remove('Café')\n",
    "lista"
   ]
  },
  {
   "cell_type": "code",
   "execution_count": 51,
   "metadata": {},
   "outputs": [
    {
     "data": {
      "text/plain": [
       "['Feijão', 'Carne', 'Leite']"
      ]
     },
     "execution_count": 51,
     "metadata": {},
     "output_type": "execute_result"
    }
   ],
   "source": [
    "#Remove o último elemento de uma lista, como se fosse uma pilha\n",
    "lista.pop()\n",
    "lista"
   ]
  },
  {
   "cell_type": "code",
   "execution_count": 52,
   "metadata": {},
   "outputs": [
    {
     "data": {
      "text/plain": [
       "['Feijão', 'Leite']"
      ]
     },
     "execution_count": 52,
     "metadata": {},
     "output_type": "execute_result"
    }
   ],
   "source": [
    "#Removendo um elemento utilizando o método pop passando um index\n",
    "lista.pop(1)\n",
    "lista"
   ]
  },
  {
   "cell_type": "markdown",
   "metadata": {},
   "source": [
    "<h1>Sets</h1>"
   ]
  },
  {
   "cell_type": "code",
   "execution_count": 55,
   "metadata": {},
   "outputs": [
    {
     "data": {
      "text/plain": [
       "{'Ana', 'Camila', 'José', 'Pedro'}"
      ]
     },
     "execution_count": 55,
     "metadata": {},
     "output_type": "execute_result"
    }
   ],
   "source": [
    "#Os sets são conjuntos únicos\n",
    "#criando um sets\n",
    "dados = set()\n",
    "dados = {\"Ana\", \"Pedro\", \"José\", \"José\", \"Camila\"}\n",
    "dados"
   ]
  },
  {
   "cell_type": "code",
   "execution_count": 56,
   "metadata": {},
   "outputs": [
    {
     "data": {
      "text/plain": [
       "set"
      ]
     },
     "execution_count": 56,
     "metadata": {},
     "output_type": "execute_result"
    }
   ],
   "source": [
    "type(dados)"
   ]
  },
  {
   "cell_type": "code",
   "execution_count": 57,
   "metadata": {},
   "outputs": [
    {
     "ename": "TypeError",
     "evalue": "'set' object does not support indexing",
     "output_type": "error",
     "traceback": [
      "\u001b[1;31m---------------------------------------------------------------------------\u001b[0m",
      "\u001b[1;31mTypeError\u001b[0m                                 Traceback (most recent call last)",
      "\u001b[1;32m<ipython-input-57-18ffd5139dbe>\u001b[0m in \u001b[0;36m<module>\u001b[1;34m()\u001b[0m\n\u001b[0;32m      1\u001b[0m \u001b[1;31m#O set não aceita indexação\u001b[0m\u001b[1;33m\u001b[0m\u001b[1;33m\u001b[0m\u001b[0m\n\u001b[1;32m----> 2\u001b[1;33m \u001b[0mdados\u001b[0m\u001b[1;33m[\u001b[0m\u001b[1;36m0\u001b[0m\u001b[1;33m]\u001b[0m\u001b[1;33m\u001b[0m\u001b[0m\n\u001b[0m",
      "\u001b[1;31mTypeError\u001b[0m: 'set' object does not support indexing"
     ]
    }
   ],
   "source": [
    "#O set não aceita indexação\n",
    "dados[0]"
   ]
  },
  {
   "cell_type": "code",
   "execution_count": 65,
   "metadata": {},
   "outputs": [],
   "source": [
    "engenheiros = set([\"Ana\", \"Pedro\", \"José\"])\n",
    "programadores = set([\"Ana\", \"Pedro\", \"José\", \"Ricardo\", \"Guilherme\"])\n",
    "gerentes = set([\"Ana\", \"Pedro\", \"Guilherme\"])"
   ]
  },
  {
   "cell_type": "code",
   "execution_count": 66,
   "metadata": {},
   "outputs": [
    {
     "data": {
      "text/plain": [
       "{'Ana', 'Guilherme', 'José', 'Pedro', 'Ricardo'}"
      ]
     },
     "execution_count": 66,
     "metadata": {},
     "output_type": "execute_result"
    }
   ],
   "source": [
    "#União\n",
    "funcionarios = engenheiros | programadores | gerentes\n",
    "funcionarios"
   ]
  },
  {
   "cell_type": "code",
   "execution_count": 67,
   "metadata": {},
   "outputs": [
    {
     "data": {
      "text/plain": [
       "{'Ana', 'Guilherme', 'Pedro'}"
      ]
     },
     "execution_count": 67,
     "metadata": {},
     "output_type": "execute_result"
    }
   ],
   "source": [
    "#intersecção\n",
    "funcionarios = programadores & gerentes\n",
    "funcionarios"
   ]
  },
  {
   "cell_type": "code",
   "execution_count": 69,
   "metadata": {},
   "outputs": [
    {
     "data": {
      "text/plain": [
       "{'Guilherme', 'Ricardo'}"
      ]
     },
     "execution_count": 69,
     "metadata": {},
     "output_type": "execute_result"
    }
   ],
   "source": [
    "#diferença\n",
    "funcionarios = programadores - engenheiros \n",
    "funcionarios"
   ]
  },
  {
   "cell_type": "markdown",
   "metadata": {},
   "source": [
    "<h1>Tuplas</h1>"
   ]
  },
  {
   "cell_type": "code",
   "execution_count": 71,
   "metadata": {},
   "outputs": [],
   "source": [
    "#Uma tupla não pode ser alterada\n",
    "dados = (\"Carol\", \"Igor\", \"Samuel\")"
   ]
  },
  {
   "cell_type": "code",
   "execution_count": 72,
   "metadata": {},
   "outputs": [
    {
     "data": {
      "text/plain": [
       "'Carol'"
      ]
     },
     "execution_count": 72,
     "metadata": {},
     "output_type": "execute_result"
    }
   ],
   "source": [
    "dados[0]"
   ]
  },
  {
   "cell_type": "code",
   "execution_count": 73,
   "metadata": {},
   "outputs": [
    {
     "ename": "TypeError",
     "evalue": "'tuple' object does not support item assignment",
     "output_type": "error",
     "traceback": [
      "\u001b[1;31m---------------------------------------------------------------------------\u001b[0m",
      "\u001b[1;31mTypeError\u001b[0m                                 Traceback (most recent call last)",
      "\u001b[1;32m<ipython-input-73-4453f0ca35a0>\u001b[0m in \u001b[0;36m<module>\u001b[1;34m()\u001b[0m\n\u001b[0;32m      1\u001b[0m \u001b[1;31m#O valor de uma tupla não pode ser modificada\u001b[0m\u001b[1;33m\u001b[0m\u001b[1;33m\u001b[0m\u001b[0m\n\u001b[1;32m----> 2\u001b[1;33m \u001b[0mdados\u001b[0m\u001b[1;33m[\u001b[0m\u001b[1;36m0\u001b[0m\u001b[1;33m]\u001b[0m \u001b[1;33m=\u001b[0m \u001b[1;34m\"Marcia\"\u001b[0m\u001b[1;33m\u001b[0m\u001b[0m\n\u001b[0m",
      "\u001b[1;31mTypeError\u001b[0m: 'tuple' object does not support item assignment"
     ]
    }
   ],
   "source": [
    "#O valor de uma tupla não pode ser modificada\n",
    "dados[0] = \"Marcia\""
   ]
  },
  {
   "cell_type": "code",
   "execution_count": 77,
   "metadata": {},
   "outputs": [],
   "source": [
    "dados = (\"Carol\", \"Igor\", \"Samuel\", [\"Pedro\", \"Manoel\", \"Camila\"])"
   ]
  },
  {
   "cell_type": "code",
   "execution_count": 80,
   "metadata": {},
   "outputs": [
    {
     "data": {
      "text/plain": [
       "('Carol', 'Igor', 'Samuel', ['Ricardo', 'Manoel', 'Camila'])"
      ]
     },
     "execution_count": 80,
     "metadata": {},
     "output_type": "execute_result"
    }
   ],
   "source": [
    "#Nota - se que posso modificar o valor de um elemento contido em uma lista dentro da tupla\n",
    "dados[3][0]= \"Ricardo\"\n",
    "dados"
   ]
  },
  {
   "cell_type": "markdown",
   "metadata": {},
   "source": [
    "<h1>Dicionários</h1>"
   ]
  },
  {
   "cell_type": "code",
   "execution_count": 12,
   "metadata": {},
   "outputs": [
    {
     "data": {
      "text/plain": [
       "{'cod': '005546', 'Cliente': 'João Aurélio', 'Status': 'Ativo'}"
      ]
     },
     "execution_count": 12,
     "metadata": {},
     "output_type": "execute_result"
    }
   ],
   "source": [
    "dicionario = dict()\n",
    "dicionario = {\"cod\": \"005546\", \"Cliente\": \"João Aurélio\", \"Status\": \"Ativo\"}\n",
    "dicionario"
   ]
  },
  {
   "cell_type": "code",
   "execution_count": 6,
   "metadata": {},
   "outputs": [
    {
     "data": {
      "text/plain": [
       "dict"
      ]
     },
     "execution_count": 6,
     "metadata": {},
     "output_type": "execute_result"
    }
   ],
   "source": [
    "type(dicionario)"
   ]
  },
  {
   "cell_type": "code",
   "execution_count": 7,
   "metadata": {},
   "outputs": [
    {
     "data": {
      "text/plain": [
       "dict_keys(['cod', 'Cliente', 'Status'])"
      ]
     },
     "execution_count": 7,
     "metadata": {},
     "output_type": "execute_result"
    }
   ],
   "source": [
    "#visualizando as chaves de um dicionário\n",
    "dicionario.keys()"
   ]
  },
  {
   "cell_type": "code",
   "execution_count": 8,
   "metadata": {},
   "outputs": [
    {
     "data": {
      "text/plain": [
       "dict_values(['005546', 'João Aurélio', 'Ativo'])"
      ]
     },
     "execution_count": 8,
     "metadata": {},
     "output_type": "execute_result"
    }
   ],
   "source": [
    "#visualizando os valores de um dicionário\n",
    "dicionario.values()"
   ]
  },
  {
   "cell_type": "code",
   "execution_count": 9,
   "metadata": {},
   "outputs": [
    {
     "data": {
      "text/plain": [
       "dict_items([('cod', '005546'), ('Cliente', 'João Aurélio'), ('Status', 'Ativo')])"
      ]
     },
     "execution_count": 9,
     "metadata": {},
     "output_type": "execute_result"
    }
   ],
   "source": [
    "#visualizando os ítens que compõe o dicionário\n",
    "dicionario.items()"
   ]
  },
  {
   "cell_type": "code",
   "execution_count": 16,
   "metadata": {},
   "outputs": [
    {
     "data": {
      "text/plain": [
       "'005546'"
      ]
     },
     "execution_count": 16,
     "metadata": {},
     "output_type": "execute_result"
    }
   ],
   "source": [
    "dicionario[\"cod\"]"
   ]
  },
  {
   "cell_type": "code",
   "execution_count": 18,
   "metadata": {},
   "outputs": [
    {
     "data": {
      "text/plain": [
       "'João Aurélio'"
      ]
     },
     "execution_count": 18,
     "metadata": {},
     "output_type": "execute_result"
    }
   ],
   "source": [
    "dicionario[\"Cliente\"]"
   ]
  },
  {
   "cell_type": "code",
   "execution_count": 20,
   "metadata": {},
   "outputs": [
    {
     "data": {
      "text/plain": [
       "{'cod': '005546', 'Cliente': 'Ana Cláudia', 'Status': 'Ativo'}"
      ]
     },
     "execution_count": 20,
     "metadata": {},
     "output_type": "execute_result"
    }
   ],
   "source": [
    "dicionario[\"Cliente\"] = \"Ana Cláudia\"\n",
    "dicionario"
   ]
  },
  {
   "cell_type": "code",
   "execution_count": 21,
   "metadata": {},
   "outputs": [
    {
     "data": {
      "text/plain": [
       "{'cod': '005546',\n",
       " 'Cliente': 'Ana Cláudia',\n",
       " 'Status': 'Ativo',\n",
       " 'situação': ['Devedor']}"
      ]
     },
     "execution_count": 21,
     "metadata": {},
     "output_type": "execute_result"
    }
   ],
   "source": [
    "dicionario[\"situação\"] = [\"Devedor\"]\n",
    "dicionario"
   ]
  },
  {
   "cell_type": "code",
   "execution_count": 22,
   "metadata": {},
   "outputs": [
    {
     "data": {
      "text/plain": [
       "{'cod': '005546',\n",
       " 'Cliente': 'Ana Cláudia',\n",
       " 'Status': 'Ativo',\n",
       " 'situação': ['Devedor'],\n",
       " 'Disponibilidade': ['Brasilia', 'Goiânia']}"
      ]
     },
     "execution_count": 22,
     "metadata": {},
     "output_type": "execute_result"
    }
   ],
   "source": [
    "dicionario[\"Disponibilidade\"] = [\"Brasilia\", \"Goiânia\"]\n",
    "dicionario"
   ]
  },
  {
   "cell_type": "code",
   "execution_count": 23,
   "metadata": {},
   "outputs": [
    {
     "data": {
      "text/plain": [
       "{'cod': '005546',\n",
       " 'Cliente': 'Ana Cláudia',\n",
       " 'Status': 'Ativo',\n",
       " 'situação': ['Devedor'],\n",
       " 'Disponibilidade': ['Brasilia', 'Minas Gerais']}"
      ]
     },
     "execution_count": 23,
     "metadata": {},
     "output_type": "execute_result"
    }
   ],
   "source": [
    "dicionario[\"Disponibilidade\"][1]= \"Minas Gerais\"\n",
    "dicionario"
   ]
  },
  {
   "cell_type": "code",
   "execution_count": 24,
   "metadata": {},
   "outputs": [
    {
     "data": {
      "text/plain": [
       "{'cod': '005546',\n",
       " 'Cliente': 'Ana Cláudia',\n",
       " 'Status': 'Ativo',\n",
       " 'situação': ['Devedor'],\n",
       " 'Disponibilidade': ['Brasilia', 'Minas Gerais', 'Goiânia']}"
      ]
     },
     "execution_count": 24,
     "metadata": {},
     "output_type": "execute_result"
    }
   ],
   "source": [
    "dicionario['Disponibilidade'].append(\"Goiânia\")\n",
    "dicionario"
   ]
  },
  {
   "cell_type": "code",
   "execution_count": 25,
   "metadata": {},
   "outputs": [
    {
     "name": "stdout",
     "output_type": "stream",
     "text": [
      "Chaves: cod\n",
      "Chaves: Cliente\n",
      "Chaves: Status\n",
      "Chaves: situação\n",
      "Chaves: Disponibilidade\n"
     ]
    }
   ],
   "source": [
    "#A utilização do for para impressão trar somente as chaves\n",
    "\n",
    "for i in dicionario:\n",
    "    print(\"Chaves:\", i)"
   ]
  },
  {
   "cell_type": "code",
   "execution_count": 29,
   "metadata": {},
   "outputs": [
    {
     "name": "stdout",
     "output_type": "stream",
     "text": [
      "Chave cod Valor 005546\n",
      "Chave Cliente Valor Ana Cláudia\n",
      "Chave Status Valor Ativo\n",
      "Chave situação Valor ['Devedor']\n",
      "Chave Disponibilidade Valor ['Brasilia', 'Minas Gerais', 'Goiânia']\n"
     ]
    }
   ],
   "source": [
    "#Utilização do For para Chave Valor\n",
    "for (i, j) in dicionario.items():\n",
    "    print(\"Chave\", i, \"Valor\", j)"
   ]
  },
  {
   "cell_type": "code",
   "execution_count": 30,
   "metadata": {},
   "outputs": [
    {
     "data": {
      "text/plain": [
       "{'Cliente': 'Ana Cláudia',\n",
       " 'Status': 'Ativo',\n",
       " 'situação': ['Devedor'],\n",
       " 'Disponibilidade': ['Brasilia', 'Minas Gerais', 'Goiânia'],\n",
       " 'Matrícula': '005546'}"
      ]
     },
     "execution_count": 30,
     "metadata": {},
     "output_type": "execute_result"
    }
   ],
   "source": [
    "#Trocando o valor de uma chave\n",
    "dicionario[\"Matrícula\"] = dicionario.pop('cod')\n",
    "dicionario"
   ]
  }
 ],
 "metadata": {
  "kernelspec": {
   "display_name": "Python 3",
   "language": "python",
   "name": "python3"
  },
  "language_info": {
   "codemirror_mode": {
    "name": "ipython",
    "version": 3
   },
   "file_extension": ".py",
   "mimetype": "text/x-python",
   "name": "python",
   "nbconvert_exporter": "python",
   "pygments_lexer": "ipython3",
   "version": "3.7.0"
  }
 },
 "nbformat": 4,
 "nbformat_minor": 2
}
